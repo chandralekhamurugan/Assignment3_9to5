{
    "metadata": {
        "kernelspec": {
            "name": "SQL",
            "display_name": "SQL",
            "language": "sql"
        },
        "language_info": {
            "name": "sql",
            "version": ""
        },
        "extensions": {
            "azuredatastudio": {
                "version": 1,
                "views": []
            }
        }
    },
    "nbformat_minor": 2,
    "nbformat": 4,
    "cells": [
        {
            "cell_type": "markdown",
            "source": [
                "# <span style=\"font-size: 20pt; font-family: Montserrat, sans-serif; color: rgb(92, 148, 206); background-color: rgb(255, 255, 255); font-weight: 700; font-variant-east-asian: normal; vertical-align: baseline; white-space: pre-wrap;\">Graded Assignment 3: 9 to 5</span>\n",
                "\n",
                "<span style=\"font-size: 10pt; font-family: &quot;Times New Roman&quot;; color: rgb(102, 102, 102); background-color: rgb(255, 255, 255); font-variant-east-asian: normal; vertical-align: baseline; white-space: pre-wrap;\">Time to show off your SQL skills! For each question, copy the SQL query you used and make note of the answer.</span>\n",
                "\n",
                "## <span style=\"font-size: 12pt; font-family: Montserrat, sans-serif; color: rgb(53, 74, 95); background-color: rgb(255, 255, 255); font-weight: 700; font-variant-east-asian: normal; vertical-align: baseline; white-space: pre-wrap;\">The Dataset</span>\n",
                "\n",
                "<span style=\"font-size: 10pt; font-family: &quot;Times New Roman&quot;; color: rgb(102, 102, 102); background-color: rgb(255, 255, 255); font-variant-east-asian: normal; vertical-align: baseline; white-space: pre-wrap;\">For this assignment, you will be using the Bureau of Labor Statistics (BLS) Current Employment Survey (CES) results which can be found on</span> [<span style=\"font-size: 10pt; font-family: &quot;Times New Roman&quot;; color: rgb(17, 85, 204); background-color: rgb(255, 255, 255); font-variant-east-asian: normal; text-decoration-line: underline; vertical-align: baseline; white-space: pre-wrap;\">Kaggle</span>](https:\\www.kaggle.com\\bls\\employment)<span style=\"font-size: 10pt; font-family: &quot;Times New Roman&quot;; color: rgb(102, 102, 102); background-color: rgb(255, 255, 255); font-variant-east-asian: normal; vertical-align: baseline; white-space: pre-wrap;\">.</span>\n",
                "\n",
                "## <span style=\"font-size: 12pt; font-family: Montserrat, sans-serif; color: rgb(53, 74, 95); background-color: rgb(255, 255, 255); font-weight: 700; font-variant-east-asian: normal; vertical-align: baseline; white-space: pre-wrap;\">Business Issue</span>\n",
                "\n",
                "<span style=\"font-size: 10pt; font-family: &quot;Times New Roman&quot;; color: rgb(102, 102, 102); background-color: rgb(255, 255, 255); font-variant-east-asian: normal; vertical-align: baseline; white-space: pre-wrap;\">You are working for the Bureau of Labor Statistics with the United States government and have been approached by your boss with an important meeting request. You have been asked by your supervisor to meet with Dolly Parton whose nonprofit is looking to shed light on the state of employment in the United States. As part of the 9 to 5 project, their research is focused on production and nonsupervisory employees and how those employees fare compared to all employees in the United States. While the data the BLS collects from the CES is publicly available, Dolly Parton and her colleagues need your assistance navigating the thousands of rows in each table in LaborStatisticsDB.</span>\n",
                "\n",
                "## <span style=\"font-size: 12pt; font-family: Montserrat, sans-serif; color: rgb(53, 74, 95); background-color: rgb(255, 255, 255); font-weight: 700; font-variant-east-asian: normal; vertical-align: baseline; white-space: pre-wrap;\">About the Dataset</span>\n",
                "\n",
                "<span style=\"font-size: 10pt; font-family: &quot;Times New Roman&quot;; color: rgb(102, 102, 102); background-color: rgb(255, 255, 255); font-variant-east-asian: normal; vertical-align: baseline; white-space: pre-wrap;\">This dataset comes directly from the Bureau of Labor Statistics’ Current Employment Survey (CES). Here are some things you need to know:</span>\n",
                "\n",
                "1. <span style=\"font-size: 10pt; background-color: rgb(255, 255, 255); font-variant-east-asian: normal; vertical-align: baseline; white-space: pre-wrap;\">The industry table contains an NAICS code. This is different from the industry code. NAICS stands for North American Industry Classification System.</span>\n",
                "    \n",
                "2. <span style=\"font-size: 10pt; background-color: rgb(255, 255, 255); font-variant-east-asian: normal; vertical-align: baseline; white-space: pre-wrap;\">Series ID is composed of multiple different codes. CES stands for Current Employment Survey, the name of the survey which collected the data. The industry code as specified by the BLS and the data type code as specified in the datatype table.</span>\n",
                "    \n",
                "\n",
                "## <span style=\"font-size: 12pt; font-family: Montserrat, sans-serif; color: rgb(53, 74, 95); background-color: rgb(255, 255, 255); font-weight: 700; font-variant-east-asian: normal; vertical-align: baseline; white-space: pre-wrap;\">Set Up</span>\n",
                "\n",
                "<span style=\"font-size: 10pt; font-family: &quot;Times New Roman&quot;; color: rgb(102, 102, 102); background-color: rgb(255, 255, 255); font-variant-east-asian: normal; vertical-align: baseline; white-space: pre-wrap;\">To connect to the database, use the same connection info used during the SQL lessons.&nbsp;</span>   \n",
                "\n",
                "<span style=\"font-size: 10pt; font-family: &quot;Times New Roman&quot;; color: rgb(102, 102, 102); background-color: rgb(255, 255, 255); font-variant-east-asian: normal; vertical-align: baseline; white-space: pre-wrap;\">For the assignment, we will be using the LaborStatisticsDB database.</span>\n",
                "\n",
                "## <span style=\"font-size: 12pt; font-family: Montserrat, sans-serif; color: rgb(53, 74, 95); background-color: rgb(255, 255, 255); font-weight: 700; font-variant-east-asian: normal; vertical-align: baseline; white-space: pre-wrap;\">Database Exploration</span>\n",
                "\n",
                "<span style=\"font-size: 10pt; font-family: &quot;Times New Roman&quot;; color: rgb(102, 102, 102); background-color: rgb(255, 255, 255); font-variant-east-asian: normal; vertical-align: baseline; white-space: pre-wrap;\">To start with, let’s get to know the database further.</span>\n",
                "\n",
                "1. <span style=\"background-color: rgb(255, 255, 255); color: rgb(102, 102, 102); font-family: &quot;Times New Roman&quot;; font-size: 10pt; white-space: pre-wrap;\">Use this space to make note of each table in the database, the columns within each table, each column’s data type, and how the tables are connected. You can write this down or draw a diagram. Whatever method helps you get an understanding of what is going on with LaborStatisticsDB.</span>\n",
                "\n",
                "          [Launch Code: 9-5 Project](.\\LabourStatisticsDB%20-%20ERD%20with%20colored%20entities%20(UML%20notation).jpeg)"
            ],
            "metadata": {
                "azdata_cell_guid": "28ea70c5-f0be-4197-b6c0-ade22886a708"
            },
            "attachments": {}
        },
        {
            "cell_type": "markdown",
            "source": [
                "To add a photo, diagram or document to your file, drop the file into the folder that holds this notebook.  Use the the link button to the right of the  \\</\\> symbol in the gray part of this cell, the link is just the name of your file."
            ],
            "metadata": {
                "azdata_cell_guid": "62d87e57-006a-4f3d-8dd6-10e284468cf2"
            },
            "attachments": {}
        },
        {
            "cell_type": "markdown",
            "source": [
                "2. <span style=\"background-color: rgb(255, 255, 255); color: rgb(102, 102, 102); font-family: Arvo, serif; font-size: 10pt; white-space: pre-wrap;\">What is the datatype for women employees?</span>"
            ],
            "metadata": {
                "azdata_cell_guid": "01b111b7-baf1-4617-88bc-cd442826c9c9"
            },
            "attachments": {}
        },
        {
            "cell_type": "code",
            "source": [
                "--TINYINT\r\n",
                "\r\n",
                "select data_type_code, data_type_text from LaborStatisticsDB.dbo.datatype\r\n",
                "where data_type_text = 'women employees';\r\n",
                "\r\n",
                ""
            ],
            "metadata": {
                "azdata_cell_guid": "02fa547c-0bb7-4a40-81c2-f5c05154df04",
                "language": "sql"
            },
            "outputs": [
                {
                    "output_type": "display_data",
                    "data": {
                        "text/html": "(1 row affected)"
                    },
                    "metadata": {}
                },
                {
                    "output_type": "display_data",
                    "data": {
                        "text/html": "Total execution time: 00:00:00.041"
                    },
                    "metadata": {}
                },
                {
                    "output_type": "execute_result",
                    "execution_count": 41,
                    "data": {
                        "application/vnd.dataresource+json": {
                            "schema": {
                                "fields": [
                                    {
                                        "name": "data_type_code"
                                    },
                                    {
                                        "name": "data_type_text"
                                    }
                                ]
                            },
                            "data": [
                                {
                                    "0": "10",
                                    "1": "WOMEN EMPLOYEES"
                                }
                            ]
                        },
                        "text/html": "<table><tr><th>data_type_code</th><th>data_type_text</th></tr><tr><td>10</td><td>WOMEN EMPLOYEES</td></tr></table>"
                    },
                    "metadata": {}
                }
            ],
            "execution_count": 41
        },
        {
            "cell_type": "markdown",
            "source": [
                "3. <span style=\"background-color: rgb(255, 255, 255); font-size: 10pt; white-space: pre-wrap; color: rgb(102, 102, 102); font-family: Arvo, serif;\">What is the series id for&nbsp; women employees in the commercial banking industry in the financial activities supersector?</span>"
            ],
            "metadata": {
                "azdata_cell_guid": "325f85cc-9545-47b3-b975-3aab6278e4ea"
            },
            "attachments": {}
        },
        {
            "cell_type": "code",
            "source": [
                "select s.series_id, s.series_title, I.industry_code, I.industry_name, ss.supersector_code, ss.supersector_name from LaborStatisticsDB.dbo.series S \r\n",
                "join LaborStatisticsDB.dbo.supersector  SS on s.supersector_code = ss.supersector_code\r\n",
                "join LaborStatisticsDB.dbo.industry I on S.industry_code = I.industry_code\r\n",
                "where  I.industry_name = 'commercial banking' and ss.supersector_name = 'financial activities'\r\n",
                "and s.series_title = 'women employees'\r\n",
                ""
            ],
            "metadata": {
                "azdata_cell_guid": "1315af1f-45f8-457d-8bbe-8e9f46303fca",
                "language": "sql"
            },
            "outputs": [
                {
                    "output_type": "display_data",
                    "data": {
                        "text/html": "(2 rows affected)"
                    },
                    "metadata": {}
                },
                {
                    "output_type": "display_data",
                    "data": {
                        "text/html": "Total execution time: 00:00:00.046"
                    },
                    "metadata": {}
                },
                {
                    "output_type": "execute_result",
                    "execution_count": 8,
                    "data": {
                        "application/vnd.dataresource+json": {
                            "schema": {
                                "fields": [
                                    {
                                        "name": "series_id"
                                    },
                                    {
                                        "name": "series_title"
                                    },
                                    {
                                        "name": "industry_code"
                                    },
                                    {
                                        "name": "industry_name"
                                    },
                                    {
                                        "name": "supersector_code"
                                    },
                                    {
                                        "name": "supersector_name"
                                    }
                                ]
                            },
                            "data": [
                                {
                                    "0": "CES5552211010",
                                    "1": "Women employees",
                                    "2": "55522110",
                                    "3": "Commercial banking",
                                    "4": "55",
                                    "5": "Financial activities"
                                },
                                {
                                    "0": "CEU5552211010",
                                    "1": "Women employees",
                                    "2": "55522110",
                                    "3": "Commercial banking",
                                    "4": "55",
                                    "5": "Financial activities"
                                }
                            ]
                        },
                        "text/html": "<table><tr><th>series_id</th><th>series_title</th><th>industry_code</th><th>industry_name</th><th>supersector_code</th><th>supersector_name</th></tr><tr><td>CES5552211010</td><td>Women employees</td><td>55522110</td><td>Commercial banking</td><td>55</td><td>Financial activities</td></tr><tr><td>CEU5552211010</td><td>Women employees</td><td>55522110</td><td>Commercial banking</td><td>55</td><td>Financial activities</td></tr></table>"
                    },
                    "metadata": {}
                }
            ],
            "execution_count": 8
        },
        {
            "cell_type": "markdown",
            "source": [
                "## <span style=\"font-size: 12pt; font-family: Montserrat, sans-serif; color: rgb(53, 74, 95); background-color: rgb(255, 255, 255); font-weight: 700; font-variant-numeric: normal; font-variant-east-asian: normal; vertical-align: baseline; white-space: pre-wrap;\">Join in on the Fun</span>\n",
                "\n",
                "<span style=\"font-size: 10pt; font-family: Arvo, serif; color: rgb(102, 102, 102); background-color: rgb(255, 255, 255); font-variant-numeric: normal; font-variant-east-asian: normal; vertical-align: baseline; white-space: pre-wrap;\">Time to start joining! You can choose the type of join you use, just make sure to make a&nbsp; note!</span>\n",
                "\n",
                "1. <span style=\"background-color: rgb(255, 255, 255); font-size: 10pt; white-space: pre-wrap; color: rgb(102, 102, 102); font-family: Arvo, serif;\">Join&nbsp; annual_2016 with series on series_id. We only want the data in the annual_2016 table to be included in the result.</span>"
            ],
            "metadata": {
                "azdata_cell_guid": "ec1dfc63-ad41-4349-8c26-1d326ace8c6c"
            },
            "attachments": {}
        },
        {
            "cell_type": "code",
            "source": [
                "select A.id, A.series_id, A.[year], A.[period], A.[value], A.footnote_codes, A.original_file \r\n",
                "from LaborStatisticsDB.dbo.annual_2016 as A \r\n",
                "inner join LaborStatisticsDB.dbo.series as S \r\n",
                "on a.series_id = s.series_id\r\n",
                "where A.id < 10  --I'm adding this where clause to reduce the file size"
            ],
            "metadata": {
                "azdata_cell_guid": "546c1db2-e5b8-4050-a245-b32bbad0acdd",
                "language": "sql"
            },
            "outputs": [
{
    "output_type": "display_data",
    "data": {
        "text/html": "(10 rows affected)"
    },
    "metadata": {}
}, {
    "output_type": "display_data",
    "data": {
        "text/html": "Total execution time: 00:00:00.279"
    },
    "metadata": {}
}, {
    "output_type": "execute_result",
    "metadata": {},
    "execution_count": 17,
    "data": {
        "application/vnd.dataresource+json": {
            "schema": {
                "fields": [
                    {
                        "name": "id"
                    },
                    {
                        "name": "series_id"
                    },
                    {
                        "name": "year"
                    },
                    {
                        "name": "period"
                    },
                    {
                        "name": "value"
                    },
                    {
                        "name": "footnote_codes"
                    },
                    {
                        "name": "original_file"
                    }
                ]
            },
            "data": [
                {
                    "0": "0",
                    "1": "CEU5500000007",
                    "2": "2016",
                    "3": "M13",
                    "4": "36.9",
                    "5": "NULL",
                    "6": "ce.data.55c.FinancialActivities.ProductionEmployeeHoursAndEarnings.csv"
                },
                {
                    "0": "1",
                    "1": "CEU5500000008",
                    "2": "2016",
                    "3": "M13",
                    "4": "26.11",
                    "5": "NULL",
                    "6": "ce.data.55c.FinancialActivities.ProductionEmployeeHoursAndEarnings.csv"
                },
                {
                    "0": "2",
                    "1": "CEU5500000030",
                    "2": "2016",
                    "3": "M13",
                    "4": "962.73",
                    "5": "NULL",
                    "6": "ce.data.55c.FinancialActivities.ProductionEmployeeHoursAndEarnings.csv"
                },
                {
                    "0": "3",
                    "1": "CEU5500000031",
                    "2": "2016",
                    "3": "M13",
                    "4": "411.29",
                    "5": "NULL",
                    "6": "ce.data.55c.FinancialActivities.ProductionEmployeeHoursAndEarnings.csv"
                },
                {
                    "0": "4",
                    "1": "CEU5500000032",
                    "2": "2016",
                    "3": "M13",
                    "4": "11.15",
                    "5": "NULL",
                    "6": "ce.data.55c.FinancialActivities.ProductionEmployeeHoursAndEarnings.csv"
                },
                {
                    "0": "5",
                    "1": "CEU5500000034",
                    "2": "2016",
                    "3": "M13",
                    "4": "111.6",
                    "5": "NULL",
                    "6": "ce.data.55c.FinancialActivities.ProductionEmployeeHoursAndEarnings.csv"
                },
                {
                    "0": "6",
                    "1": "CEU5500000035",
                    "2": "2016",
                    "3": "M13",
                    "4": "179.2",
                    "5": "NULL",
                    "6": "ce.data.55c.FinancialActivities.ProductionEmployeeHoursAndEarnings.csv"
                },
                {
                    "0": "7",
                    "1": "CEU5500000081",
                    "2": "2016",
                    "3": "M13",
                    "4": "236997",
                    "5": "NULL",
                    "6": "ce.data.55c.FinancialActivities.ProductionEmployeeHoursAndEarnings.csv"
                },
                {
                    "0": "8",
                    "1": "CEU5500000082",
                    "2": "2016",
                    "3": "M13",
                    "4": "6189003",
                    "5": "NULL",
                    "6": "ce.data.55c.FinancialActivities.ProductionEmployeeHoursAndEarnings.csv"
                },
                {
                    "0": "9",
                    "1": "CEU5552200007",
                    "2": "2016",
                    "3": "M13",
                    "4": "37.3",
                    "5": "NULL",
                    "6": "ce.data.55c.FinancialActivities.ProductionEmployeeHoursAndEarnings.csv"
                }
            ]
        },
        "text/html": [
            "<table>",
            "<tr><th>id</th><th>series_id</th><th>year</th><th>period</th><th>value</th><th>footnote_codes</th><th>original_file</th></tr>",
            "<tr><td>0</td><td>CEU5500000007</td><td>2016</td><td>M13</td><td>36.9</td><td>NULL</td><td>ce.data.55c.FinancialActivities.ProductionEmployeeHoursAndEarnings.csv</td></tr>",
            "<tr><td>1</td><td>CEU5500000008</td><td>2016</td><td>M13</td><td>26.11</td><td>NULL</td><td>ce.data.55c.FinancialActivities.ProductionEmployeeHoursAndEarnings.csv</td></tr>",
            "<tr><td>2</td><td>CEU5500000030</td><td>2016</td><td>M13</td><td>962.73</td><td>NULL</td><td>ce.data.55c.FinancialActivities.ProductionEmployeeHoursAndEarnings.csv</td></tr>",
            "<tr><td>3</td><td>CEU5500000031</td><td>2016</td><td>M13</td><td>411.29</td><td>NULL</td><td>ce.data.55c.FinancialActivities.ProductionEmployeeHoursAndEarnings.csv</td></tr>",
            "<tr><td>4</td><td>CEU5500000032</td><td>2016</td><td>M13</td><td>11.15</td><td>NULL</td><td>ce.data.55c.FinancialActivities.ProductionEmployeeHoursAndEarnings.csv</td></tr>",
            "<tr><td>5</td><td>CEU5500000034</td><td>2016</td><td>M13</td><td>111.6</td><td>NULL</td><td>ce.data.55c.FinancialActivities.ProductionEmployeeHoursAndEarnings.csv</td></tr>",
            "<tr><td>6</td><td>CEU5500000035</td><td>2016</td><td>M13</td><td>179.2</td><td>NULL</td><td>ce.data.55c.FinancialActivities.ProductionEmployeeHoursAndEarnings.csv</td></tr>",
            "<tr><td>7</td><td>CEU5500000081</td><td>2016</td><td>M13</td><td>236997</td><td>NULL</td><td>ce.data.55c.FinancialActivities.ProductionEmployeeHoursAndEarnings.csv</td></tr>",
            "<tr><td>8</td><td>CEU5500000082</td><td>2016</td><td>M13</td><td>6189003</td><td>NULL</td><td>ce.data.55c.FinancialActivities.ProductionEmployeeHoursAndEarnings.csv</td></tr>",
            "<tr><td>9</td><td>CEU5552200007</td><td>2016</td><td>M13</td><td>37.3</td><td>NULL</td><td>ce.data.55c.FinancialActivities.ProductionEmployeeHoursAndEarnings.csv</td></tr>",
            "</table>"
        ]
    }
}
],
            "execution_count": 17
        },
        {
            "cell_type": "markdown",
            "source": [
                "2. <span style=\"background-color: rgb(255, 255, 255); font-size: 10pt; white-space: pre-wrap; color: rgb(102, 102, 102); font-family: Arvo, serif;\">Join series and datatype on data_type_code</span>"
            ],
            "metadata": {
                "azdata_cell_guid": "710b59ae-224b-4f9d-b1a4-4a6b89048bbb"
            },
            "attachments": {}
        },
        {
            "cell_type": "code",
            "source": [
                "select top 10 * from LaborStatisticsDB.dbo.series as S  \r\n",
                "join LaborStatisticsDB.dbo.datatype as D  \r\n",
                "on s.data_type_code = d.data_type_code\r\n",
                ""
            ],
            "metadata": {
                "azdata_cell_guid": "fca61371-c9b5-4823-a4b4-34c1279ece3e",
                "language": "sql",
                "tags": []
            },
            "outputs": [
                {
                    "output_type": "display_data",
                    "data": {
                        "text/html": "(10 rows affected)"
                    },
                    "metadata": {}
                },
                {
                    "output_type": "display_data",
                    "data": {
                        "text/html": "Total execution time: 00:00:00.065"
                    },
                    "metadata": {}
                },
                {
                    "output_type": "execute_result",
                    "metadata": {},
                    "execution_count": 2,
                    "data": {
                        "application/vnd.dataresource+json": {
                            "schema": {
                                "fields": [
                                    {
                                        "name": "series_id"
                                    },
                                    {
                                        "name": "supersector_code"
                                    },
                                    {
                                        "name": "industry_code"
                                    },
                                    {
                                        "name": "data_type_code"
                                    },
                                    {
                                        "name": "seasonal"
                                    },
                                    {
                                        "name": "series_title"
                                    },
                                    {
                                        "name": "data_type_code"
                                    },
                                    {
                                        "name": "data_type_text"
                                    }
                                ]
                            },
                            "data": [
                                {
                                    "0": "CES0000000001",
                                    "1": "0",
                                    "2": "00000000",
                                    "3": "1",
                                    "4": "S",
                                    "5": "All employees",
                                    "6": "1",
                                    "7": "ALL EMPLOYEES"
                                },
                                {
                                    "0": "CES0000000010",
                                    "1": "0",
                                    "2": "00000000",
                                    "3": "10",
                                    "4": "S",
                                    "5": "Women employees",
                                    "6": "10",
                                    "7": "WOMEN EMPLOYEES"
                                },
                                {
                                    "0": "CES0000000025",
                                    "1": "0",
                                    "2": "00000000",
                                    "3": "25",
                                    "4": "S",
                                    "5": "All employees",
                                    "6": "25",
                                    "7": "ALL EMPLOYEES"
                                },
                                {
                                    "0": "CES0000000026",
                                    "1": "0",
                                    "2": "00000000",
                                    "3": "26",
                                    "4": "S",
                                    "5": "All employees",
                                    "6": "26",
                                    "7": "ALL EMPLOYEES"
                                },
                                {
                                    "0": "CES0500000001",
                                    "1": "5",
                                    "2": "05000000",
                                    "3": "1",
                                    "4": "S",
                                    "5": "All employees",
                                    "6": "1",
                                    "7": "ALL EMPLOYEES"
                                },
                                {
                                    "0": "CES0500000002",
                                    "1": "5",
                                    "2": "05000000",
                                    "3": "2",
                                    "4": "S",
                                    "5": "Average weekly hours of all employees",
                                    "6": "2",
                                    "7": "AVERAGE WEEKLY HOURS OF ALL EMPLOYEES"
                                },
                                {
                                    "0": "CES0500000003",
                                    "1": "5",
                                    "2": "05000000",
                                    "3": "3",
                                    "4": "S",
                                    "5": "Average hourly earnings of all employees",
                                    "6": "3",
                                    "7": "AVERAGE HOURLY EARNINGS OF ALL EMPLOYEES"
                                },
                                {
                                    "0": "CES0500000006",
                                    "1": "5",
                                    "2": "05000000",
                                    "3": "6",
                                    "4": "S",
                                    "5": "Production and nonsupervisory employees",
                                    "6": "6",
                                    "7": "PRODUCTION AND NONSUPERVISORY EMPLOYEES"
                                },
                                {
                                    "0": "CES0500000007",
                                    "1": "5",
                                    "2": "05000000",
                                    "3": "7",
                                    "4": "S",
                                    "5": "Average weekly hours of production and nonsupervisory employees",
                                    "6": "7",
                                    "7": "AVERAGE WEEKLY HOURS OF PRODUCTION AND NONSUPERVISORY EMPLOYEES"
                                },
                                {
                                    "0": "CES0500000008",
                                    "1": "5",
                                    "2": "05000000",
                                    "3": "8",
                                    "4": "S",
                                    "5": "Average hourly earnings of production and nonsupervisory employees",
                                    "6": "8",
                                    "7": "AVERAGE HOURLY EARNINGS OF PRODUCTION AND NONSUPERVISORY EMPLOYEES"
                                }
                            ]
                        },
                        "text/html": [
                            "<table>",
                            "<tr><th>series_id</th><th>supersector_code</th><th>industry_code</th><th>data_type_code</th><th>seasonal</th><th>series_title</th><th>data_type_code</th><th>data_type_text</th></tr>",
                            "<tr><td>CES0000000001</td><td>0</td><td>00000000</td><td>1</td><td>S</td><td>All employees</td><td>1</td><td>ALL EMPLOYEES</td></tr>",
                            "<tr><td>CES0000000010</td><td>0</td><td>00000000</td><td>10</td><td>S</td><td>Women employees</td><td>10</td><td>WOMEN EMPLOYEES</td></tr>",
                            "<tr><td>CES0000000025</td><td>0</td><td>00000000</td><td>25</td><td>S</td><td>All employees</td><td>25</td><td>ALL EMPLOYEES</td></tr>",
                            "<tr><td>CES0000000026</td><td>0</td><td>00000000</td><td>26</td><td>S</td><td>All employees</td><td>26</td><td>ALL EMPLOYEES</td></tr>",
                            "<tr><td>CES0500000001</td><td>5</td><td>05000000</td><td>1</td><td>S</td><td>All employees</td><td>1</td><td>ALL EMPLOYEES</td></tr>",
                            "<tr><td>CES0500000002</td><td>5</td><td>05000000</td><td>2</td><td>S</td><td>Average weekly hours of all employees</td><td>2</td><td>AVERAGE WEEKLY HOURS OF ALL EMPLOYEES</td></tr>",
                            "<tr><td>CES0500000003</td><td>5</td><td>05000000</td><td>3</td><td>S</td><td>Average hourly earnings of all employees</td><td>3</td><td>AVERAGE HOURLY EARNINGS OF ALL EMPLOYEES</td></tr>",
                            "<tr><td>CES0500000006</td><td>5</td><td>05000000</td><td>6</td><td>S</td><td>Production and nonsupervisory employees</td><td>6</td><td>PRODUCTION AND NONSUPERVISORY EMPLOYEES</td></tr>",
                            "<tr><td>CES0500000007</td><td>5</td><td>05000000</td><td>7</td><td>S</td><td>Average weekly hours of production and nonsupervisory employees</td><td>7</td><td>AVERAGE WEEKLY HOURS OF PRODUCTION AND NONSUPERVISORY EMPLOYEES</td></tr>",
                            "<tr><td>CES0500000008</td><td>5</td><td>05000000</td><td>8</td><td>S</td><td>Average hourly earnings of production and nonsupervisory employees</td><td>8</td><td>AVERAGE HOURLY EARNINGS OF PRODUCTION AND NONSUPERVISORY EMPLOYEES</td></tr>",
                            "</table>"
                        ]
                    }
                }
            ],
            "execution_count": 2
        },
        {
            "cell_type": "markdown",
            "source": [
                "3. <span style=\"background-color: rgb(255, 255, 255); font-size: 10pt; white-space: pre-wrap; color: rgb(102, 102, 102); font-family: Arvo, serif;\">Join series and industry on industry_code</span>"
            ],
            "metadata": {
                "azdata_cell_guid": "78ac8ba4-2a6a-426f-af30-6b56d9d09054"
            },
            "attachments": {}
        },
        {
            "cell_type": "code",
            "source": [
                "select top 10 * from LaborStatisticsDB.dbo.series as S  \r\n",
                "join LaborStatisticsDB.dbo.industry as I  \r\n",
                "on s.industry_code = i.industry_code"
            ],
            "metadata": {
                "azdata_cell_guid": "ac022766-e280-4d95-8362-1f2b18773662",
                "language": "sql"
            },
            "outputs": [
                {
                    "output_type": "display_data",
                    "data": {
                        "text/html": "(10 rows affected)"
                    },
                    "metadata": {}
                },
                {
                    "output_type": "display_data",
                    "data": {
                        "text/html": "Total execution time: 00:00:00.045"
                    },
                    "metadata": {}
                },
                {
                    "output_type": "execute_result",
                    "metadata": {},
                    "execution_count": 5,
                    "data": {
                        "application/vnd.dataresource+json": {
                            "schema": {
                                "fields": [
                                    {
                                        "name": "series_id"
                                    },
                                    {
                                        "name": "supersector_code"
                                    },
                                    {
                                        "name": "industry_code"
                                    },
                                    {
                                        "name": "data_type_code"
                                    },
                                    {
                                        "name": "seasonal"
                                    },
                                    {
                                        "name": "series_title"
                                    },
                                    {
                                        "name": "id"
                                    },
                                    {
                                        "name": "industry_code"
                                    },
                                    {
                                        "name": "naics_code"
                                    },
                                    {
                                        "name": "publishing_status"
                                    },
                                    {
                                        "name": "industry_name"
                                    },
                                    {
                                        "name": "display_level"
                                    },
                                    {
                                        "name": "selectable"
                                    },
                                    {
                                        "name": "sort_sequence"
                                    }
                                ]
                            },
                            "data": [
                                {
                                    "0": "CES0000000001",
                                    "1": "0",
                                    "2": "00000000",
                                    "3": "1",
                                    "4": "S",
                                    "5": "All employees",
                                    "6": "0",
                                    "7": "0",
                                    "8": "-",
                                    "9": "B",
                                    "10": "Total nonfarm",
                                    "11": "0",
                                    "12": "T",
                                    "13": "1"
                                },
                                {
                                    "0": "CES0000000010",
                                    "1": "0",
                                    "2": "00000000",
                                    "3": "10",
                                    "4": "S",
                                    "5": "Women employees",
                                    "6": "0",
                                    "7": "0",
                                    "8": "-",
                                    "9": "B",
                                    "10": "Total nonfarm",
                                    "11": "0",
                                    "12": "T",
                                    "13": "1"
                                },
                                {
                                    "0": "CES0000000025",
                                    "1": "0",
                                    "2": "00000000",
                                    "3": "25",
                                    "4": "S",
                                    "5": "All employees",
                                    "6": "0",
                                    "7": "0",
                                    "8": "-",
                                    "9": "B",
                                    "10": "Total nonfarm",
                                    "11": "0",
                                    "12": "T",
                                    "13": "1"
                                },
                                {
                                    "0": "CES0000000026",
                                    "1": "0",
                                    "2": "00000000",
                                    "3": "26",
                                    "4": "S",
                                    "5": "All employees",
                                    "6": "0",
                                    "7": "0",
                                    "8": "-",
                                    "9": "B",
                                    "10": "Total nonfarm",
                                    "11": "0",
                                    "12": "T",
                                    "13": "1"
                                },
                                {
                                    "0": "CES0500000001",
                                    "1": "5",
                                    "2": "05000000",
                                    "3": "1",
                                    "4": "S",
                                    "5": "All employees",
                                    "6": "1",
                                    "7": "5000000",
                                    "8": "-",
                                    "9": "A",
                                    "10": "Total private",
                                    "11": "1",
                                    "12": "T",
                                    "13": "2"
                                },
                                {
                                    "0": "CES0500000002",
                                    "1": "5",
                                    "2": "05000000",
                                    "3": "2",
                                    "4": "S",
                                    "5": "Average weekly hours of all employees",
                                    "6": "1",
                                    "7": "5000000",
                                    "8": "-",
                                    "9": "A",
                                    "10": "Total private",
                                    "11": "1",
                                    "12": "T",
                                    "13": "2"
                                },
                                {
                                    "0": "CES0500000003",
                                    "1": "5",
                                    "2": "05000000",
                                    "3": "3",
                                    "4": "S",
                                    "5": "Average hourly earnings of all employees",
                                    "6": "1",
                                    "7": "5000000",
                                    "8": "-",
                                    "9": "A",
                                    "10": "Total private",
                                    "11": "1",
                                    "12": "T",
                                    "13": "2"
                                },
                                {
                                    "0": "CES0500000006",
                                    "1": "5",
                                    "2": "05000000",
                                    "3": "6",
                                    "4": "S",
                                    "5": "Production and nonsupervisory employees",
                                    "6": "1",
                                    "7": "5000000",
                                    "8": "-",
                                    "9": "A",
                                    "10": "Total private",
                                    "11": "1",
                                    "12": "T",
                                    "13": "2"
                                },
                                {
                                    "0": "CES0500000007",
                                    "1": "5",
                                    "2": "05000000",
                                    "3": "7",
                                    "4": "S",
                                    "5": "Average weekly hours of production and nonsupervisory employees",
                                    "6": "1",
                                    "7": "5000000",
                                    "8": "-",
                                    "9": "A",
                                    "10": "Total private",
                                    "11": "1",
                                    "12": "T",
                                    "13": "2"
                                },
                                {
                                    "0": "CES0500000008",
                                    "1": "5",
                                    "2": "05000000",
                                    "3": "8",
                                    "4": "S",
                                    "5": "Average hourly earnings of production and nonsupervisory employees",
                                    "6": "1",
                                    "7": "5000000",
                                    "8": "-",
                                    "9": "A",
                                    "10": "Total private",
                                    "11": "1",
                                    "12": "T",
                                    "13": "2"
                                }
                            ]
                        },
                        "text/html": [
                            "<table>",
                            "<tr><th>series_id</th><th>supersector_code</th><th>industry_code</th><th>data_type_code</th><th>seasonal</th><th>series_title</th><th>id</th><th>industry_code</th><th>naics_code</th><th>publishing_status</th><th>industry_name</th><th>display_level</th><th>selectable</th><th>sort_sequence</th></tr>",
                            "<tr><td>CES0000000001</td><td>0</td><td>00000000</td><td>1</td><td>S</td><td>All employees</td><td>0</td><td>0</td><td>-</td><td>B</td><td>Total nonfarm</td><td>0</td><td>T</td><td>1</td></tr>",
                            "<tr><td>CES0000000010</td><td>0</td><td>00000000</td><td>10</td><td>S</td><td>Women employees</td><td>0</td><td>0</td><td>-</td><td>B</td><td>Total nonfarm</td><td>0</td><td>T</td><td>1</td></tr>",
                            "<tr><td>CES0000000025</td><td>0</td><td>00000000</td><td>25</td><td>S</td><td>All employees</td><td>0</td><td>0</td><td>-</td><td>B</td><td>Total nonfarm</td><td>0</td><td>T</td><td>1</td></tr>",
                            "<tr><td>CES0000000026</td><td>0</td><td>00000000</td><td>26</td><td>S</td><td>All employees</td><td>0</td><td>0</td><td>-</td><td>B</td><td>Total nonfarm</td><td>0</td><td>T</td><td>1</td></tr>",
                            "<tr><td>CES0500000001</td><td>5</td><td>05000000</td><td>1</td><td>S</td><td>All employees</td><td>1</td><td>5000000</td><td>-</td><td>A</td><td>Total private</td><td>1</td><td>T</td><td>2</td></tr>",
                            "<tr><td>CES0500000002</td><td>5</td><td>05000000</td><td>2</td><td>S</td><td>Average weekly hours of all employees</td><td>1</td><td>5000000</td><td>-</td><td>A</td><td>Total private</td><td>1</td><td>T</td><td>2</td></tr>",
                            "<tr><td>CES0500000003</td><td>5</td><td>05000000</td><td>3</td><td>S</td><td>Average hourly earnings of all employees</td><td>1</td><td>5000000</td><td>-</td><td>A</td><td>Total private</td><td>1</td><td>T</td><td>2</td></tr>",
                            "<tr><td>CES0500000006</td><td>5</td><td>05000000</td><td>6</td><td>S</td><td>Production and nonsupervisory employees</td><td>1</td><td>5000000</td><td>-</td><td>A</td><td>Total private</td><td>1</td><td>T</td><td>2</td></tr>",
                            "<tr><td>CES0500000007</td><td>5</td><td>05000000</td><td>7</td><td>S</td><td>Average weekly hours of production and nonsupervisory employees</td><td>1</td><td>5000000</td><td>-</td><td>A</td><td>Total private</td><td>1</td><td>T</td><td>2</td></tr>",
                            "<tr><td>CES0500000008</td><td>5</td><td>05000000</td><td>8</td><td>S</td><td>Average hourly earnings of production and nonsupervisory employees</td><td>1</td><td>5000000</td><td>-</td><td>A</td><td>Total private</td><td>1</td><td>T</td><td>2</td></tr>",
                            "</table>"
                        ]
                    }
                }
            ],
            "execution_count": 5
        },
        {
            "cell_type": "markdown",
            "source": [
                "## <span style=\"font-size: 12pt; font-family: Montserrat, sans-serif; color: rgb(53, 74, 95); background-color: rgb(255, 255, 255); font-weight: 700; font-variant-numeric: normal; font-variant-east-asian: normal; vertical-align: baseline; white-space: pre-wrap;\">Aggregate Your Friends and Code some SQL</span>\n",
                "\n",
                "<span style=\"font-size: 10pt; font-family: Arvo, serif; color: rgb(102, 102, 102); background-color: rgb(255, 255, 255); font-variant-numeric: normal; font-variant-east-asian: normal; vertical-align: baseline; white-space: pre-wrap;\">Put together the following:</span>\n",
                "\n",
                "1. <span style=\"background-color: rgb(255, 255, 255); font-size: 10pt; white-space: pre-wrap; color: rgb(102, 102, 102); font-family: Arvo, serif;\">How many employees were reported in 2016 in all industries? Round to the nearest whole number.&nbsp; No chopping people into little bits, please.</span>"
            ],
            "metadata": {
                "azdata_cell_guid": "f4290cc1-f824-4586-8850-59d926bf4460"
            },
            "attachments": {}
        },
        {
            "cell_type": "code",
            "source": [
                "SELECT  round(sum([value]), 0) as 'All Industry', s.series_title\r\n",
                "FROM LaborStatisticsDB.dbo.annual_2016 A\r\n",
                "left join LaborStatisticsDB.dbo.series S \r\n",
                "on A.series_id = s.series_id\r\n",
                "WHERE s.series_title = 'All Employees'\r\n",
                "group by S.series_title;"
            ],
            "metadata": {
                "azdata_cell_guid": "25099068-a629-4eb5-afca-ed3748c40605",
                "language": "sql",
                "tags": []
            },
            "outputs": [
                {
                    "output_type": "display_data",
                    "data": {
                        "text/html": "(1 row affected)"
                    },
                    "metadata": {}
                },
                {
                    "output_type": "display_data",
                    "data": {
                        "text/html": "Total execution time: 00:00:00.055"
                    },
                    "metadata": {}
                },
                {
                    "output_type": "execute_result",
                    "execution_count": 59,
                    "data": {
                        "application/vnd.dataresource+json": {
                            "schema": {
                                "fields": [
                                    {
                                        "name": "All Industry"
                                    },
                                    {
                                        "name": "series_title"
                                    }
                                ]
                            },
                            "data": [
                                {
                                    "0": "2340612",
                                    "1": "All employees"
                                }
                            ]
                        },
                        "text/html": "<table><tr><th>All Industry</th><th>series_title</th></tr><tr><td>2340612</td><td>All employees</td></tr></table>"
                    },
                    "metadata": {}
                }
            ],
            "execution_count": 59
        },
        {
            "cell_type": "markdown",
            "source": [
                "2. <span style=\"background-color: rgb(255, 255, 255); font-size: 10pt; white-space: pre-wrap; color: rgb(102, 102, 102); font-family: Arvo, serif;\">How many women employees were reported in 2016 in all industries? Round to the nearest whole number.&nbsp;</span>"
            ],
            "metadata": {
                "azdata_cell_guid": "6358fab4-b933-4646-bef1-4be66dcd4317"
            },
            "attachments": {}
        },
        {
            "cell_type": "code",
            "source": [
                "SELECT  round(sum([value]), 0) as 'All Industry', s.series_title\r\n",
                "FROM LaborStatisticsDB.dbo.annual_2016 A\r\n",
                "left join LaborStatisticsDB.dbo.series S \r\n",
                "on A.series_id = s.series_id\r\n",
                "WHERE s.series_title = 'women Employees'\r\n",
                "group by S.series_title;"
            ],
            "metadata": {
                "azdata_cell_guid": "7bb0bfb7-b9e3-4672-b354-7ca705bb0c3b",
                "language": "sql"
            },
            "outputs": [
                {
                    "output_type": "display_data",
                    "data": {
                        "text/html": "(1 row affected)"
                    },
                    "metadata": {}
                },
                {
                    "output_type": "display_data",
                    "data": {
                        "text/html": "Total execution time: 00:00:00.055"
                    },
                    "metadata": {}
                },
                {
                    "output_type": "execute_result",
                    "execution_count": 58,
                    "data": {
                        "application/vnd.dataresource+json": {
                            "schema": {
                                "fields": [
                                    {
                                        "name": "All Industry"
                                    },
                                    {
                                        "name": "series_title"
                                    }
                                ]
                            },
                            "data": [
                                {
                                    "0": "1125490",
                                    "1": "Women employees"
                                }
                            ]
                        },
                        "text/html": "<table><tr><th>All Industry</th><th>series_title</th></tr><tr><td>1125490</td><td>Women employees</td></tr></table>"
                    },
                    "metadata": {}
                }
            ],
            "execution_count": 58
        },
        {
            "cell_type": "markdown",
            "source": [
                "3. <span style=\"background-color: rgb(255, 255, 255); font-size: 10pt; white-space: pre-wrap; color: rgb(102, 102, 102); font-family: Arvo, serif;\">How many production/nonsupervisory employees were reported in 2016? Round to the nearest whole number.&nbsp;</span>"
            ],
            "metadata": {
                "azdata_cell_guid": "246ea683-2075-4337-878d-fbfdd49b2dd7"
            },
            "attachments": {}
        },
        {
            "cell_type": "code",
            "source": [
                "SELECT  round(sum([value]), 0) as 'All Industry', s.series_title\r\n",
                "FROM LaborStatisticsDB.dbo.annual_2016 A\r\n",
                "left join LaborStatisticsDB.dbo.series S \r\n",
                "on A.series_id = s.series_id\r\n",
                "WHERE s.series_title = 'production and nonsupervisory employees'\r\n",
                "group by S.series_title"
            ],
            "metadata": {
                "azdata_cell_guid": "110f2591-069b-4bbe-87c7-2bcf76c3d36f",
                "language": "sql",
                "tags": []
            },
            "outputs": [
                {
                    "output_type": "display_data",
                    "data": {
                        "text/html": "(1 row affected)"
                    },
                    "metadata": {}
                },
                {
                    "output_type": "display_data",
                    "data": {
                        "text/html": "Total execution time: 00:00:00.053"
                    },
                    "metadata": {}
                },
                {
                    "output_type": "execute_result",
                    "execution_count": 71,
                    "data": {
                        "application/vnd.dataresource+json": {
                            "schema": {
                                "fields": [
                                    {
                                        "name": "All Industry"
                                    },
                                    {
                                        "name": "series_title"
                                    }
                                ]
                            },
                            "data": [
                                {
                                    "0": "1263650",
                                    "1": "Production and nonsupervisory employees"
                                }
                            ]
                        },
                        "text/html": "<table><tr><th>All Industry</th><th>series_title</th></tr><tr><td>1263650</td><td>Production and nonsupervisory employees</td></tr></table>"
                    },
                    "metadata": {}
                }
            ],
            "execution_count": 71
        },
        {
            "cell_type": "markdown",
            "source": [
                "4. <span style=\"background-color: rgb(255, 255, 255); font-size: 10pt; white-space: pre-wrap; color: rgb(102, 102, 102); font-family: Arvo, serif;\">In January 2017, what is the average weekly hours worked by production and nonsupervisory employees across all industries?</span>"
            ],
            "metadata": {
                "azdata_cell_guid": "9caa7f57-e39d-4b7a-b705-25f8fe29d60b"
            },
            "attachments": {}
        },
        {
            "cell_type": "code",
            "source": [
                "SELECT top 10 A.[value] as 'All Industry', s.series_id, s.series_title\r\n",
                "FROM LaborStatisticsDB.dbo.january_2017 A\r\n",
                "left join LaborStatisticsDB.dbo.series S \r\n",
                "on A.series_id = s.series_id\r\n",
                "WHERE s.series_title = 'Average weekly hours of production and nonsupervisory employees'\r\n",
                "--group by S.series_title\r\n",
                "--order by [All Industry] DESC\r\n",
                "--order by [All Industry]"
            ],
            "metadata": {
                "azdata_cell_guid": "9f07fa8a-4217-439a-a9cd-831240d4bc9e",
                "language": "sql"
            },
            "outputs": [
                {
                    "output_type": "display_data",
                    "data": {
                        "text/html": "(10 rows affected)"
                    },
                    "metadata": {}
                },
                {
                    "output_type": "display_data",
                    "data": {
                        "text/html": "Total execution time: 00:00:00.044"
                    },
                    "metadata": {}
                },
                {
                    "output_type": "execute_result",
                    "metadata": {},
                    "execution_count": 6,
                    "data": {
                        "application/vnd.dataresource+json": {
                            "schema": {
                                "fields": [
                                    {
                                        "name": "All Industry"
                                    },
                                    {
                                        "name": "series_id"
                                    },
                                    {
                                        "name": "series_title"
                                    }
                                ]
                            },
                            "data": [
                                {
                                    "0": "36.9",
                                    "1": "CES5500000007",
                                    "2": "Average weekly hours of production and nonsupervisory employees"
                                },
                                {
                                    "0": "37.5",
                                    "1": "CES5552200007",
                                    "2": "Average weekly hours of production and nonsupervisory employees"
                                },
                                {
                                    "0": "37.2",
                                    "1": "CES5552210007",
                                    "2": "Average weekly hours of production and nonsupervisory employees"
                                },
                                {
                                    "0": "37.1",
                                    "1": "CES5552211007",
                                    "2": "Average weekly hours of production and nonsupervisory employees"
                                },
                                {
                                    "0": "36.7",
                                    "1": "CES5552212007",
                                    "2": "Average weekly hours of production and nonsupervisory employees"
                                },
                                {
                                    "0": "37.5",
                                    "1": "CES5552219007",
                                    "2": "Average weekly hours of production and nonsupervisory employees"
                                },
                                {
                                    "0": "38.1",
                                    "1": "CES5552220007",
                                    "2": "Average weekly hours of production and nonsupervisory employees"
                                },
                                {
                                    "0": "37.5",
                                    "1": "CES5552229107",
                                    "2": "Average weekly hours of production and nonsupervisory employees"
                                },
                                {
                                    "0": "38.6",
                                    "1": "CES5552229207",
                                    "2": "Average weekly hours of production and nonsupervisory employees"
                                },
                                {
                                    "0": "37.1",
                                    "1": "CES5552230007",
                                    "2": "Average weekly hours of production and nonsupervisory employees"
                                }
                            ]
                        },
                        "text/html": [
                            "<table>",
                            "<tr><th>All Industry</th><th>series_id</th><th>series_title</th></tr>",
                            "<tr><td>36.9</td><td>CES5500000007</td><td>Average weekly hours of production and nonsupervisory employees</td></tr>",
                            "<tr><td>37.5</td><td>CES5552200007</td><td>Average weekly hours of production and nonsupervisory employees</td></tr>",
                            "<tr><td>37.2</td><td>CES5552210007</td><td>Average weekly hours of production and nonsupervisory employees</td></tr>",
                            "<tr><td>37.1</td><td>CES5552211007</td><td>Average weekly hours of production and nonsupervisory employees</td></tr>",
                            "<tr><td>36.7</td><td>CES5552212007</td><td>Average weekly hours of production and nonsupervisory employees</td></tr>",
                            "<tr><td>37.5</td><td>CES5552219007</td><td>Average weekly hours of production and nonsupervisory employees</td></tr>",
                            "<tr><td>38.1</td><td>CES5552220007</td><td>Average weekly hours of production and nonsupervisory employees</td></tr>",
                            "<tr><td>37.5</td><td>CES5552229107</td><td>Average weekly hours of production and nonsupervisory employees</td></tr>",
                            "<tr><td>38.6</td><td>CES5552229207</td><td>Average weekly hours of production and nonsupervisory employees</td></tr>",
                            "<tr><td>37.1</td><td>CES5552230007</td><td>Average weekly hours of production and nonsupervisory employees</td></tr>",
                            "</table>"
                        ]
                    }
                }
            ],
            "execution_count": 6
        },
        {
            "cell_type": "markdown",
            "source": [
                "5. <span style=\"background-color: rgb(255, 255, 255); font-size: 10pt; white-space: pre-wrap; color: rgb(102, 102, 102); font-family: Arvo, serif;\">What is the total weekly payroll for production and nonsupervisory employees across all industries in January 2017? Round to the nearest penny, please.</span>"
            ],
            "metadata": {
                "azdata_cell_guid": "9c48ff2e-a6eb-4f02-8df2-988e219fbc00"
            },
            "attachments": {}
        },
        {
            "cell_type": "code",
            "source": [
                "SELECT  top 10 round(J.VALUE, 2) as 'All_Industry', s.series_title\r\n",
                "FROM LaborStatisticsDB.dbo.january_2017 J\r\n",
                "left join LaborStatisticsDB.dbo.series S \r\n",
                "on J.series_id = s.series_id\r\n",
                "WHERE s.series_title = 'Aggregate weekly payrolls of production and nonsupervisory employees'\r\n",
                "--group by S.series_title;\r\n",
                "order by All_Industry DESC\r\n",
                ""
            ],
            "metadata": {
                "azdata_cell_guid": "c565641b-f1fa-4dbb-9320-24adfda97ca5",
                "language": "sql"
            },
            "outputs": [
                {
                    "output_type": "display_data",
                    "data": {
                        "text/html": "(10 rows affected)"
                    },
                    "metadata": {}
                },
                {
                    "output_type": "display_data",
                    "data": {
                        "text/html": "Total execution time: 00:00:00.070"
                    },
                    "metadata": {}
                },
                {
                    "output_type": "execute_result",
                    "metadata": {},
                    "execution_count": 7,
                    "data": {
                        "application/vnd.dataresource+json": {
                            "schema": {
                                "fields": [
                                    {
                                        "name": "All_Industry"
                                    },
                                    {
                                        "name": "series_title"
                                    }
                                ]
                            },
                            "data": [
                                {
                                    "0": "74498171",
                                    "1": "Aggregate weekly payrolls of production and nonsupervisory employees"
                                },
                                {
                                    "0": "74498171",
                                    "1": "Aggregate weekly payrolls of production and nonsupervisory employees"
                                },
                                {
                                    "0": "73474302",
                                    "1": "Aggregate weekly payrolls of production and nonsupervisory employees"
                                },
                                {
                                    "0": "73474302",
                                    "1": "Aggregate weekly payrolls of production and nonsupervisory employees"
                                },
                                {
                                    "0": "60914722",
                                    "1": "Aggregate weekly payrolls of production and nonsupervisory employees"
                                },
                                {
                                    "0": "60914722",
                                    "1": "Aggregate weekly payrolls of production and nonsupervisory employees"
                                },
                                {
                                    "0": "60807771",
                                    "1": "Aggregate weekly payrolls of production and nonsupervisory employees"
                                },
                                {
                                    "0": "60807771",
                                    "1": "Aggregate weekly payrolls of production and nonsupervisory employees"
                                },
                                {
                                    "0": "15251268",
                                    "1": "Aggregate weekly payrolls of production and nonsupervisory employees"
                                },
                                {
                                    "0": "15251268",
                                    "1": "Aggregate weekly payrolls of production and nonsupervisory employees"
                                }
                            ]
                        },
                        "text/html": [
                            "<table>",
                            "<tr><th>All_Industry</th><th>series_title</th></tr>",
                            "<tr><td>74498171</td><td>Aggregate weekly payrolls of production and nonsupervisory employees</td></tr>",
                            "<tr><td>74498171</td><td>Aggregate weekly payrolls of production and nonsupervisory employees</td></tr>",
                            "<tr><td>73474302</td><td>Aggregate weekly payrolls of production and nonsupervisory employees</td></tr>",
                            "<tr><td>73474302</td><td>Aggregate weekly payrolls of production and nonsupervisory employees</td></tr>",
                            "<tr><td>60914722</td><td>Aggregate weekly payrolls of production and nonsupervisory employees</td></tr>",
                            "<tr><td>60914722</td><td>Aggregate weekly payrolls of production and nonsupervisory employees</td></tr>",
                            "<tr><td>60807771</td><td>Aggregate weekly payrolls of production and nonsupervisory employees</td></tr>",
                            "<tr><td>60807771</td><td>Aggregate weekly payrolls of production and nonsupervisory employees</td></tr>",
                            "<tr><td>15251268</td><td>Aggregate weekly payrolls of production and nonsupervisory employees</td></tr>",
                            "<tr><td>15251268</td><td>Aggregate weekly payrolls of production and nonsupervisory employees</td></tr>",
                            "</table>"
                        ]
                    }
                }
            ],
            "execution_count": 7
        },
        {
            "cell_type": "markdown",
            "source": [
                "6. <span style=\"background-color: rgb(255, 255, 255); font-size: 10pt; white-space: pre-wrap; color: rgb(102, 102, 102); font-family: Arvo, serif;\">In January 2017, which industry was the average weekly hours worked by production and nonsupervisory employees the highest? Which industry was the lowest?</span>"
            ],
            "metadata": {
                "azdata_cell_guid": "862fd406-4fff-49bb-9d2b-232275a06405"
            },
            "attachments": {}
        },
        {
            "cell_type": "code",
            "source": [
                "SELECT top 1 S.industry_code, I.industry_name, value AS avg_weekly_hours\r\n",
                "FROM LaborStatisticsDB.dbo.series AS S\r\n",
                "JOIN LaborStatisticsDB.dbo.industry AS I \r\n",
                "ON S.industry_code = I.industry_code\r\n",
                "JOIN LaborStatisticsDB.dbo.january_2017 AS J \r\n",
                "ON S.series_id = J.series_id\r\n",
                "WHERE S.series_title LIKE '%Average weekly hours of production and nonsupervisory employees%'\r\n",
                "--GROUP BY S.industry_code, I.industry_name\r\n",
                "--ORDER BY avg_weekly_hours \r\n",
                "ORDER by avg_weekly_hours DESC;\r\n",
                "\r\n",
                "--I did this code to show the lowest employees\r\n",
                "SELECT top 1 S.industry_code, I.industry_name, value AS avg_weekly_hours\r\n",
                "FROM LaborStatisticsDB.dbo.series AS S\r\n",
                "JOIN LaborStatisticsDB.dbo.industry AS I \r\n",
                "ON S.industry_code = I.industry_code\r\n",
                "JOIN LaborStatisticsDB.dbo.january_2017 AS J \r\n",
                "ON S.series_id = J.series_id\r\n",
                "WHERE S.series_title LIKE '%Average weekly hours of production and nonsupervisory employees%'\r\n",
                "--GROUP BY S.industry_code, I.industry_name\r\n",
                "ORDER BY avg_weekly_hours \r\n",
                "\r\n",
                "\r\n",
                ""
            ],
            "metadata": {
                "azdata_cell_guid": "01e11050-5f2f-4d22-92e0-2b3024b80a5f",
                "language": "sql",
                "tags": []
            },
            "outputs": [
                {
                    "output_type": "display_data",
                    "data": {
                        "text/html": "(1 row affected)"
                    },
                    "metadata": {}
                },
                {
                    "output_type": "display_data",
                    "data": {
                        "text/html": "(1 row affected)"
                    },
                    "metadata": {}
                },
                {
                    "output_type": "display_data",
                    "data": {
                        "text/html": "Total execution time: 00:00:00.326"
                    },
                    "metadata": {}
                },
                {
                    "output_type": "execute_result",
                    "execution_count": 64,
                    "data": {
                        "application/vnd.dataresource+json": {
                            "schema": {
                                "fields": [
                                    {
                                        "name": "industry_code"
                                    },
                                    {
                                        "name": "industry_name"
                                    },
                                    {
                                        "name": "avg_weekly_hours"
                                    }
                                ]
                            },
                            "data": [
                                {
                                    "0": "31336350",
                                    "1": "Motor vehicle power train components",
                                    "2": "49.8"
                                }
                            ]
                        },
                        "text/html": "<table><tr><th>industry_code</th><th>industry_name</th><th>avg_weekly_hours</th></tr><tr><td>31336350</td><td>Motor vehicle power train components</td><td>49.8</td></tr></table>"
                    },
                    "metadata": {}
                },
                {
                    "output_type": "execute_result",
                    "execution_count": 64,
                    "data": {
                        "application/vnd.dataresource+json": {
                            "schema": {
                                "fields": [
                                    {
                                        "name": "industry_code"
                                    },
                                    {
                                        "name": "industry_name"
                                    },
                                    {
                                        "name": "avg_weekly_hours"
                                    }
                                ]
                            },
                            "data": [
                                {
                                    "0": "70713940",
                                    "1": "Fitness and recreational sports centers",
                                    "2": "16.7"
                                }
                            ]
                        },
                        "text/html": "<table><tr><th>industry_code</th><th>industry_name</th><th>avg_weekly_hours</th></tr><tr><td>70713940</td><td>Fitness and recreational sports centers</td><td>16.7</td></tr></table>"
                    },
                    "metadata": {}
                }
            ],
            "execution_count": 64
        },
        {
            "cell_type": "markdown",
            "source": [
                "7. <span style=\"background-color: rgb(255, 255, 255); font-size: 10pt; white-space: pre-wrap; color: rgb(102, 102, 102); font-family: Arvo, serif;\">In January 2017, which industry was the total weekly payroll for production and nonsupervisory employees the highest? Which industry was the lowest?</span>"
            ],
            "metadata": {
                "azdata_cell_guid": "a53f4113-60c6-46d1-b9a3-34610c61d4f9"
            },
            "attachments": {}
        },
        {
            "cell_type": "code",
            "source": [
                "SELECT top 1 S.industry_code, I.industry_name, value AS Total_weekly_payroll\r\n",
                "FROM LaborStatisticsDB.dbo.series AS S\r\n",
                "JOIN LaborStatisticsDB.dbo.industry AS I \r\n",
                "ON S.industry_code = I.industry_code\r\n",
                "JOIN LaborStatisticsDB.dbo.january_2017 AS J \r\n",
                "ON S.series_id = J.series_id\r\n",
                "WHERE S.series_title LIKE '%Aggregate weekly payrolls of production and nonsupervisory employees%'\r\n",
                "ORDER by Total_weekly_payroll DESC\r\n",
                "\r\n",
                "\r\n",
                "--I did this code to show the lowest employees\r\n",
                "SELECT top 1 S.industry_code, I.industry_name, value AS Total_weekly_payroll\r\n",
                "FROM LaborStatisticsDB.dbo.series AS S\r\n",
                "JOIN LaborStatisticsDB.dbo.industry AS I \r\n",
                "ON S.industry_code = I.industry_code\r\n",
                "JOIN LaborStatisticsDB.dbo.january_2017 AS J \r\n",
                "ON S.series_id = J.series_id\r\n",
                "WHERE S.series_title LIKE '%Aggregate weekly payrolls of production and nonsupervisory employees%'\r\n",
                "ORDER by Total_weekly_payroll"
            ],
            "metadata": {
                "azdata_cell_guid": "583695e6-7438-4e03-8970-1fe0c677a793",
                "language": "sql",
                "tags": []
            },
            "outputs": [
                {
                    "output_type": "display_data",
                    "data": {
                        "text/html": "(1 row affected)"
                    },
                    "metadata": {}
                },
                {
                    "output_type": "display_data",
                    "data": {
                        "text/html": "(1 row affected)"
                    },
                    "metadata": {}
                },
                {
                    "output_type": "display_data",
                    "data": {
                        "text/html": "Total execution time: 00:00:00.309"
                    },
                    "metadata": {}
                },
                {
                    "output_type": "execute_result",
                    "execution_count": 66,
                    "data": {
                        "application/vnd.dataresource+json": {
                            "schema": {
                                "fields": [
                                    {
                                        "name": "industry_code"
                                    },
                                    {
                                        "name": "industry_name"
                                    },
                                    {
                                        "name": "Total_weekly_payroll"
                                    }
                                ]
                            },
                            "data": [
                                {
                                    "0": "05000000",
                                    "1": "Total private",
                                    "2": "74498171"
                                }
                            ]
                        },
                        "text/html": "<table><tr><th>industry_code</th><th>industry_name</th><th>Total_weekly_payroll</th></tr><tr><td>05000000</td><td>Total private</td><td>74498171</td></tr></table>"
                    },
                    "metadata": {}
                },
                {
                    "output_type": "execute_result",
                    "execution_count": 66,
                    "data": {
                        "application/vnd.dataresource+json": {
                            "schema": {
                                "fields": [
                                    {
                                        "name": "industry_code"
                                    },
                                    {
                                        "name": "industry_name"
                                    },
                                    {
                                        "name": "Total_weekly_payroll"
                                    }
                                ]
                            },
                            "data": [
                                {
                                    "0": "50517911",
                                    "1": "Telecommunications resellers",
                                    "2": "38.2"
                                }
                            ]
                        },
                        "text/html": "<table><tr><th>industry_code</th><th>industry_name</th><th>Total_weekly_payroll</th></tr><tr><td>50517911</td><td>Telecommunications resellers</td><td>38.2</td></tr></table>"
                    },
                    "metadata": {}
                }
            ],
            "execution_count": 66
        },
        {
            "cell_type": "markdown",
            "source": [
                "## <span style=\"font-size: 12pt; font-family: Montserrat, sans-serif; color: rgb(53, 74, 95); background-color: rgb(255, 255, 255); font-weight: 700; font-variant-numeric: normal; font-variant-east-asian: normal; vertical-align: baseline; white-space: pre-wrap;\">Subqueries, Unions, Derived Tables, Oh My!</span>\n",
                "\n",
                "1. <span style=\"background-color: rgb(255, 255, 255); font-size: 10pt; white-space: pre-wrap; color: rgb(102, 102, 102); font-family: Arvo, serif;\">Write a query that returns the series_id, industry_code, industry_name, and value from the january_2017 table but only if that value is greater than the average value for annual_2016 of data_type_code 82.</span>"
            ],
            "metadata": {
                "azdata_cell_guid": "e98ec195-5399-4718-83ef-54fb954662a5"
            },
            "attachments": {}
        },
        {
            "cell_type": "code",
            "source": [
                "SELECT top 10 j.series_id, J.[year], I.industry_code, i.industry_name, j.value\r\n",
                "FROM LaborStatisticsDB.dbo.january_2017 j\r\n",
                "inner JOIN LaborStatisticsDB.dbo.series S ON s.series_id = J.series_id\r\n",
                "inner JOIN LaborStatisticsDB.dbo.industry I on s.industry_code = I.industry_code\r\n",
                "WHERE s.data_type_code = '82' and j.value > (\r\n",
                "    SELECT round(AVG(value), 0)\r\n",
                "    FROM LaborStatisticsDB.dbo.annual_2016 A \r\n",
                "    inner join LaborStatisticsDB.dbo.series s \r\n",
                "    on a.series_id = s.series_id \r\n",
                "    WHERE S.data_type_code = '82'\r\n",
                ")\r\n",
                "order by j.[value] DESC\r\n",
                "--order by j.value\r\n",
                "\r\n",
                "-- I did this code to cross verify that the value january_2017 is greater than annual_2016.\r\n",
                "SELECT round(AVG(value), 0) as avg_value_2016\r\n",
                "    FROM LaborStatisticsDB.dbo.annual_2016 A \r\n",
                "    inner join LaborStatisticsDB.dbo.series s \r\n",
                "    on a.series_id = s.series_id \r\n",
                "    WHERE S.data_type_code = '82'\r\n",
                "    order by avg_value_2016"
            ],
            "metadata": {
                "azdata_cell_guid": "7c85f70b-528f-4cbd-bd8e-a6efab1c18df",
                "language": "sql"
            },
            "outputs": [
                {
                    "output_type": "display_data",
                    "data": {
                        "text/html": "(10 rows affected)"
                    },
                    "metadata": {}
                },
                {
                    "output_type": "display_data",
                    "data": {
                        "text/html": "(1 row affected)"
                    },
                    "metadata": {}
                },
                {
                    "output_type": "display_data",
                    "data": {
                        "text/html": "Total execution time: 00:00:00.099"
                    },
                    "metadata": {}
                },
                {
                    "output_type": "execute_result",
                    "execution_count": 73,
                    "data": {
                        "application/vnd.dataresource+json": {
                            "schema": {
                                "fields": [
                                    {
                                        "name": "series_id"
                                    },
                                    {
                                        "name": "year"
                                    },
                                    {
                                        "name": "industry_code"
                                    },
                                    {
                                        "name": "industry_name"
                                    },
                                    {
                                        "name": "value"
                                    }
                                ]
                            },
                            "data": [
                                {
                                    "0": "CES0500000082",
                                    "1": "2017",
                                    "2": "5000000",
                                    "3": "Total private",
                                    "4": "74498171"
                                },
                                {
                                    "0": "CES0500000082",
                                    "1": "2017",
                                    "2": "5000000",
                                    "3": "Total private",
                                    "4": "74498171"
                                },
                                {
                                    "0": "CEU0500000082",
                                    "1": "2017",
                                    "2": "5000000",
                                    "3": "Total private",
                                    "4": "73474302"
                                },
                                {
                                    "0": "CEU0500000082",
                                    "1": "2017",
                                    "2": "5000000",
                                    "3": "Total private",
                                    "4": "73474302"
                                },
                                {
                                    "0": "CES0800000082",
                                    "1": "2017",
                                    "2": "8000000",
                                    "3": "Private service-providing",
                                    "4": "60914722"
                                },
                                {
                                    "0": "CES0800000082",
                                    "1": "2017",
                                    "2": "8000000",
                                    "3": "Private service-providing",
                                    "4": "60914722"
                                },
                                {
                                    "0": "CEU0800000082",
                                    "1": "2017",
                                    "2": "8000000",
                                    "3": "Private service-providing",
                                    "4": "60807771"
                                },
                                {
                                    "0": "CEU0800000082",
                                    "1": "2017",
                                    "2": "8000000",
                                    "3": "Private service-providing",
                                    "4": "60807771"
                                },
                                {
                                    "0": "CES6000000082",
                                    "1": "2017",
                                    "2": "60000000",
                                    "3": "Professional and business services",
                                    "4": "15251268"
                                },
                                {
                                    "0": "CES6000000082",
                                    "1": "2017",
                                    "2": "60000000",
                                    "3": "Professional and business services",
                                    "4": "15251268"
                                }
                            ]
                        },
                        "text/html": "<table><tr><th>series_id</th><th>year</th><th>industry_code</th><th>industry_name</th><th>value</th></tr><tr><td>CES0500000082</td><td>2017</td><td>5000000</td><td>Total private</td><td>74498171</td></tr><tr><td>CES0500000082</td><td>2017</td><td>5000000</td><td>Total private</td><td>74498171</td></tr><tr><td>CEU0500000082</td><td>2017</td><td>5000000</td><td>Total private</td><td>73474302</td></tr><tr><td>CEU0500000082</td><td>2017</td><td>5000000</td><td>Total private</td><td>73474302</td></tr><tr><td>CES0800000082</td><td>2017</td><td>8000000</td><td>Private service-providing</td><td>60914722</td></tr><tr><td>CES0800000082</td><td>2017</td><td>8000000</td><td>Private service-providing</td><td>60914722</td></tr><tr><td>CEU0800000082</td><td>2017</td><td>8000000</td><td>Private service-providing</td><td>60807771</td></tr><tr><td>CEU0800000082</td><td>2017</td><td>8000000</td><td>Private service-providing</td><td>60807771</td></tr><tr><td>CES6000000082</td><td>2017</td><td>60000000</td><td>Professional and business services</td><td>15251268</td></tr><tr><td>CES6000000082</td><td>2017</td><td>60000000</td><td>Professional and business services</td><td>15251268</td></tr></table>"
                    },
                    "metadata": {}
                },
                {
                    "output_type": "execute_result",
                    "execution_count": 73,
                    "data": {
                        "application/vnd.dataresource+json": {
                            "schema": {
                                "fields": [
                                    {
                                        "name": "avg_value_2016"
                                    }
                                ]
                            },
                            "data": [
                                {
                                    "0": "819960"
                                }
                            ]
                        },
                        "text/html": "<table><tr><th>avg_value_2016</th></tr><tr><td>819960</td></tr></table>"
                    },
                    "metadata": {}
                }
            ],
            "execution_count": 73
        },
        {
            "cell_type": "markdown",
            "source": [
                "2. <span style=\"background-color: rgb(255, 255, 255); font-size: 10pt; white-space: pre-wrap; color: rgb(102, 102, 102); font-family: Arvo, serif;\">Create a Union table comparing average weekly earnings&nbsp; of production and nonsupervisory employees between annual_16 and january_17 using the data type 30.&nbsp; Round to the nearest penny.&nbsp; You should have a column for the average earnings and a column for the year, and the period.</span>"
            ],
            "metadata": {
                "azdata_cell_guid": "1bb0ed09-4b02-4132-910e-5903697628af"
            },
            "attachments": {}
        },
        {
            "cell_type": "code",
            "source": [
                "select year, period, round(avg(A.[value]), 0) as Avg_earnings from LaborStatisticsDB.dbo.annual_2016 A\r\n",
                "where series_id in (\r\n",
                "    select s.series_id from LaborStatisticsDB.dbo.series S \r\n",
                "where series_title = 'AVERAGE WEEKLY EARNINGS OF PRODUCTION AND NONSUPERVISORY EMPLOYEES' and data_type_code = '30'\r\n",
                ")\r\n",
                "group by [year], period\r\n",
                "--order by [year]\r\n",
                "\r\n",
                "\r\n",
                "union\r\n",
                "\r\n",
                "select year, period, round(avg(J.[value]), 0) as Avg_earnings from LaborStatisticsDB.dbo.january_2017 J\r\n",
                "where series_id in (\r\n",
                "    select series_id from LaborStatisticsDB.dbo.series\r\n",
                "where series_title = 'AVERAGE WEEKLY EARNINGS OF PRODUCTION AND NONSUPERVISORY EMPLOYEES' and data_type_code = '30'\r\n",
                ")\r\n",
                "group by YEAR, period\r\n",
                "order by YEAR;\r\n",
                "\r\n",
                "\r\n",
                "--I did this code to cross verify the results \r\n",
                " select round(avg(value), 0) as Avg_earnings, year, period  from (\r\n",
                " select value, year, period from LaborStatisticsDB.dbo.annual_2016\r\n",
                "where series_id in (\r\n",
                "    select series_id from LaborStatisticsDB.dbo.series\r\n",
                "where series_title = 'AVERAGE WEEKLY EARNINGS OF PRODUCTION AND NONSUPERVISORY EMPLOYEES' and data_type_code = '30'\r\n",
                ")\r\n",
                "\r\n",
                "union\r\n",
                "\r\n",
                "select value, year, period from LaborStatisticsDB.dbo.january_2017\r\n",
                "where series_id in (\r\n",
                "    select series_id from LaborStatisticsDB.dbo.series\r\n",
                "where series_title = 'AVERAGE WEEKLY EARNINGS OF PRODUCTION AND NONSUPERVISORY EMPLOYEES' and data_type_code = '30'\r\n",
                "))\r\n",
                "t group by YEAR, period;\r\n",
                "--order by year, period;\r\n",
                "\r\n",
                ""
            ],
            "metadata": {
                "azdata_cell_guid": "0841b6d6-9af2-41ba-8e28-dc40d08bd061",
                "language": "sql"
            },
            "outputs": [
                {
                    "output_type": "display_data",
                    "data": {
                        "text/html": "(2 rows affected)"
                    },
                    "metadata": {}
                },
                {
                    "output_type": "display_data",
                    "data": {
                        "text/html": "(2 rows affected)"
                    },
                    "metadata": {}
                },
                {
                    "output_type": "display_data",
                    "data": {
                        "text/html": "Total execution time: 00:00:00.153"
                    },
                    "metadata": {}
                },
                {
                    "output_type": "execute_result",
                    "execution_count": 79,
                    "data": {
                        "application/vnd.dataresource+json": {
                            "schema": {
                                "fields": [
                                    {
                                        "name": "year"
                                    },
                                    {
                                        "name": "period"
                                    },
                                    {
                                        "name": "Avg_earnings"
                                    }
                                ]
                            },
                            "data": [
                                {
                                    "0": "2016",
                                    "1": "M13",
                                    "2": "797"
                                },
                                {
                                    "0": "2017",
                                    "1": "M01",
                                    "2": "809"
                                }
                            ]
                        },
                        "text/html": "<table><tr><th>year</th><th>period</th><th>Avg_earnings</th></tr><tr><td>2016</td><td>M13</td><td>797</td></tr><tr><td>2017</td><td>M01</td><td>809</td></tr></table>"
                    },
                    "metadata": {}
                },
                {
                    "output_type": "execute_result",
                    "execution_count": 79,
                    "data": {
                        "application/vnd.dataresource+json": {
                            "schema": {
                                "fields": [
                                    {
                                        "name": "Avg_earnings"
                                    },
                                    {
                                        "name": "year"
                                    },
                                    {
                                        "name": "period"
                                    }
                                ]
                            },
                            "data": [
                                {
                                    "0": "808",
                                    "1": "2017",
                                    "2": "M01"
                                },
                                {
                                    "0": "797",
                                    "1": "2016",
                                    "2": "M13"
                                }
                            ]
                        },
                        "text/html": "<table><tr><th>Avg_earnings</th><th>year</th><th>period</th></tr><tr><td>808</td><td>2017</td><td>M01</td></tr><tr><td>797</td><td>2016</td><td>M13</td></tr></table>"
                    },
                    "metadata": {}
                }
            ],
            "execution_count": 79
        },
        {
            "cell_type": "code",
            "source": [
                "   --I did this query to verify the top 10 industries production and nonsupervisory \r\n",
                "   --employees fare better for summary question no 2.\r\n",
                "    SELECT top 10 s.series_id, i.industry_code, i.industry_name,\r\n",
                "    AVG(CASE WHEN s.data_type_code = '30' THEN a.value ELSE NULL END) AS avg_earnings_2016,\r\n",
                "    AVG(CASE WHEN s.data_type_code = '30' THEN j.value ELSE NULL END) AS avg_earnings_2017\r\n",
                "FROM LaborStatisticsDB.dbo.series AS s\r\n",
                "INNER JOIN LaborStatisticsDB.dbo.industry AS i ON s.industry_code = i.industry_code\r\n",
                "LEFT JOIN LaborStatisticsDB.dbo.annual_2016 AS a ON s.series_id = a.series_id\r\n",
                "LEFT JOIN LaborStatisticsDB.dbo.january_2017 AS j ON s.series_id = j.series_id\r\n",
                "WHERE s.series_title = 'AVERAGE WEEKLY EARNINGS OF PRODUCTION AND NONSUPERVISORY EMPLOYEES'\r\n",
                "GROUP BY s.series_id, i.industry_code, i.industry_name\r\n",
                "order by avg_earnings_2016 DESC"
            ],
            "metadata": {
                "language": "sql",
                "azdata_cell_guid": "f47421a2-f6db-4b96-b82b-2d3a26007d1e"
            },
            "outputs": [
                {
                    "output_type": "display_data",
                    "data": {
                        "text/html": "Warning: Null value is eliminated by an aggregate or other SET operation."
                    },
                    "metadata": {}
                },
                {
                    "output_type": "display_data",
                    "data": {
                        "text/html": "(10 rows affected)"
                    },
                    "metadata": {}
                },
                {
                    "output_type": "display_data",
                    "data": {
                        "text/html": "Total execution time: 00:00:00.132"
                    },
                    "metadata": {}
                },
                {
                    "output_type": "execute_result",
                    "execution_count": 1,
                    "data": {
                        "application/vnd.dataresource+json": {
                            "schema": {
                                "fields": [
                                    {
                                        "name": "series_id"
                                    },
                                    {
                                        "name": "industry_code"
                                    },
                                    {
                                        "name": "industry_name"
                                    },
                                    {
                                        "name": "avg_earnings_2016"
                                    },
                                    {
                                        "name": "avg_earnings_2017"
                                    }
                                ]
                            },
                            "data": [
                                {
                                    "0": "CEU4348600030",
                                    "1": "43486000",
                                    "2": "Pipeline transportation",
                                    "3": "1730.96",
                                    "4": "1749.56"
                                },
                                {
                                    "0": "CEU5051120030",
                                    "1": "50511200",
                                    "2": "Software publishers",
                                    "3": "1720.42",
                                    "4": "1713.07"
                                },
                                {
                                    "0": "CEU3232400030",
                                    "1": "32324000",
                                    "2": "Petroleum and coal products",
                                    "3": "1718.26",
                                    "4": "1812.6"
                                },
                                {
                                    "0": "CEU4422111230",
                                    "1": "44221112",
                                    "2": "Fossil fuel electric power generation",
                                    "3": "1712.65",
                                    "4": "1758.48"
                                },
                                {
                                    "0": "CEU5552413030",
                                    "1": "55524130",
                                    "2": "Reinsurance carriers",
                                    "3": "1699.97",
                                    "4": "1847.47"
                                },
                                {
                                    "0": "CEU4422111030",
                                    "1": "44221110",
                                    "2": "Electric power generation",
                                    "3": "1688.8",
                                    "4": "1704.42"
                                },
                                {
                                    "0": "CEU3133641130",
                                    "1": "31336411",
                                    "2": "Aircraft",
                                    "3": "1639.99",
                                    "4": "1638.63"
                                },
                                {
                                    "0": "CEU5552392030",
                                    "1": "55523920",
                                    "2": "Portfolio management",
                                    "3": "1637.45",
                                    "4": "1614.25"
                                },
                                {
                                    "0": "CEU6054151130",
                                    "1": "60541511",
                                    "2": "Custom computer programming services",
                                    "3": "1618.81",
                                    "4": "1651.65"
                                },
                                {
                                    "0": "CEU5552320030",
                                    "1": "55523200",
                                    "2": "NULL",
                                    "3": "1603.07",
                                    "4": "1655.98"
                                }
                            ]
                        },
                        "text/html": "<table><tr><th>series_id</th><th>industry_code</th><th>industry_name</th><th>avg_earnings_2016</th><th>avg_earnings_2017</th></tr><tr><td>CEU4348600030</td><td>43486000</td><td>Pipeline transportation</td><td>1730.96</td><td>1749.56</td></tr><tr><td>CEU5051120030</td><td>50511200</td><td>Software publishers</td><td>1720.42</td><td>1713.07</td></tr><tr><td>CEU3232400030</td><td>32324000</td><td>Petroleum and coal products</td><td>1718.26</td><td>1812.6</td></tr><tr><td>CEU4422111230</td><td>44221112</td><td>Fossil fuel electric power generation</td><td>1712.65</td><td>1758.48</td></tr><tr><td>CEU5552413030</td><td>55524130</td><td>Reinsurance carriers</td><td>1699.97</td><td>1847.47</td></tr><tr><td>CEU4422111030</td><td>44221110</td><td>Electric power generation</td><td>1688.8</td><td>1704.42</td></tr><tr><td>CEU3133641130</td><td>31336411</td><td>Aircraft</td><td>1639.99</td><td>1638.63</td></tr><tr><td>CEU5552392030</td><td>55523920</td><td>Portfolio management</td><td>1637.45</td><td>1614.25</td></tr><tr><td>CEU6054151130</td><td>60541511</td><td>Custom computer programming services</td><td>1618.81</td><td>1651.65</td></tr><tr><td>CEU5552320030</td><td>55523200</td><td>NULL</td><td>1603.07</td><td>1655.98</td></tr></table>"
                    },
                    "metadata": {}
                }
            ],
            "execution_count": 1
        },
        {
            "cell_type": "markdown",
            "source": [
                "## <span style=\"font-size:12pt;font-family:Montserrat, sans-serif;color:rgb(53, 74, 95);background-color:rgb(255, 255, 255);font-weight:700;vertical-align:baseline;white-space:pre-wrap;\">Summarize Your Results</span>\n",
                "\n",
                "<span style=\"font-size:10pt;font-family:Arvo, serif;color:rgb(102, 102, 102);background-color:rgb(255, 255, 255);vertical-align:baseline;white-space:pre-wrap;\">With what you know now about the </span> <span style=\"background-color:rgb(255, 255, 255);color:rgb(102, 102, 102);font-family:&quot;Times New Roman&quot;;font-size:13.3333px;white-space:pre-wrap;\">Bureau of Labor Statistics (BLS) Current Employment Survey (CES) results and working with the</span> <span style=\"color:rgb(102, 102, 102);white-space:pre-wrap;font-family:&quot;Times New Roman&quot;;font-size:13.3333px;\">Labor Statistics Database</span><span style=\"background-color:rgb(255, 255, 255);color:rgb(102, 102, 102);font-family:Arvo, serif;font-size:10pt;white-space:pre-wrap;\">, answer the following questions. Note that while this is subjective, you should include relevant data to back up your opinion.</span>\n",
                "\n",
                "1. <span style=\"background-color:rgb(255, 255, 255);font-size:10pt;white-space:pre-wrap;color:rgb(102, 102, 102);font-family:Arvo, serif;\">During which time period did production and nonsupervisory employees fare better?</span>"
            ],
            "metadata": {
                "azdata_cell_guid": "780f65a6-b9e7-4f24-9132-293c47f559e8"
            },
            "attachments": {}
        },
        {
            "cell_type": "markdown",
            "source": [
                "![](data:image/png;base64,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)\n",
                "\n",
                "The above details shows that 2017 is the fare better time period for production and nonsupervisory employees."
            ],
            "metadata": {
                "azdata_cell_guid": "f11f1fb2-f7d1-41e5-bc9c-84087d7cfc93"
            },
            "attachments": {}
        },
        {
            "cell_type": "markdown",
            "source": [
                "2. <span style=\"background-color: rgb(255, 255, 255); font-size: 10pt; white-space: pre-wrap; color: rgb(102, 102, 102); font-family: Arvo, serif;\">In which industries did production and nonsupervisory employees fare better?</span>"
            ],
            "metadata": {
                "azdata_cell_guid": "f606e5e5-f6f1-4070-bbfa-e31617b43e56"
            },
            "attachments": {}
        },
        {
            "cell_type": "markdown",
            "source": [
                "Pipeline transportation, Software publishers, Petroleum and coal products, Fossil fuel electric power generation\n",
                "\n",
                "Reinsurance carriers, Electric power generation, Aircraft, Portfolio management and\n",
                "\n",
                "Custom computer programming services these are the industries of production and nonsupervisory employees fare better."
            ],
            "metadata": {
                "azdata_cell_guid": "94e18f5d-b87b-4ba6-b1fd-bde035dafc04"
            },
            "attachments": {}
        },
        {
            "cell_type": "markdown",
            "source": [
                "3. <span style=\"font-size: 10pt; font-family: Arvo, serif; color: rgb(102, 102, 102); background-color: rgb(255, 255, 255); font-variant-numeric: normal; font-variant-east-asian: normal; vertical-align: baseline; white-space: pre-wrap;\">Now that you have explored the datasets, is there any data or information that you wish you had in this analysis?</span>"
            ],
            "metadata": {
                "azdata_cell_guid": "101e4449-601a-46c6-b217-23f3339cfa76"
            },
            "attachments": {}
        },
        {
            "cell_type": "markdown",
            "source": [
                "It would be useful if we have detailed information about \\[value\\] for what it is about and foot notes details also.\n",
                "\n",
                "It would be interesting to have the data broken down by the states or regions to see how labor market conditions vary accross different areas, \n",
                "\n",
                "Also this database provides the data for women employes, but it would be useful to have the datas like other demographic factors such as race, age and education level to see how different groups are faring in the labor market."
            ],
            "metadata": {
                "azdata_cell_guid": "d07e9180-f5e0-49b4-b395-2c6c8a5f8aac"
            },
            "attachments": {}
        }
    ]
}