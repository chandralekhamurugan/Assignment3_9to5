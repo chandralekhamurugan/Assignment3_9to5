{
    "metadata": {
        "kernelspec": {
            "name": "SQL",
            "display_name": "SQL",
            "language": "sql"
        },
        "language_info": {
            "name": "sql",
            "version": ""
        },
        "extensions": {
            "azuredatastudio": {
                "version": 1,
                "views": []
            }
        }
    },
    "nbformat_minor": 2,
    "nbformat": 4,
    "cells": [
        {
            "cell_type": "markdown",
            "source": [
                "# <span style=\"font-size: 20pt; font-family: Montserrat, sans-serif; color: rgb(92, 148, 206); background-color: rgb(255, 255, 255); font-weight: 700; font-variant-east-asian: normal; vertical-align: baseline; white-space: pre-wrap;\">Graded Assignment 3: 9 to 5</span>\n",
                "\n",
                "<span style=\"font-size: 10pt; font-family: &quot;Times New Roman&quot;; color: rgb(102, 102, 102); background-color: rgb(255, 255, 255); font-variant-east-asian: normal; vertical-align: baseline; white-space: pre-wrap;\">Time to show off your SQL skills! For each question, copy the SQL query you used and make note of the answer.</span>\n",
                "\n",
                "## <span style=\"font-size: 12pt; font-family: Montserrat, sans-serif; color: rgb(53, 74, 95); background-color: rgb(255, 255, 255); font-weight: 700; font-variant-east-asian: normal; vertical-align: baseline; white-space: pre-wrap;\">The Dataset</span>\n",
                "\n",
                "<span style=\"font-size: 10pt; font-family: &quot;Times New Roman&quot;; color: rgb(102, 102, 102); background-color: rgb(255, 255, 255); font-variant-east-asian: normal; vertical-align: baseline; white-space: pre-wrap;\">For this assignment, you will be using the Bureau of Labor Statistics (BLS) Current Employment Survey (CES) results which can be found on</span> [<span style=\"font-size: 10pt; font-family: &quot;Times New Roman&quot;; color: rgb(17, 85, 204); background-color: rgb(255, 255, 255); font-variant-east-asian: normal; text-decoration-line: underline; vertical-align: baseline; white-space: pre-wrap;\">Kaggle</span>](https:\\www.kaggle.com\\bls\\employment)<span style=\"font-size: 10pt; font-family: &quot;Times New Roman&quot;; color: rgb(102, 102, 102); background-color: rgb(255, 255, 255); font-variant-east-asian: normal; vertical-align: baseline; white-space: pre-wrap;\">.</span>\n",
                "\n",
                "## <span style=\"font-size: 12pt; font-family: Montserrat, sans-serif; color: rgb(53, 74, 95); background-color: rgb(255, 255, 255); font-weight: 700; font-variant-east-asian: normal; vertical-align: baseline; white-space: pre-wrap;\">Business Issue</span>\n",
                "\n",
                "<span style=\"font-size: 10pt; font-family: &quot;Times New Roman&quot;; color: rgb(102, 102, 102); background-color: rgb(255, 255, 255); font-variant-east-asian: normal; vertical-align: baseline; white-space: pre-wrap;\">You are working for the Bureau of Labor Statistics with the United States government and have been approached by your boss with an important meeting request. You have been asked by your supervisor to meet with Dolly Parton whose nonprofit is looking to shed light on the state of employment in the United States. As part of the 9 to 5 project, their research is focused on production and nonsupervisory employees and how those employees fare compared to all employees in the United States. While the data the BLS collects from the CES is publicly available, Dolly Parton and her colleagues need your assistance navigating the thousands of rows in each table in LaborStatisticsDB.</span>\n",
                "\n",
                "## <span style=\"font-size: 12pt; font-family: Montserrat, sans-serif; color: rgb(53, 74, 95); background-color: rgb(255, 255, 255); font-weight: 700; font-variant-east-asian: normal; vertical-align: baseline; white-space: pre-wrap;\">About the Dataset</span>\n",
                "\n",
                "<span style=\"font-size: 10pt; font-family: &quot;Times New Roman&quot;; color: rgb(102, 102, 102); background-color: rgb(255, 255, 255); font-variant-east-asian: normal; vertical-align: baseline; white-space: pre-wrap;\">This dataset comes directly from the Bureau of Labor Statistics’ Current Employment Survey (CES). Here are some things you need to know:</span>\n",
                "\n",
                "1. <span style=\"font-size: 10pt; background-color: rgb(255, 255, 255); font-variant-east-asian: normal; vertical-align: baseline; white-space: pre-wrap;\">The industry table contains an NAICS code. This is different from the industry code. NAICS stands for North American Industry Classification System.</span>\n",
                "    \n",
                "2. <span style=\"font-size: 10pt; background-color: rgb(255, 255, 255); font-variant-east-asian: normal; vertical-align: baseline; white-space: pre-wrap;\">Series ID is composed of multiple different codes. CES stands for Current Employment Survey, the name of the survey which collected the data. The industry code as specified by the BLS and the data type code as specified in the datatype table.</span>\n",
                "    \n",
                "\n",
                "## <span style=\"font-size: 12pt; font-family: Montserrat, sans-serif; color: rgb(53, 74, 95); background-color: rgb(255, 255, 255); font-weight: 700; font-variant-east-asian: normal; vertical-align: baseline; white-space: pre-wrap;\">Set Up</span>\n",
                "\n",
                "<span style=\"font-size: 10pt; font-family: &quot;Times New Roman&quot;; color: rgb(102, 102, 102); background-color: rgb(255, 255, 255); font-variant-east-asian: normal; vertical-align: baseline; white-space: pre-wrap;\">To connect to the database, use the same connection info used during the SQL lessons.&nbsp;</span>   \n",
                "\n",
                "<span style=\"font-size: 10pt; font-family: &quot;Times New Roman&quot;; color: rgb(102, 102, 102); background-color: rgb(255, 255, 255); font-variant-east-asian: normal; vertical-align: baseline; white-space: pre-wrap;\">For the assignment, we will be using the LaborStatisticsDB database.</span>\n",
                "\n",
                "## <span style=\"font-size: 12pt; font-family: Montserrat, sans-serif; color: rgb(53, 74, 95); background-color: rgb(255, 255, 255); font-weight: 700; font-variant-east-asian: normal; vertical-align: baseline; white-space: pre-wrap;\">Database Exploration</span>\n",
                "\n",
                "<span style=\"font-size: 10pt; font-family: &quot;Times New Roman&quot;; color: rgb(102, 102, 102); background-color: rgb(255, 255, 255); font-variant-east-asian: normal; vertical-align: baseline; white-space: pre-wrap;\">To start with, let’s get to know the database further.</span>\n",
                "\n",
                "1. <span style=\"background-color: rgb(255, 255, 255); color: rgb(102, 102, 102); font-family: &quot;Times New Roman&quot;; font-size: 10pt; white-space: pre-wrap;\">Use this space to make note of each table in the database, the columns within each table, each column’s data type, and how the tables are connected. You can write this down or draw a diagram. Whatever method helps you get an understanding of what is going on with LaborStatisticsDB.</span>\n",
                "\n",
                "          [Launch Code: 9-5 Project](.\\LabourStatisticsDB%20-%20ERD%20with%20colored%20entities%20(UML%20notation).jpeg)"
            ],
            "metadata": {
                "azdata_cell_guid": "28ea70c5-f0be-4197-b6c0-ade22886a708"
            },
            "attachments": {}
        },
        {
            "cell_type": "markdown",
            "source": [
                "To add a photo, diagram or document to your file, drop the file into the folder that holds this notebook.  Use the the link button to the right of the  \\</\\> symbol in the gray part of this cell, the link is just the name of your file."
            ],
            "metadata": {
                "azdata_cell_guid": "62d87e57-006a-4f3d-8dd6-10e284468cf2"
            },
            "attachments": {}
        },
        {
            "cell_type": "markdown",
            "source": [
                "2. <span style=\"background-color: rgb(255, 255, 255); color: rgb(102, 102, 102); font-family: Arvo, serif; font-size: 10pt; white-space: pre-wrap;\">What is the datatype for women employees?</span>"
            ],
            "metadata": {
                "azdata_cell_guid": "01b111b7-baf1-4617-88bc-cd442826c9c9"
            },
            "attachments": {}
        },
        {
            "cell_type": "code",
            "source": [
                "--TINYINT\r\n",
                "\r\n",
                "select data_type_code, data_type_text from LaborStatisticsDB.dbo.datatype\r\n",
                "where data_type_text = 'women employees';\r\n",
                "\r\n",
                ""
            ],
            "metadata": {
                "azdata_cell_guid": "02fa547c-0bb7-4a40-81c2-f5c05154df04",
                "language": "sql"
            },
            "outputs": [
                {
                    "output_type": "display_data",
                    "data": {
                        "text/html": "(1 row affected)"
                    },
                    "metadata": {}
                },
                {
                    "output_type": "display_data",
                    "data": {
                        "text/html": "Total execution time: 00:00:00.038"
                    },
                    "metadata": {}
                },
                {
                    "output_type": "execute_result",
                    "metadata": {},
                    "execution_count": 1,
                    "data": {
                        "application/vnd.dataresource+json": {
                            "schema": {
                                "fields": [
                                    {
                                        "name": "data_type_code"
                                    },
                                    {
                                        "name": "data_type_text"
                                    }
                                ]
                            },
                            "data": [
                                {
                                    "0": "10",
                                    "1": "WOMEN EMPLOYEES"
                                }
                            ]
                        },
                        "text/html": [
                            "<table>",
                            "<tr><th>data_type_code</th><th>data_type_text</th></tr>",
                            "<tr><td>10</td><td>WOMEN EMPLOYEES</td></tr>",
                            "</table>"
                        ]
                    }
                }
            ],
            "execution_count": 1
        },
        {
            "cell_type": "markdown",
            "source": [
                "3. <span style=\"background-color: rgb(255, 255, 255); font-size: 10pt; white-space: pre-wrap; color: rgb(102, 102, 102); font-family: Arvo, serif;\">What is the series id for&nbsp; women employees in the commercial banking industry in the financial activities supersector?</span>"
            ],
            "metadata": {
                "azdata_cell_guid": "325f85cc-9545-47b3-b975-3aab6278e4ea"
            },
            "attachments": {}
        },
        {
            "cell_type": "code",
            "source": [
                "select s.series_id, s.series_title, I.industry_code, I.industry_name, ss.supersector_code, ss.supersector_name from LaborStatisticsDB.dbo.series S \r\n",
                "join LaborStatisticsDB.dbo.supersector  SS on s.supersector_code = ss.supersector_code\r\n",
                "join LaborStatisticsDB.dbo.industry I on S.industry_code = I.industry_code\r\n",
                "where  I.industry_name = 'commercial banking' and ss.supersector_name = 'financial activities'\r\n",
                "and s.series_title = 'women employees'\r\n",
                ""
            ],
            "metadata": {
                "azdata_cell_guid": "1315af1f-45f8-457d-8bbe-8e9f46303fca",
                "language": "sql"
            },
            "outputs": [
                {
                    "output_type": "display_data",
                    "data": {
                        "text/html": "(2 rows affected)"
                    },
                    "metadata": {}
                },
                {
                    "output_type": "display_data",
                    "data": {
                        "text/html": "Total execution time: 00:00:00.046"
                    },
                    "metadata": {}
                },
                {
                    "output_type": "execute_result",
                    "execution_count": 8,
                    "data": {
                        "application/vnd.dataresource+json": {
                            "schema": {
                                "fields": [
                                    {
                                        "name": "series_id"
                                    },
                                    {
                                        "name": "series_title"
                                    },
                                    {
                                        "name": "industry_code"
                                    },
                                    {
                                        "name": "industry_name"
                                    },
                                    {
                                        "name": "supersector_code"
                                    },
                                    {
                                        "name": "supersector_name"
                                    }
                                ]
                            },
                            "data": [
                                {
                                    "0": "CES5552211010",
                                    "1": "Women employees",
                                    "2": "55522110",
                                    "3": "Commercial banking",
                                    "4": "55",
                                    "5": "Financial activities"
                                },
                                {
                                    "0": "CEU5552211010",
                                    "1": "Women employees",
                                    "2": "55522110",
                                    "3": "Commercial banking",
                                    "4": "55",
                                    "5": "Financial activities"
                                }
                            ]
                        },
                        "text/html": "<table><tr><th>series_id</th><th>series_title</th><th>industry_code</th><th>industry_name</th><th>supersector_code</th><th>supersector_name</th></tr><tr><td>CES5552211010</td><td>Women employees</td><td>55522110</td><td>Commercial banking</td><td>55</td><td>Financial activities</td></tr><tr><td>CEU5552211010</td><td>Women employees</td><td>55522110</td><td>Commercial banking</td><td>55</td><td>Financial activities</td></tr></table>"
                    },
                    "metadata": {}
                }
            ],
            "execution_count": 8
        },
        {
            "cell_type": "markdown",
            "source": [
                "## <span style=\"font-size: 12pt; font-family: Montserrat, sans-serif; color: rgb(53, 74, 95); background-color: rgb(255, 255, 255); font-weight: 700; font-variant-numeric: normal; font-variant-east-asian: normal; vertical-align: baseline; white-space: pre-wrap;\">Join in on the Fun</span>\n",
                "\n",
                "<span style=\"font-size: 10pt; font-family: Arvo, serif; color: rgb(102, 102, 102); background-color: rgb(255, 255, 255); font-variant-numeric: normal; font-variant-east-asian: normal; vertical-align: baseline; white-space: pre-wrap;\">Time to start joining! You can choose the type of join you use, just make sure to make a&nbsp; note!</span>\n",
                "\n",
                "1. <span style=\"background-color: rgb(255, 255, 255); font-size: 10pt; white-space: pre-wrap; color: rgb(102, 102, 102); font-family: Arvo, serif;\">Join&nbsp; annual_2016 with series on series_id. We only want the data in the annual_2016 table to be included in the result.</span>"
            ],
            "metadata": {
                "azdata_cell_guid": "ec1dfc63-ad41-4349-8c26-1d326ace8c6c"
            },
            "attachments": {}
        },
        {
            "cell_type": "code",
            "source": [
                "select A.id, A.series_id, A.[year], A.[period], A.[value], A.footnote_codes, A.original_file \r\n",
                "from LaborStatisticsDB.dbo.annual_2016 as A \r\n",
                "inner join LaborStatisticsDB.dbo.series as S \r\n",
                "on a.series_id = s.series_id\r\n",
                "where A.id < 10  --I'm adding this where clause to reduce the file size"
            ],
            "metadata": {
                "azdata_cell_guid": "546c1db2-e5b8-4050-a245-b32bbad0acdd",
                "language": "sql"
            },
            "outputs": [
                {
                    "output_type": "display_data",
                    "data": {
                        "text/html": "(10 rows affected)"
                    },
                    "metadata": {}
                },
                {
                    "output_type": "display_data",
                    "data": {
                        "text/html": "Total execution time: 00:00:00.279"
                    },
                    "metadata": {}
                },
                {
                    "output_type": "execute_result",
                    "execution_count": 17,
                    "data": {
                        "application/vnd.dataresource+json": {
                            "schema": {
                                "fields": [
                                    {
                                        "name": "id"
                                    },
                                    {
                                        "name": "series_id"
                                    },
                                    {
                                        "name": "year"
                                    },
                                    {
                                        "name": "period"
                                    },
                                    {
                                        "name": "value"
                                    },
                                    {
                                        "name": "footnote_codes"
                                    },
                                    {
                                        "name": "original_file"
                                    }
                                ]
                            },
                            "data": [
                                {
                                    "0": "0",
                                    "1": "CEU5500000007",
                                    "2": "2016",
                                    "3": "M13",
                                    "4": "36.9",
                                    "5": "NULL",
                                    "6": "ce.data.55c.FinancialActivities.ProductionEmployeeHoursAndEarnings.csv"
                                },
                                {
                                    "0": "1",
                                    "1": "CEU5500000008",
                                    "2": "2016",
                                    "3": "M13",
                                    "4": "26.11",
                                    "5": "NULL",
                                    "6": "ce.data.55c.FinancialActivities.ProductionEmployeeHoursAndEarnings.csv"
                                },
                                {
                                    "0": "2",
                                    "1": "CEU5500000030",
                                    "2": "2016",
                                    "3": "M13",
                                    "4": "962.73",
                                    "5": "NULL",
                                    "6": "ce.data.55c.FinancialActivities.ProductionEmployeeHoursAndEarnings.csv"
                                },
                                {
                                    "0": "3",
                                    "1": "CEU5500000031",
                                    "2": "2016",
                                    "3": "M13",
                                    "4": "411.29",
                                    "5": "NULL",
                                    "6": "ce.data.55c.FinancialActivities.ProductionEmployeeHoursAndEarnings.csv"
                                },
                                {
                                    "0": "4",
                                    "1": "CEU5500000032",
                                    "2": "2016",
                                    "3": "M13",
                                    "4": "11.15",
                                    "5": "NULL",
                                    "6": "ce.data.55c.FinancialActivities.ProductionEmployeeHoursAndEarnings.csv"
                                },
                                {
                                    "0": "5",
                                    "1": "CEU5500000034",
                                    "2": "2016",
                                    "3": "M13",
                                    "4": "111.6",
                                    "5": "NULL",
                                    "6": "ce.data.55c.FinancialActivities.ProductionEmployeeHoursAndEarnings.csv"
                                },
                                {
                                    "0": "6",
                                    "1": "CEU5500000035",
                                    "2": "2016",
                                    "3": "M13",
                                    "4": "179.2",
                                    "5": "NULL",
                                    "6": "ce.data.55c.FinancialActivities.ProductionEmployeeHoursAndEarnings.csv"
                                },
                                {
                                    "0": "7",
                                    "1": "CEU5500000081",
                                    "2": "2016",
                                    "3": "M13",
                                    "4": "236997",
                                    "5": "NULL",
                                    "6": "ce.data.55c.FinancialActivities.ProductionEmployeeHoursAndEarnings.csv"
                                },
                                {
                                    "0": "8",
                                    "1": "CEU5500000082",
                                    "2": "2016",
                                    "3": "M13",
                                    "4": "6189003",
                                    "5": "NULL",
                                    "6": "ce.data.55c.FinancialActivities.ProductionEmployeeHoursAndEarnings.csv"
                                },
                                {
                                    "0": "9",
                                    "1": "CEU5552200007",
                                    "2": "2016",
                                    "3": "M13",
                                    "4": "37.3",
                                    "5": "NULL",
                                    "6": "ce.data.55c.FinancialActivities.ProductionEmployeeHoursAndEarnings.csv"
                                }
                            ]
                        },
                        "text/html": "<table><tr><th>id</th><th>series_id</th><th>year</th><th>period</th><th>value</th><th>footnote_codes</th><th>original_file</th></tr><tr><td>0</td><td>CEU5500000007</td><td>2016</td><td>M13</td><td>36.9</td><td>NULL</td><td>ce.data.55c.FinancialActivities.ProductionEmployeeHoursAndEarnings.csv</td></tr><tr><td>1</td><td>CEU5500000008</td><td>2016</td><td>M13</td><td>26.11</td><td>NULL</td><td>ce.data.55c.FinancialActivities.ProductionEmployeeHoursAndEarnings.csv</td></tr><tr><td>2</td><td>CEU5500000030</td><td>2016</td><td>M13</td><td>962.73</td><td>NULL</td><td>ce.data.55c.FinancialActivities.ProductionEmployeeHoursAndEarnings.csv</td></tr><tr><td>3</td><td>CEU5500000031</td><td>2016</td><td>M13</td><td>411.29</td><td>NULL</td><td>ce.data.55c.FinancialActivities.ProductionEmployeeHoursAndEarnings.csv</td></tr><tr><td>4</td><td>CEU5500000032</td><td>2016</td><td>M13</td><td>11.15</td><td>NULL</td><td>ce.data.55c.FinancialActivities.ProductionEmployeeHoursAndEarnings.csv</td></tr><tr><td>5</td><td>CEU5500000034</td><td>2016</td><td>M13</td><td>111.6</td><td>NULL</td><td>ce.data.55c.FinancialActivities.ProductionEmployeeHoursAndEarnings.csv</td></tr><tr><td>6</td><td>CEU5500000035</td><td>2016</td><td>M13</td><td>179.2</td><td>NULL</td><td>ce.data.55c.FinancialActivities.ProductionEmployeeHoursAndEarnings.csv</td></tr><tr><td>7</td><td>CEU5500000081</td><td>2016</td><td>M13</td><td>236997</td><td>NULL</td><td>ce.data.55c.FinancialActivities.ProductionEmployeeHoursAndEarnings.csv</td></tr><tr><td>8</td><td>CEU5500000082</td><td>2016</td><td>M13</td><td>6189003</td><td>NULL</td><td>ce.data.55c.FinancialActivities.ProductionEmployeeHoursAndEarnings.csv</td></tr><tr><td>9</td><td>CEU5552200007</td><td>2016</td><td>M13</td><td>37.3</td><td>NULL</td><td>ce.data.55c.FinancialActivities.ProductionEmployeeHoursAndEarnings.csv</td></tr></table>"
                    },
                    "metadata": {}
                }
            ],
            "execution_count": 17
        },
        {
            "cell_type": "markdown",
            "source": [
                "2. <span style=\"background-color: rgb(255, 255, 255); font-size: 10pt; white-space: pre-wrap; color: rgb(102, 102, 102); font-family: Arvo, serif;\">Join series and datatype on data_type_code</span>"
            ],
            "metadata": {
                "azdata_cell_guid": "710b59ae-224b-4f9d-b1a4-4a6b89048bbb"
            },
            "attachments": {}
        },
        {
            "cell_type": "code",
            "source": [
                "select top 10 * from LaborStatisticsDB.dbo.series as S  \r\n",
                "join LaborStatisticsDB.dbo.datatype as D  \r\n",
                "on s.data_type_code = d.data_type_code\r\n",
                ""
            ],
            "metadata": {
                "azdata_cell_guid": "fca61371-c9b5-4823-a4b4-34c1279ece3e",
                "language": "sql",
                "tags": []
            },
            "outputs": [
                {
                    "output_type": "display_data",
                    "data": {
                        "text/html": "(10 rows affected)"
                    },
                    "metadata": {}
                },
                {
                    "output_type": "display_data",
                    "data": {
                        "text/html": "Total execution time: 00:00:00.065"
                    },
                    "metadata": {}
                },
                {
                    "output_type": "execute_result",
                    "execution_count": 2,
                    "data": {
                        "application/vnd.dataresource+json": {
                            "schema": {
                                "fields": [
                                    {
                                        "name": "series_id"
                                    },
                                    {
                                        "name": "supersector_code"
                                    },
                                    {
                                        "name": "industry_code"
                                    },
                                    {
                                        "name": "data_type_code"
                                    },
                                    {
                                        "name": "seasonal"
                                    },
                                    {
                                        "name": "series_title"
                                    },
                                    {
                                        "name": "data_type_code"
                                    },
                                    {
                                        "name": "data_type_text"
                                    }
                                ]
                            },
                            "data": [
                                {
                                    "0": "CES0000000001",
                                    "1": "0",
                                    "2": "00000000",
                                    "3": "1",
                                    "4": "S",
                                    "5": "All employees",
                                    "6": "1",
                                    "7": "ALL EMPLOYEES"
                                },
                                {
                                    "0": "CES0000000010",
                                    "1": "0",
                                    "2": "00000000",
                                    "3": "10",
                                    "4": "S",
                                    "5": "Women employees",
                                    "6": "10",
                                    "7": "WOMEN EMPLOYEES"
                                },
                                {
                                    "0": "CES0000000025",
                                    "1": "0",
                                    "2": "00000000",
                                    "3": "25",
                                    "4": "S",
                                    "5": "All employees",
                                    "6": "25",
                                    "7": "ALL EMPLOYEES"
                                },
                                {
                                    "0": "CES0000000026",
                                    "1": "0",
                                    "2": "00000000",
                                    "3": "26",
                                    "4": "S",
                                    "5": "All employees",
                                    "6": "26",
                                    "7": "ALL EMPLOYEES"
                                },
                                {
                                    "0": "CES0500000001",
                                    "1": "5",
                                    "2": "05000000",
                                    "3": "1",
                                    "4": "S",
                                    "5": "All employees",
                                    "6": "1",
                                    "7": "ALL EMPLOYEES"
                                },
                                {
                                    "0": "CES0500000002",
                                    "1": "5",
                                    "2": "05000000",
                                    "3": "2",
                                    "4": "S",
                                    "5": "Average weekly hours of all employees",
                                    "6": "2",
                                    "7": "AVERAGE WEEKLY HOURS OF ALL EMPLOYEES"
                                },
                                {
                                    "0": "CES0500000003",
                                    "1": "5",
                                    "2": "05000000",
                                    "3": "3",
                                    "4": "S",
                                    "5": "Average hourly earnings of all employees",
                                    "6": "3",
                                    "7": "AVERAGE HOURLY EARNINGS OF ALL EMPLOYEES"
                                },
                                {
                                    "0": "CES0500000006",
                                    "1": "5",
                                    "2": "05000000",
                                    "3": "6",
                                    "4": "S",
                                    "5": "Production and nonsupervisory employees",
                                    "6": "6",
                                    "7": "PRODUCTION AND NONSUPERVISORY EMPLOYEES"
                                },
                                {
                                    "0": "CES0500000007",
                                    "1": "5",
                                    "2": "05000000",
                                    "3": "7",
                                    "4": "S",
                                    "5": "Average weekly hours of production and nonsupervisory employees",
                                    "6": "7",
                                    "7": "AVERAGE WEEKLY HOURS OF PRODUCTION AND NONSUPERVISORY EMPLOYEES"
                                },
                                {
                                    "0": "CES0500000008",
                                    "1": "5",
                                    "2": "05000000",
                                    "3": "8",
                                    "4": "S",
                                    "5": "Average hourly earnings of production and nonsupervisory employees",
                                    "6": "8",
                                    "7": "AVERAGE HOURLY EARNINGS OF PRODUCTION AND NONSUPERVISORY EMPLOYEES"
                                }
                            ]
                        },
                        "text/html": "<table><tr><th>series_id</th><th>supersector_code</th><th>industry_code</th><th>data_type_code</th><th>seasonal</th><th>series_title</th><th>data_type_code</th><th>data_type_text</th></tr><tr><td>CES0000000001</td><td>0</td><td>00000000</td><td>1</td><td>S</td><td>All employees</td><td>1</td><td>ALL EMPLOYEES</td></tr><tr><td>CES0000000010</td><td>0</td><td>00000000</td><td>10</td><td>S</td><td>Women employees</td><td>10</td><td>WOMEN EMPLOYEES</td></tr><tr><td>CES0000000025</td><td>0</td><td>00000000</td><td>25</td><td>S</td><td>All employees</td><td>25</td><td>ALL EMPLOYEES</td></tr><tr><td>CES0000000026</td><td>0</td><td>00000000</td><td>26</td><td>S</td><td>All employees</td><td>26</td><td>ALL EMPLOYEES</td></tr><tr><td>CES0500000001</td><td>5</td><td>05000000</td><td>1</td><td>S</td><td>All employees</td><td>1</td><td>ALL EMPLOYEES</td></tr><tr><td>CES0500000002</td><td>5</td><td>05000000</td><td>2</td><td>S</td><td>Average weekly hours of all employees</td><td>2</td><td>AVERAGE WEEKLY HOURS OF ALL EMPLOYEES</td></tr><tr><td>CES0500000003</td><td>5</td><td>05000000</td><td>3</td><td>S</td><td>Average hourly earnings of all employees</td><td>3</td><td>AVERAGE HOURLY EARNINGS OF ALL EMPLOYEES</td></tr><tr><td>CES0500000006</td><td>5</td><td>05000000</td><td>6</td><td>S</td><td>Production and nonsupervisory employees</td><td>6</td><td>PRODUCTION AND NONSUPERVISORY EMPLOYEES</td></tr><tr><td>CES0500000007</td><td>5</td><td>05000000</td><td>7</td><td>S</td><td>Average weekly hours of production and nonsupervisory employees</td><td>7</td><td>AVERAGE WEEKLY HOURS OF PRODUCTION AND NONSUPERVISORY EMPLOYEES</td></tr><tr><td>CES0500000008</td><td>5</td><td>05000000</td><td>8</td><td>S</td><td>Average hourly earnings of production and nonsupervisory employees</td><td>8</td><td>AVERAGE HOURLY EARNINGS OF PRODUCTION AND NONSUPERVISORY EMPLOYEES</td></tr></table>"
                    },
                    "metadata": {}
                }
            ],
            "execution_count": 2
        },
        {
            "cell_type": "markdown",
            "source": [
                "3. <span style=\"background-color: rgb(255, 255, 255); font-size: 10pt; white-space: pre-wrap; color: rgb(102, 102, 102); font-family: Arvo, serif;\">Join series and industry on industry_code</span>"
            ],
            "metadata": {
                "azdata_cell_guid": "78ac8ba4-2a6a-426f-af30-6b56d9d09054"
            },
            "attachments": {}
        },
        {
            "cell_type": "code",
            "source": [
                "select top 10 * from LaborStatisticsDB.dbo.series as S  \r\n",
                "join LaborStatisticsDB.dbo.industry as I  \r\n",
                "on s.industry_code = i.industry_code"
            ],
            "metadata": {
                "azdata_cell_guid": "ac022766-e280-4d95-8362-1f2b18773662",
                "language": "sql"
            },
            "outputs": [
                {
                    "output_type": "display_data",
                    "data": {
                        "text/html": "(10 rows affected)"
                    },
                    "metadata": {}
                },
                {
                    "output_type": "display_data",
                    "data": {
                        "text/html": "Total execution time: 00:00:00.045"
                    },
                    "metadata": {}
                },
                {
                    "output_type": "execute_result",
                    "execution_count": 5,
                    "data": {
                        "application/vnd.dataresource+json": {
                            "schema": {
                                "fields": [
                                    {
                                        "name": "series_id"
                                    },
                                    {
                                        "name": "supersector_code"
                                    },
                                    {
                                        "name": "industry_code"
                                    },
                                    {
                                        "name": "data_type_code"
                                    },
                                    {
                                        "name": "seasonal"
                                    },
                                    {
                                        "name": "series_title"
                                    },
                                    {
                                        "name": "id"
                                    },
                                    {
                                        "name": "industry_code"
                                    },
                                    {
                                        "name": "naics_code"
                                    },
                                    {
                                        "name": "publishing_status"
                                    },
                                    {
                                        "name": "industry_name"
                                    },
                                    {
                                        "name": "display_level"
                                    },
                                    {
                                        "name": "selectable"
                                    },
                                    {
                                        "name": "sort_sequence"
                                    }
                                ]
                            },
                            "data": [
                                {
                                    "0": "CES0000000001",
                                    "1": "0",
                                    "2": "00000000",
                                    "3": "1",
                                    "4": "S",
                                    "5": "All employees",
                                    "6": "0",
                                    "7": "0",
                                    "8": "-",
                                    "9": "B",
                                    "10": "Total nonfarm",
                                    "11": "0",
                                    "12": "T",
                                    "13": "1"
                                },
                                {
                                    "0": "CES0000000010",
                                    "1": "0",
                                    "2": "00000000",
                                    "3": "10",
                                    "4": "S",
                                    "5": "Women employees",
                                    "6": "0",
                                    "7": "0",
                                    "8": "-",
                                    "9": "B",
                                    "10": "Total nonfarm",
                                    "11": "0",
                                    "12": "T",
                                    "13": "1"
                                },
                                {
                                    "0": "CES0000000025",
                                    "1": "0",
                                    "2": "00000000",
                                    "3": "25",
                                    "4": "S",
                                    "5": "All employees",
                                    "6": "0",
                                    "7": "0",
                                    "8": "-",
                                    "9": "B",
                                    "10": "Total nonfarm",
                                    "11": "0",
                                    "12": "T",
                                    "13": "1"
                                },
                                {
                                    "0": "CES0000000026",
                                    "1": "0",
                                    "2": "00000000",
                                    "3": "26",
                                    "4": "S",
                                    "5": "All employees",
                                    "6": "0",
                                    "7": "0",
                                    "8": "-",
                                    "9": "B",
                                    "10": "Total nonfarm",
                                    "11": "0",
                                    "12": "T",
                                    "13": "1"
                                },
                                {
                                    "0": "CES0500000001",
                                    "1": "5",
                                    "2": "05000000",
                                    "3": "1",
                                    "4": "S",
                                    "5": "All employees",
                                    "6": "1",
                                    "7": "5000000",
                                    "8": "-",
                                    "9": "A",
                                    "10": "Total private",
                                    "11": "1",
                                    "12": "T",
                                    "13": "2"
                                },
                                {
                                    "0": "CES0500000002",
                                    "1": "5",
                                    "2": "05000000",
                                    "3": "2",
                                    "4": "S",
                                    "5": "Average weekly hours of all employees",
                                    "6": "1",
                                    "7": "5000000",
                                    "8": "-",
                                    "9": "A",
                                    "10": "Total private",
                                    "11": "1",
                                    "12": "T",
                                    "13": "2"
                                },
                                {
                                    "0": "CES0500000003",
                                    "1": "5",
                                    "2": "05000000",
                                    "3": "3",
                                    "4": "S",
                                    "5": "Average hourly earnings of all employees",
                                    "6": "1",
                                    "7": "5000000",
                                    "8": "-",
                                    "9": "A",
                                    "10": "Total private",
                                    "11": "1",
                                    "12": "T",
                                    "13": "2"
                                },
                                {
                                    "0": "CES0500000006",
                                    "1": "5",
                                    "2": "05000000",
                                    "3": "6",
                                    "4": "S",
                                    "5": "Production and nonsupervisory employees",
                                    "6": "1",
                                    "7": "5000000",
                                    "8": "-",
                                    "9": "A",
                                    "10": "Total private",
                                    "11": "1",
                                    "12": "T",
                                    "13": "2"
                                },
                                {
                                    "0": "CES0500000007",
                                    "1": "5",
                                    "2": "05000000",
                                    "3": "7",
                                    "4": "S",
                                    "5": "Average weekly hours of production and nonsupervisory employees",
                                    "6": "1",
                                    "7": "5000000",
                                    "8": "-",
                                    "9": "A",
                                    "10": "Total private",
                                    "11": "1",
                                    "12": "T",
                                    "13": "2"
                                },
                                {
                                    "0": "CES0500000008",
                                    "1": "5",
                                    "2": "05000000",
                                    "3": "8",
                                    "4": "S",
                                    "5": "Average hourly earnings of production and nonsupervisory employees",
                                    "6": "1",
                                    "7": "5000000",
                                    "8": "-",
                                    "9": "A",
                                    "10": "Total private",
                                    "11": "1",
                                    "12": "T",
                                    "13": "2"
                                }
                            ]
                        },
                        "text/html": "<table><tr><th>series_id</th><th>supersector_code</th><th>industry_code</th><th>data_type_code</th><th>seasonal</th><th>series_title</th><th>id</th><th>industry_code</th><th>naics_code</th><th>publishing_status</th><th>industry_name</th><th>display_level</th><th>selectable</th><th>sort_sequence</th></tr><tr><td>CES0000000001</td><td>0</td><td>00000000</td><td>1</td><td>S</td><td>All employees</td><td>0</td><td>0</td><td>-</td><td>B</td><td>Total nonfarm</td><td>0</td><td>T</td><td>1</td></tr><tr><td>CES0000000010</td><td>0</td><td>00000000</td><td>10</td><td>S</td><td>Women employees</td><td>0</td><td>0</td><td>-</td><td>B</td><td>Total nonfarm</td><td>0</td><td>T</td><td>1</td></tr><tr><td>CES0000000025</td><td>0</td><td>00000000</td><td>25</td><td>S</td><td>All employees</td><td>0</td><td>0</td><td>-</td><td>B</td><td>Total nonfarm</td><td>0</td><td>T</td><td>1</td></tr><tr><td>CES0000000026</td><td>0</td><td>00000000</td><td>26</td><td>S</td><td>All employees</td><td>0</td><td>0</td><td>-</td><td>B</td><td>Total nonfarm</td><td>0</td><td>T</td><td>1</td></tr><tr><td>CES0500000001</td><td>5</td><td>05000000</td><td>1</td><td>S</td><td>All employees</td><td>1</td><td>5000000</td><td>-</td><td>A</td><td>Total private</td><td>1</td><td>T</td><td>2</td></tr><tr><td>CES0500000002</td><td>5</td><td>05000000</td><td>2</td><td>S</td><td>Average weekly hours of all employees</td><td>1</td><td>5000000</td><td>-</td><td>A</td><td>Total private</td><td>1</td><td>T</td><td>2</td></tr><tr><td>CES0500000003</td><td>5</td><td>05000000</td><td>3</td><td>S</td><td>Average hourly earnings of all employees</td><td>1</td><td>5000000</td><td>-</td><td>A</td><td>Total private</td><td>1</td><td>T</td><td>2</td></tr><tr><td>CES0500000006</td><td>5</td><td>05000000</td><td>6</td><td>S</td><td>Production and nonsupervisory employees</td><td>1</td><td>5000000</td><td>-</td><td>A</td><td>Total private</td><td>1</td><td>T</td><td>2</td></tr><tr><td>CES0500000007</td><td>5</td><td>05000000</td><td>7</td><td>S</td><td>Average weekly hours of production and nonsupervisory employees</td><td>1</td><td>5000000</td><td>-</td><td>A</td><td>Total private</td><td>1</td><td>T</td><td>2</td></tr><tr><td>CES0500000008</td><td>5</td><td>05000000</td><td>8</td><td>S</td><td>Average hourly earnings of production and nonsupervisory employees</td><td>1</td><td>5000000</td><td>-</td><td>A</td><td>Total private</td><td>1</td><td>T</td><td>2</td></tr></table>"
                    },
                    "metadata": {}
                }
            ],
            "execution_count": 5
        },
        {
            "cell_type": "markdown",
            "source": [
                "## <span style=\"font-size: 12pt; font-family: Montserrat, sans-serif; color: rgb(53, 74, 95); background-color: rgb(255, 255, 255); font-weight: 700; font-variant-numeric: normal; font-variant-east-asian: normal; vertical-align: baseline; white-space: pre-wrap;\">Aggregate Your Friends and Code some SQL</span>\n",
                "\n",
                "<span style=\"font-size: 10pt; font-family: Arvo, serif; color: rgb(102, 102, 102); background-color: rgb(255, 255, 255); font-variant-numeric: normal; font-variant-east-asian: normal; vertical-align: baseline; white-space: pre-wrap;\">Put together the following:</span>\n",
                "\n",
                "1. <span style=\"background-color: rgb(255, 255, 255); font-size: 10pt; white-space: pre-wrap; color: rgb(102, 102, 102); font-family: Arvo, serif;\">How many employees were reported in 2016 in all industries? Round to the nearest whole number.&nbsp; No chopping people into little bits, please.</span>"
            ],
            "metadata": {
                "azdata_cell_guid": "f4290cc1-f824-4586-8850-59d926bf4460"
            },
            "attachments": {}
        },
        {
            "cell_type": "code",
            "source": [
                "SELECT  round(sum([value]), 0) as 'All Industry', s.series_title\r\n",
                "FROM LaborStatisticsDB.dbo.annual_2016 A\r\n",
                "left join LaborStatisticsDB.dbo.series S \r\n",
                "on A.series_id = s.series_id\r\n",
                "WHERE s.series_title = 'All Employees'\r\n",
                "group by S.series_title;"
            ],
            "metadata": {
                "azdata_cell_guid": "25099068-a629-4eb5-afca-ed3748c40605",
                "language": "sql",
                "tags": []
            },
            "outputs": [
                {
                    "output_type": "display_data",
                    "data": {
                        "text/html": "(1 row affected)"
                    },
                    "metadata": {}
                },
                {
                    "output_type": "display_data",
                    "data": {
                        "text/html": "Total execution time: 00:00:00.055"
                    },
                    "metadata": {}
                },
                {
                    "output_type": "execute_result",
                    "execution_count": 59,
                    "data": {
                        "application/vnd.dataresource+json": {
                            "schema": {
                                "fields": [
                                    {
                                        "name": "All Industry"
                                    },
                                    {
                                        "name": "series_title"
                                    }
                                ]
                            },
                            "data": [
                                {
                                    "0": "2340612",
                                    "1": "All employees"
                                }
                            ]
                        },
                        "text/html": "<table><tr><th>All Industry</th><th>series_title</th></tr><tr><td>2340612</td><td>All employees</td></tr></table>"
                    },
                    "metadata": {}
                }
            ],
            "execution_count": 59
        },
        {
            "cell_type": "markdown",
            "source": [
                "2. <span style=\"background-color: rgb(255, 255, 255); font-size: 10pt; white-space: pre-wrap; color: rgb(102, 102, 102); font-family: Arvo, serif;\">How many women employees were reported in 2016 in all industries? Round to the nearest whole number.&nbsp;</span>"
            ],
            "metadata": {
                "azdata_cell_guid": "6358fab4-b933-4646-bef1-4be66dcd4317"
            },
            "attachments": {}
        },
        {
            "cell_type": "code",
            "source": [
                "SELECT  round(sum([value]), 0) as 'All Industry', s.series_title\r\n",
                "FROM LaborStatisticsDB.dbo.annual_2016 A\r\n",
                "left join LaborStatisticsDB.dbo.series S \r\n",
                "on A.series_id = s.series_id\r\n",
                "WHERE s.series_title = 'women Employees'\r\n",
                "group by S.series_title;"
            ],
            "metadata": {
                "azdata_cell_guid": "7bb0bfb7-b9e3-4672-b354-7ca705bb0c3b",
                "language": "sql"
            },
            "outputs": [
                {
                    "output_type": "display_data",
                    "data": {
                        "text/html": "(1 row affected)"
                    },
                    "metadata": {}
                },
                {
                    "output_type": "display_data",
                    "data": {
                        "text/html": "Total execution time: 00:00:00.055"
                    },
                    "metadata": {}
                },
                {
                    "output_type": "execute_result",
                    "execution_count": 58,
                    "data": {
                        "application/vnd.dataresource+json": {
                            "schema": {
                                "fields": [
                                    {
                                        "name": "All Industry"
                                    },
                                    {
                                        "name": "series_title"
                                    }
                                ]
                            },
                            "data": [
                                {
                                    "0": "1125490",
                                    "1": "Women employees"
                                }
                            ]
                        },
                        "text/html": "<table><tr><th>All Industry</th><th>series_title</th></tr><tr><td>1125490</td><td>Women employees</td></tr></table>"
                    },
                    "metadata": {}
                }
            ],
            "execution_count": 58
        },
        {
            "cell_type": "markdown",
            "source": [
                "3. <span style=\"background-color: rgb(255, 255, 255); font-size: 10pt; white-space: pre-wrap; color: rgb(102, 102, 102); font-family: Arvo, serif;\">How many production/nonsupervisory employees were reported in 2016? Round to the nearest whole number.&nbsp;</span>"
            ],
            "metadata": {
                "azdata_cell_guid": "246ea683-2075-4337-878d-fbfdd49b2dd7"
            },
            "attachments": {}
        },
        {
            "cell_type": "code",
            "source": [
                "SELECT  round(sum([value]), 0) as 'All Industry', s.series_title\r\n",
                "FROM LaborStatisticsDB.dbo.annual_2016 A\r\n",
                "left join LaborStatisticsDB.dbo.series S \r\n",
                "on A.series_id = s.series_id\r\n",
                "WHERE s.series_title = 'production and nonsupervisory employees'\r\n",
                "group by S.series_title"
            ],
            "metadata": {
                "azdata_cell_guid": "110f2591-069b-4bbe-87c7-2bcf76c3d36f",
                "language": "sql",
                "tags": []
            },
            "outputs": [
                {
                    "output_type": "display_data",
                    "data": {
                        "text/html": "(1 row affected)"
                    },
                    "metadata": {}
                },
                {
                    "output_type": "display_data",
                    "data": {
                        "text/html": "Total execution time: 00:00:00.053"
                    },
                    "metadata": {}
                },
                {
                    "output_type": "execute_result",
                    "execution_count": 71,
                    "data": {
                        "application/vnd.dataresource+json": {
                            "schema": {
                                "fields": [
                                    {
                                        "name": "All Industry"
                                    },
                                    {
                                        "name": "series_title"
                                    }
                                ]
                            },
                            "data": [
                                {
                                    "0": "1263650",
                                    "1": "Production and nonsupervisory employees"
                                }
                            ]
                        },
                        "text/html": "<table><tr><th>All Industry</th><th>series_title</th></tr><tr><td>1263650</td><td>Production and nonsupervisory employees</td></tr></table>"
                    },
                    "metadata": {}
                }
            ],
            "execution_count": 71
        },
        {
            "cell_type": "markdown",
            "source": [
                "4. <span style=\"background-color: rgb(255, 255, 255); font-size: 10pt; white-space: pre-wrap; color: rgb(102, 102, 102); font-family: Arvo, serif;\">In January 2017, what is the average weekly hours worked by production and nonsupervisory employees across all industries?</span>"
            ],
            "metadata": {
                "azdata_cell_guid": "9caa7f57-e39d-4b7a-b705-25f8fe29d60b"
            },
            "attachments": {}
        },
        {
            "cell_type": "code",
            "source": [
                "SELECT round(avg(J.[value]), 2) as 'All Industry', s.series_title\r\n",
                "FROM LaborStatisticsDB.dbo.january_2017 J\r\n",
                "inner join LaborStatisticsDB.dbo.series S \r\n",
                "on J.series_id = s.series_id\r\n",
                "WHERE s.series_title = 'Average weekly hours of production and nonsupervisory employees'\r\n",
                "group by S.series_title\r\n",
                "order by [All Industry] DESC\r\n",
                "--order by [All Industry]"
            ],
            "metadata": {
                "azdata_cell_guid": "9f07fa8a-4217-439a-a9cd-831240d4bc9e",
                "language": "sql"
            },
            "outputs": [
                {
                    "output_type": "display_data",
                    "data": {
                        "text/html": "(1 row affected)"
                    },
                    "metadata": {}
                },
                {
                    "output_type": "display_data",
                    "data": {
                        "text/html": "Total execution time: 00:00:00.066"
                    },
                    "metadata": {}
                },
                {
                    "output_type": "execute_result",
                    "metadata": {},
                    "execution_count": 16,
                    "data": {
                        "application/vnd.dataresource+json": {
                            "schema": {
                                "fields": [
                                    {
                                        "name": "All Industry"
                                    },
                                    {
                                        "name": "series_title"
                                    }
                                ]
                            },
                            "data": [
                                {
                                    "0": "36.06",
                                    "1": "Average weekly hours of production and nonsupervisory employees"
                                }
                            ]
                        },
                        "text/html": [
                            "<table>",
                            "<tr><th>All Industry</th><th>series_title</th></tr>",
                            "<tr><td>36.06</td><td>Average weekly hours of production and nonsupervisory employees</td></tr>",
                            "</table>"
                        ]
                    }
                }
            ],
            "execution_count": 16
        },
        {
            "cell_type": "markdown",
            "source": [
                "5. <span style=\"background-color: rgb(255, 255, 255); font-size: 10pt; white-space: pre-wrap; color: rgb(102, 102, 102); font-family: Arvo, serif;\">What is the total weekly payroll for production and nonsupervisory employees across all industries in January 2017? Round to the nearest penny, please.</span>"
            ],
            "metadata": {
                "azdata_cell_guid": "9c48ff2e-a6eb-4f02-8df2-988e219fbc00"
            },
            "attachments": {}
        },
        {
            "cell_type": "code",
            "source": [
                "SELECT  round(sum(J.VALUE), 0) as 'All_Industry', s.series_title\r\n",
                "FROM LaborStatisticsDB.dbo.january_2017 J\r\n",
                "INNER join LaborStatisticsDB.dbo.series S \r\n",
                "on J.series_id = s.series_id\r\n",
                "WHERE s.series_title = 'Aggregate weekly payrolls of production and nonsupervisory employees'\r\n",
                "group by S.series_title\r\n",
                "--order by [All_Industry] DESC\r\n",
                ""
            ],
            "metadata": {
                "azdata_cell_guid": "c565641b-f1fa-4dbb-9320-24adfda97ca5",
                "language": "sql"
            },
            "outputs": [
                {
                    "output_type": "display_data",
                    "data": {
                        "text/html": "(1 row affected)"
                    },
                    "metadata": {}
                },
                {
                    "output_type": "display_data",
                    "data": {
                        "text/html": "Total execution time: 00:00:00.065"
                    },
                    "metadata": {}
                },
                {
                    "output_type": "execute_result",
                    "metadata": {},
                    "execution_count": 21,
                    "data": {
                        "application/vnd.dataresource+json": {
                            "schema": {
                                "fields": [
                                    {
                                        "name": "All_Industry"
                                    },
                                    {
                                        "name": "series_title"
                                    }
                                ]
                            },
                            "data": [
                                {
                                    "0": "1838753220",
                                    "1": "Aggregate weekly payrolls of production and nonsupervisory employees"
                                }
                            ]
                        },
                        "text/html": [
                            "<table>",
                            "<tr><th>All_Industry</th><th>series_title</th></tr>",
                            "<tr><td>1838753220</td><td>Aggregate weekly payrolls of production and nonsupervisory employees</td></tr>",
                            "</table>"
                        ]
                    }
                }
            ],
            "execution_count": 21
        },
        {
            "cell_type": "markdown",
            "source": [
                "6. <span style=\"background-color: rgb(255, 255, 255); font-size: 10pt; white-space: pre-wrap; color: rgb(102, 102, 102); font-family: Arvo, serif;\">In January 2017, which industry was the average weekly hours worked by production and nonsupervisory employees the highest? Which industry was the lowest?</span>"
            ],
            "metadata": {
                "azdata_cell_guid": "862fd406-4fff-49bb-9d2b-232275a06405"
            },
            "attachments": {}
        },
        {
            "cell_type": "code",
            "source": [
                "SELECT top 1 S.industry_code, I.industry_name, value AS avg_weekly_hours\r\n",
                "FROM LaborStatisticsDB.dbo.series AS S\r\n",
                "JOIN LaborStatisticsDB.dbo.industry AS I \r\n",
                "ON S.industry_code = I.industry_code\r\n",
                "JOIN LaborStatisticsDB.dbo.january_2017 AS J \r\n",
                "ON S.series_id = J.series_id\r\n",
                "WHERE S.series_title LIKE '%Average weekly hours of production and nonsupervisory employees%'\r\n",
                "--GROUP BY S.industry_code, I.industry_name\r\n",
                "--ORDER BY avg_weekly_hours \r\n",
                "ORDER by avg_weekly_hours DESC;\r\n",
                "\r\n",
                "--I did this code to show the lowest employees\r\n",
                "SELECT top 1 S.industry_code, I.industry_name, value AS avg_weekly_hours\r\n",
                "FROM LaborStatisticsDB.dbo.series AS S\r\n",
                "JOIN LaborStatisticsDB.dbo.industry AS I \r\n",
                "ON S.industry_code = I.industry_code\r\n",
                "JOIN LaborStatisticsDB.dbo.january_2017 AS J \r\n",
                "ON S.series_id = J.series_id\r\n",
                "WHERE S.series_title LIKE '%Average weekly hours of production and nonsupervisory employees%'\r\n",
                "--GROUP BY S.industry_code, I.industry_name\r\n",
                "ORDER BY avg_weekly_hours \r\n",
                "\r\n",
                "\r\n",
                ""
            ],
            "metadata": {
                "azdata_cell_guid": "01e11050-5f2f-4d22-92e0-2b3024b80a5f",
                "language": "sql",
                "tags": []
            },
            "outputs": [
                {
                    "output_type": "display_data",
                    "data": {
                        "text/html": "(1 row affected)"
                    },
                    "metadata": {}
                },
                {
                    "output_type": "display_data",
                    "data": {
                        "text/html": "(1 row affected)"
                    },
                    "metadata": {}
                },
                {
                    "output_type": "display_data",
                    "data": {
                        "text/html": "Total execution time: 00:00:00.326"
                    },
                    "metadata": {}
                },
                {
                    "output_type": "execute_result",
                    "execution_count": 64,
                    "data": {
                        "application/vnd.dataresource+json": {
                            "schema": {
                                "fields": [
                                    {
                                        "name": "industry_code"
                                    },
                                    {
                                        "name": "industry_name"
                                    },
                                    {
                                        "name": "avg_weekly_hours"
                                    }
                                ]
                            },
                            "data": [
                                {
                                    "0": "31336350",
                                    "1": "Motor vehicle power train components",
                                    "2": "49.8"
                                }
                            ]
                        },
                        "text/html": "<table><tr><th>industry_code</th><th>industry_name</th><th>avg_weekly_hours</th></tr><tr><td>31336350</td><td>Motor vehicle power train components</td><td>49.8</td></tr></table>"
                    },
                    "metadata": {}
                },
                {
                    "output_type": "execute_result",
                    "execution_count": 64,
                    "data": {
                        "application/vnd.dataresource+json": {
                            "schema": {
                                "fields": [
                                    {
                                        "name": "industry_code"
                                    },
                                    {
                                        "name": "industry_name"
                                    },
                                    {
                                        "name": "avg_weekly_hours"
                                    }
                                ]
                            },
                            "data": [
                                {
                                    "0": "70713940",
                                    "1": "Fitness and recreational sports centers",
                                    "2": "16.7"
                                }
                            ]
                        },
                        "text/html": "<table><tr><th>industry_code</th><th>industry_name</th><th>avg_weekly_hours</th></tr><tr><td>70713940</td><td>Fitness and recreational sports centers</td><td>16.7</td></tr></table>"
                    },
                    "metadata": {}
                }
            ],
            "execution_count": 64
        },
        {
            "cell_type": "markdown",
            "source": [
                "7. <span style=\"background-color: rgb(255, 255, 255); font-size: 10pt; white-space: pre-wrap; color: rgb(102, 102, 102); font-family: Arvo, serif;\">In January 2017, which industry was the total weekly payroll for production and nonsupervisory employees the highest? Which industry was the lowest?</span>"
            ],
            "metadata": {
                "azdata_cell_guid": "a53f4113-60c6-46d1-b9a3-34610c61d4f9"
            },
            "attachments": {}
        },
        {
            "cell_type": "code",
            "source": [
                "SELECT top 1 S.industry_code, I.industry_name, value AS Total_weekly_payroll\r\n",
                "FROM LaborStatisticsDB.dbo.series AS S\r\n",
                "JOIN LaborStatisticsDB.dbo.industry AS I \r\n",
                "ON S.industry_code = I.industry_code\r\n",
                "JOIN LaborStatisticsDB.dbo.january_2017 AS J \r\n",
                "ON S.series_id = J.series_id\r\n",
                "WHERE S.series_title = 'Aggregate weekly payrolls of production and nonsupervisory employees'\r\n",
                "ORDER by Total_weekly_payroll DESC\r\n",
                "\r\n",
                "\r\n",
                "--I did this code to show the lowest employees\r\n",
                "SELECT top 1 S.industry_code, I.industry_name, value AS Total_weekly_payroll\r\n",
                "FROM LaborStatisticsDB.dbo.series AS S\r\n",
                "JOIN LaborStatisticsDB.dbo.industry AS I \r\n",
                "ON S.industry_code = I.industry_code\r\n",
                "JOIN LaborStatisticsDB.dbo.january_2017 AS J \r\n",
                "ON S.series_id = J.series_id\r\n",
                "WHERE S.series_title = 'Aggregate weekly payrolls of production and nonsupervisory employees'\r\n",
                "ORDER by Total_weekly_payroll"
            ],
            "metadata": {
                "azdata_cell_guid": "583695e6-7438-4e03-8970-1fe0c677a793",
                "language": "sql",
                "tags": []
            },
            "outputs": [
                {
                    "output_type": "display_data",
                    "data": {
                        "text/html": "(1 row affected)"
                    },
                    "metadata": {}
                },
                {
                    "output_type": "display_data",
                    "data": {
                        "text/html": "(1 row affected)"
                    },
                    "metadata": {}
                },
                {
                    "output_type": "display_data",
                    "data": {
                        "text/html": "Total execution time: 00:00:00.107"
                    },
                    "metadata": {}
                },
                {
                    "output_type": "execute_result",
                    "metadata": {},
                    "execution_count": 22,
                    "data": {
                        "application/vnd.dataresource+json": {
                            "schema": {
                                "fields": [
                                    {
                                        "name": "industry_code"
                                    },
                                    {
                                        "name": "industry_name"
                                    },
                                    {
                                        "name": "Total_weekly_payroll"
                                    }
                                ]
                            },
                            "data": [
                                {
                                    "0": "05000000",
                                    "1": "Total private",
                                    "2": "74498171"
                                }
                            ]
                        },
                        "text/html": [
                            "<table>",
                            "<tr><th>industry_code</th><th>industry_name</th><th>Total_weekly_payroll</th></tr>",
                            "<tr><td>05000000</td><td>Total private</td><td>74498171</td></tr>",
                            "</table>"
                        ]
                    }
                },
                {
                    "output_type": "execute_result",
                    "metadata": {},
                    "execution_count": 22,
                    "data": {
                        "application/vnd.dataresource+json": {
                            "schema": {
                                "fields": [
                                    {
                                        "name": "industry_code"
                                    },
                                    {
                                        "name": "industry_name"
                                    },
                                    {
                                        "name": "Total_weekly_payroll"
                                    }
                                ]
                            },
                            "data": [
                                {
                                    "0": "80812310",
                                    "1": "Coin-operated laundries and drycleaners",
                                    "2": "10079"
                                }
                            ]
                        },
                        "text/html": [
                            "<table>",
                            "<tr><th>industry_code</th><th>industry_name</th><th>Total_weekly_payroll</th></tr>",
                            "<tr><td>80812310</td><td>Coin-operated laundries and drycleaners</td><td>10079</td></tr>",
                            "</table>"
                        ]
                    }
                }
            ],
            "execution_count": 22
        },
        {
            "cell_type": "markdown",
            "source": [
                "## <span style=\"font-size: 12pt; font-family: Montserrat, sans-serif; color: rgb(53, 74, 95); background-color: rgb(255, 255, 255); font-weight: 700; font-variant-numeric: normal; font-variant-east-asian: normal; vertical-align: baseline; white-space: pre-wrap;\">Subqueries, Unions, Derived Tables, Oh My!</span>\n",
                "\n",
                "1. <span style=\"background-color: rgb(255, 255, 255); font-size: 10pt; white-space: pre-wrap; color: rgb(102, 102, 102); font-family: Arvo, serif;\">Write a query that returns the series_id, industry_code, industry_name, and value from the january_2017 table but only if that value is greater than the average value for annual_2016 of data_type_code 82.</span>"
            ],
            "metadata": {
                "azdata_cell_guid": "e98ec195-5399-4718-83ef-54fb954662a5"
            },
            "attachments": {}
        },
        {
            "cell_type": "code",
            "source": [
                "SELECT top 10 j.series_id, J.[year], I.industry_code, i.industry_name, j.value\r\n",
                "FROM LaborStatisticsDB.dbo.january_2017 j\r\n",
                "inner JOIN LaborStatisticsDB.dbo.series S ON s.series_id = J.series_id\r\n",
                "inner JOIN LaborStatisticsDB.dbo.industry I on s.industry_code = I.industry_code\r\n",
                "WHERE s.data_type_code = '82' and j.value > (\r\n",
                "    SELECT round(AVG(value), 0)\r\n",
                "    FROM LaborStatisticsDB.dbo.annual_2016 A \r\n",
                "    inner join LaborStatisticsDB.dbo.series s \r\n",
                "    on a.series_id = s.series_id \r\n",
                "    WHERE S.data_type_code = '82'\r\n",
                ")\r\n",
                "order by j.[value] DESC\r\n",
                "--order by j.value\r\n",
                "\r\n",
                "-- I did this code to cross verify that the value january_2017 is greater than annual_2016.\r\n",
                "SELECT top 10 round(AVG(value), 0) as avg_value_2016, s.series_id, [year]\r\n",
                "    FROM LaborStatisticsDB.dbo.annual_2016 A \r\n",
                "    inner join LaborStatisticsDB.dbo.series s \r\n",
                "    on a.series_id = s.series_id \r\n",
                "    WHERE S.data_type_code = '82'\r\n",
                "    group by s.series_id, [year]\r\n",
                "    order by avg_value_2016 DESC"
            ],
            "metadata": {
                "azdata_cell_guid": "7c85f70b-528f-4cbd-bd8e-a6efab1c18df",
                "language": "sql"
            },
            "outputs": [
                {
                    "output_type": "display_data",
                    "data": {
                        "text/html": "(10 rows affected)"
                    },
                    "metadata": {}
                },
                {
                    "output_type": "display_data",
                    "data": {
                        "text/html": "(551 rows affected)"
                    },
                    "metadata": {}
                },
                {
                    "output_type": "display_data",
                    "data": {
                        "text/html": "Total execution time: 00:00:00.141"
                    },
                    "metadata": {}
                },
                {
                    "output_type": "execute_result",
                    "metadata": {},
                    "execution_count": 33,
                    "data": {
                        "application/vnd.dataresource+json": {
                            "schema": {
                                "fields": [
                                    {
                                        "name": "series_id"
                                    },
                                    {
                                        "name": "year"
                                    },
                                    {
                                        "name": "industry_code"
                                    },
                                    {
                                        "name": "industry_name"
                                    },
                                    {
                                        "name": "value"
                                    }
                                ]
                            },
                            "data": [
                                {
                                    "0": "CES0500000082",
                                    "1": "2017",
                                    "2": "5000000",
                                    "3": "Total private",
                                    "4": "74498171"
                                },
                                {
                                    "0": "CES0500000082",
                                    "1": "2017",
                                    "2": "5000000",
                                    "3": "Total private",
                                    "4": "74498171"
                                },
                                {
                                    "0": "CEU0500000082",
                                    "1": "2017",
                                    "2": "5000000",
                                    "3": "Total private",
                                    "4": "73474302"
                                },
                                {
                                    "0": "CEU0500000082",
                                    "1": "2017",
                                    "2": "5000000",
                                    "3": "Total private",
                                    "4": "73474302"
                                },
                                {
                                    "0": "CES0800000082",
                                    "1": "2017",
                                    "2": "8000000",
                                    "3": "Private service-providing",
                                    "4": "60914722"
                                },
                                {
                                    "0": "CES0800000082",
                                    "1": "2017",
                                    "2": "8000000",
                                    "3": "Private service-providing",
                                    "4": "60914722"
                                },
                                {
                                    "0": "CEU0800000082",
                                    "1": "2017",
                                    "2": "8000000",
                                    "3": "Private service-providing",
                                    "4": "60807771"
                                },
                                {
                                    "0": "CEU0800000082",
                                    "1": "2017",
                                    "2": "8000000",
                                    "3": "Private service-providing",
                                    "4": "60807771"
                                },
                                {
                                    "0": "CES6000000082",
                                    "1": "2017",
                                    "2": "60000000",
                                    "3": "Professional and business services",
                                    "4": "15251268"
                                },
                                {
                                    "0": "CES6000000082",
                                    "1": "2017",
                                    "2": "60000000",
                                    "3": "Professional and business services",
                                    "4": "15251268"
                                }
                            ]
                        },
                        "text/html": [
                            "<table>",
                            "<tr><th>series_id</th><th>year</th><th>industry_code</th><th>industry_name</th><th>value</th></tr>",
                            "<tr><td>CES0500000082</td><td>2017</td><td>5000000</td><td>Total private</td><td>74498171</td></tr>",
                            "<tr><td>CES0500000082</td><td>2017</td><td>5000000</td><td>Total private</td><td>74498171</td></tr>",
                            "<tr><td>CEU0500000082</td><td>2017</td><td>5000000</td><td>Total private</td><td>73474302</td></tr>",
                            "<tr><td>CEU0500000082</td><td>2017</td><td>5000000</td><td>Total private</td><td>73474302</td></tr>",
                            "<tr><td>CES0800000082</td><td>2017</td><td>8000000</td><td>Private service-providing</td><td>60914722</td></tr>",
                            "<tr><td>CES0800000082</td><td>2017</td><td>8000000</td><td>Private service-providing</td><td>60914722</td></tr>",
                            "<tr><td>CEU0800000082</td><td>2017</td><td>8000000</td><td>Private service-providing</td><td>60807771</td></tr>",
                            "<tr><td>CEU0800000082</td><td>2017</td><td>8000000</td><td>Private service-providing</td><td>60807771</td></tr>",
                            "<tr><td>CES6000000082</td><td>2017</td><td>60000000</td><td>Professional and business services</td><td>15251268</td></tr>",
                            "<tr><td>CES6000000082</td><td>2017</td><td>60000000</td><td>Professional and business services</td><td>15251268</td></tr>",
                            "</table>"
                        ]
                    }
                },
                {
                    "output_type": "execute_result",
                    "metadata": {},
                    "execution_count": 33,
                    "data": {
                        "application/vnd.dataresource+json": {
                            "schema": {
                                "fields": [
                                    {
                                        "name": "avg_value_2016"
                                    },
                                    {
                                        "name": "series_id"
                                    },
                                    {
                                        "name": "year"
                                    }
                                ]
                            },
                            "data": [
                                {
                                    "0": "10750",
                                    "1": "CEU4244815082",
                                    "2": "2016"
                                },
                                {
                                    "0": "11088",
                                    "1": "CEU8081231082",
                                    "2": "2016"
                                },
                                {
                                    "0": "11456",
                                    "1": "CEU7071392082",
                                    "2": "2016"
                                },
                                {
                                    "0": "13599",
                                    "1": "CEU7071395082",
                                    "2": "2016"
                                },
                                {
                                    "0": "14101",
                                    "1": "CEU2023720082",
                                    "2": "2016"
                                },
                                {
                                    "0": "14714",
                                    "1": "CEU1021231982",
                                    "2": "2016"
                                },
                                {
                                    "0": "14861",
                                    "1": "CEU7071393082",
                                    "2": "2016"
                                },
                                {
                                    "0": "15934",
                                    "1": "CEU4245310082",
                                    "2": "2016"
                                },
                                {
                                    "0": "16810",
                                    "1": "CEU1021231282",
                                    "2": "2016"
                                },
                                {
                                    "0": "16817",
                                    "1": "CEU6056174082",
                                    "2": "2016"
                                },
                                {
                                    "0": "17517",
                                    "1": "CEU3231170082",
                                    "2": "2016"
                                },
                                {
                                    "0": "19128",
                                    "1": "CEU7072120082",
                                    "2": "2016"
                                },
                                {
                                    "0": "19820",
                                    "1": "CEU5553229182",
                                    "2": "2016"
                                },
                                {
                                    "0": "19914",
                                    "1": "CEU2023817082",
                                    "2": "2016"
                                },
                                {
                                    "0": "20055",
                                    "1": "CEU6054192082",
                                    "2": "2016"
                                },
                                {
                                    "0": "20287",
                                    "1": "CEU5553230082",
                                    "2": "2016"
                                },
                                {
                                    "0": "21110",
                                    "1": "CEU3133911682",
                                    "2": "2016"
                                },
                                {
                                    "0": "21480",
                                    "1": "CEU7071219082",
                                    "2": "2016"
                                },
                                {
                                    "0": "21543",
                                    "1": "CEU4142493082",
                                    "2": "2016"
                                },
                                {
                                    "0": "21980",
                                    "1": "CEU4245120082",
                                    "2": "2016"
                                },
                                {
                                    "0": "22053",
                                    "1": "CEU4244522082",
                                    "2": "2016"
                                },
                                {
                                    "0": "22769",
                                    "1": "CEU4142511082",
                                    "2": "2016"
                                },
                                {
                                    "0": "24294",
                                    "1": "CEU8081331182",
                                    "2": "2016"
                                },
                                {
                                    "0": "24325",
                                    "1": "CEU8081121282",
                                    "2": "2016"
                                },
                                {
                                    "0": "24471",
                                    "1": "CEU4244314182",
                                    "2": "2016"
                                },
                                {
                                    "0": "24648",
                                    "1": "CEU6054132082",
                                    "2": "2016"
                                },
                                {
                                    "0": "25954",
                                    "1": "CEU3132191182",
                                    "2": "2016"
                                },
                                {
                                    "0": "27135",
                                    "1": "CEU3132191882",
                                    "2": "2016"
                                },
                                {
                                    "0": "28024",
                                    "1": "CEU7072251482",
                                    "2": "2016"
                                },
                                {
                                    "0": "28117",
                                    "1": "CEU7071150082",
                                    "2": "2016"
                                },
                                {
                                    "0": "29062",
                                    "1": "CEU3132192082",
                                    "2": "2016"
                                },
                                {
                                    "0": "29620",
                                    "1": "CEU3133311182",
                                    "2": "2016"
                                },
                                {
                                    "0": "30060",
                                    "1": "CEU6562111282",
                                    "2": "2016"
                                },
                                {
                                    "0": "30068",
                                    "1": "CEU4142391082",
                                    "2": "2016"
                                },
                                {
                                    "0": "30242",
                                    "1": "CEU3132199082",
                                    "2": "2016"
                                },
                                {
                                    "0": "30391",
                                    "1": "CEU3133995082",
                                    "2": "2016"
                                },
                                {
                                    "0": "31428",
                                    "1": "CEU8081119882",
                                    "2": "2016"
                                },
                                {
                                    "0": "31524",
                                    "1": "CEU1021231082",
                                    "2": "2016"
                                },
                                {
                                    "0": "31902",
                                    "1": "CEU8081291082",
                                    "2": "2016"
                                },
                                {
                                    "0": "32356",
                                    "1": "CEU5552413082",
                                    "2": "2016"
                                },
                                {
                                    "0": "32472",
                                    "1": "CEU3133712182",
                                    "2": "2016"
                                },
                                {
                                    "0": "32698",
                                    "1": "CEU4244613082",
                                    "2": "2016"
                                },
                                {
                                    "0": "33013",
                                    "1": "CEU3232222082",
                                    "2": "2016"
                                },
                                {
                                    "0": "33015",
                                    "1": "CEU3133281382",
                                    "2": "2016"
                                },
                                {
                                    "0": "33015",
                                    "1": "CEU6054119182",
                                    "2": "2016"
                                },
                                {
                                    "0": "33028",
                                    "1": "CEU2023819082",
                                    "2": "2016"
                                },
                                {
                                    "0": "33040",
                                    "1": "CEU6056191082",
                                    "2": "2016"
                                },
                                {
                                    "0": "33269",
                                    "1": "CEU3232615082",
                                    "2": "2016"
                                },
                                {
                                    "0": "34308",
                                    "1": "CEU4348811082",
                                    "2": "2016"
                                },
                                {
                                    "0": "34380",
                                    "1": "CEU8081140082",
                                    "2": "2016"
                                },
                                {
                                    "0": "34471",
                                    "1": "CEU3133420082",
                                    "2": "2016"
                                },
                                {
                                    "0": "35053",
                                    "1": "CEU4245322082",
                                    "2": "2016"
                                },
                                {
                                    "0": "35128",
                                    "1": "CEU6562133082",
                                    "2": "2016"
                                },
                                {
                                    "0": "35955",
                                    "1": "CEU7071211082",
                                    "2": "2016"
                                },
                                {
                                    "0": "36749",
                                    "1": "CEU6056192082",
                                    "2": "2016"
                                },
                                {
                                    "0": "36893",
                                    "1": "CEU3231130082",
                                    "2": "2016"
                                },
                                {
                                    "0": "36967",
                                    "1": "CEU5051791182",
                                    "2": "2016"
                                },
                                {
                                    "0": "36978",
                                    "1": "CEU4422130082",
                                    "2": "2016"
                                },
                                {
                                    "0": "37189",
                                    "1": "CEU4244719082",
                                    "2": "2016"
                                },
                                {
                                    "0": "37515",
                                    "1": "CEU4142332082",
                                    "2": "2016"
                                },
                                {
                                    "0": "37563",
                                    "1": "CEU1011330082",
                                    "2": "2016"
                                },
                                {
                                    "0": "38126",
                                    "1": "CEU6056179082",
                                    "2": "2016"
                                },
                                {
                                    "0": "38352",
                                    "1": "CEU4348890082",
                                    "2": "2016"
                                },
                                {
                                    "0": "39120",
                                    "1": "CEU4244612082",
                                    "2": "2016"
                                },
                                {
                                    "0": "39387",
                                    "1": "CEU6056143082",
                                    "2": "2016"
                                },
                                {
                                    "0": "39597",
                                    "1": "CEU2023834082",
                                    "2": "2016"
                                },
                                {
                                    "0": "39764",
                                    "1": "CEU4244530082",
                                    "2": "2016"
                                },
                                {
                                    "0": "39904",
                                    "1": "CEU6054172082",
                                    "2": "2016"
                                },
                                {
                                    "0": "39998",
                                    "1": "CEU4245391082",
                                    "2": "2016"
                                },
                                {
                                    "0": "40394",
                                    "1": "CEU4244221082",
                                    "2": "2016"
                                },
                                {
                                    "0": "40743",
                                    "1": "CEU4142339082",
                                    "2": "2016"
                                },
                                {
                                    "0": "41021",
                                    "1": "CEU8081232082",
                                    "2": "2016"
                                },
                                {
                                    "0": "41554",
                                    "1": "CEU4245112082",
                                    "2": "2016"
                                },
                                {
                                    "0": "41685",
                                    "1": "CEU8081121982",
                                    "2": "2016"
                                },
                                {
                                    "0": "41758",
                                    "1": "CEU4244512082",
                                    "2": "2016"
                                },
                                {
                                    "0": "42232",
                                    "1": "CEU4244619082",
                                    "2": "2016"
                                },
                                {
                                    "0": "42497",
                                    "1": "CEU2023815082",
                                    "2": "2016"
                                },
                                {
                                    "0": "42796",
                                    "1": "CEU3133281282",
                                    "2": "2016"
                                },
                                {
                                    "0": "42898",
                                    "1": "CEU4348590082",
                                    "2": "2016"
                                },
                                {
                                    "0": "43151",
                                    "1": "CEU4142450082",
                                    "2": "2016"
                                },
                                {
                                    "0": "44263",
                                    "1": "CEU8081293082",
                                    "2": "2016"
                                },
                                {
                                    "0": "44721",
                                    "1": "CEU8081119282",
                                    "2": "2016"
                                },
                                {
                                    "0": "45079",
                                    "1": "CEU4348421082",
                                    "2": "2016"
                                },
                                {
                                    "0": "45158",
                                    "1": "CEU3133441982",
                                    "2": "2016"
                                },
                                {
                                    "0": "45370",
                                    "1": "CEU3232560082",
                                    "2": "2016"
                                },
                                {
                                    "0": "45407",
                                    "1": "CEU2023833082",
                                    "2": "2016"
                                },
                                {
                                    "0": "45438",
                                    "1": "CEU3231400082",
                                    "2": "2016"
                                },
                                {
                                    "0": "46289",
                                    "1": "CEU5552229182",
                                    "2": "2016"
                                },
                                {
                                    "0": "46866",
                                    "1": "CEU6054182082",
                                    "2": "2016"
                                },
                                {
                                    "0": "46869",
                                    "1": "CEU3133351482",
                                    "2": "2016"
                                },
                                {
                                    "0": "46991",
                                    "1": "CEU5553249082",
                                    "2": "2016"
                                },
                                {
                                    "0": "47363",
                                    "1": "CEU2023839082",
                                    "2": "2016"
                                },
                                {
                                    "0": "47454",
                                    "1": "CEU3133272082",
                                    "2": "2016"
                                },
                                {
                                    "0": "47547",
                                    "1": "CEU3132120082",
                                    "2": "2016"
                                },
                                {
                                    "0": "47751",
                                    "1": "CEU3231142082",
                                    "2": "2016"
                                },
                                {
                                    "0": "47812",
                                    "1": "CEU6562131082",
                                    "2": "2016"
                                },
                                {
                                    "0": "48471",
                                    "1": "CEU3231141082",
                                    "2": "2016"
                                },
                                {
                                    "0": "48491",
                                    "1": "CEU4245321082",
                                    "2": "2016"
                                },
                                {
                                    "0": "48803",
                                    "1": "CEU3133911382",
                                    "2": "2016"
                                },
                                {
                                    "0": "49547",
                                    "1": "CEU3231500082",
                                    "2": "2016"
                                },
                                {
                                    "0": "49972",
                                    "1": "CEU2023813082",
                                    "2": "2016"
                                },
                                {
                                    "0": "50637",
                                    "1": "CEU6054143082",
                                    "2": "2016"
                                },
                                {
                                    "0": "50759",
                                    "1": "CEU3133291082",
                                    "2": "2016"
                                },
                                {
                                    "0": "50770",
                                    "1": "CEU4244413082",
                                    "2": "2016"
                                },
                                {
                                    "0": "50799",
                                    "1": "CEU3133360082",
                                    "2": "2016"
                                },
                                {
                                    "0": "50805",
                                    "1": "CEU8081219082",
                                    "2": "2016"
                                },
                                {
                                    "0": "51242",
                                    "1": "CEU4244830082",
                                    "2": "2016"
                                },
                                {
                                    "0": "51299",
                                    "1": "CEU4245330082",
                                    "2": "2016"
                                },
                                {
                                    "0": "51359",
                                    "1": "CEU4348840082",
                                    "2": "2016"
                                },
                                {
                                    "0": "51828",
                                    "1": "CEU3232611082",
                                    "2": "2016"
                                },
                                {
                                    "0": "52266",
                                    "1": "CEU3232221182",
                                    "2": "2016"
                                },
                                {
                                    "0": "52532",
                                    "1": "CEU6054189082",
                                    "2": "2016"
                                },
                                {
                                    "0": "52843",
                                    "1": "CEU6056151082",
                                    "2": "2016"
                                },
                                {
                                    "0": "53087",
                                    "1": "CEU3132191082",
                                    "2": "2016"
                                },
                                {
                                    "0": "53118",
                                    "1": "CEU6562151282",
                                    "2": "2016"
                                },
                                {
                                    "0": "53143",
                                    "1": "CEU4244229082",
                                    "2": "2016"
                                },
                                {
                                    "0": "53192",
                                    "1": "CEU7072233082",
                                    "2": "2016"
                                },
                                {
                                    "0": "53568",
                                    "1": "CEU6054119082",
                                    "2": "2016"
                                },
                                {
                                    "0": "53975",
                                    "1": "CEU3133631082",
                                    "2": "2016"
                                },
                                {
                                    "0": "54415",
                                    "1": "CEU4142374082",
                                    "2": "2016"
                                },
                                {
                                    "0": "55233",
                                    "1": "CEU3133231282",
                                    "2": "2016"
                                },
                                {
                                    "0": "55264",
                                    "1": "CEU4142371082",
                                    "2": "2016"
                                },
                                {
                                    "0": "55505",
                                    "1": "CEU4142393082",
                                    "2": "2016"
                                },
                                {
                                    "0": "56354",
                                    "1": "CEU1021210082",
                                    "2": "2016"
                                },
                                {
                                    "0": "56504",
                                    "1": "CEU6562132082",
                                    "2": "2016"
                                },
                                {
                                    "0": "56648",
                                    "1": "CEU4142448082",
                                    "2": "2016"
                                },
                                {
                                    "0": "57144",
                                    "1": "CEU3132110082",
                                    "2": "2016"
                                },
                                {
                                    "0": "57433",
                                    "1": "CEU5553241082",
                                    "2": "2016"
                                },
                                {
                                    "0": "57452",
                                    "1": "CEU7071200082",
                                    "2": "2016"
                                },
                                {
                                    "0": "58111",
                                    "1": "CEU3231300082",
                                    "2": "2016"
                                },
                                {
                                    "0": "58218",
                                    "1": "CEU4142384082",
                                    "2": "2016"
                                },
                                {
                                    "0": "58409",
                                    "1": "CEU7071320082",
                                    "2": "2016"
                                },
                                {
                                    "0": "58544",
                                    "1": "CEU4244820082",
                                    "2": "2016"
                                },
                                {
                                    "0": "58782",
                                    "1": "CEU8081233082",
                                    "2": "2016"
                                },
                                {
                                    "0": "59221",
                                    "1": "CEU8081220082",
                                    "2": "2016"
                                },
                                {
                                    "0": "59788",
                                    "1": "CEU3133711082",
                                    "2": "2016"
                                },
                                {
                                    "0": "60006",
                                    "1": "CEU7071130082",
                                    "2": "2016"
                                },
                                {
                                    "0": "61528",
                                    "1": "CEU3133232282",
                                    "2": "2016"
                                },
                                {
                                    "0": "61657",
                                    "1": "CEU3133330082",
                                    "2": "2016"
                                },
                                {
                                    "0": "61747",
                                    "1": "CEU3132739082",
                                    "2": "2016"
                                },
                                {
                                    "0": "62511",
                                    "1": "CEU4244812082",
                                    "2": "2016"
                                },
                                {
                                    "0": "62579",
                                    "1": "CEU5051511082",
                                    "2": "2016"
                                },
                                {
                                    "0": "62790",
                                    "1": "CEU3133320082",
                                    "2": "2016"
                                },
                                {
                                    "0": "63117",
                                    "1": "CEU3133712082",
                                    "2": "2016"
                                },
                                {
                                    "0": "63844",
                                    "1": "CEU3133210082",
                                    "2": "2016"
                                },
                                {
                                    "0": "64096",
                                    "1": "CEU4142320082",
                                    "2": "2016"
                                },
                                {
                                    "0": "64173",
                                    "1": "CEU4244520082",
                                    "2": "2016"
                                },
                                {
                                    "0": "64237",
                                    "1": "CEU8081392082",
                                    "2": "2016"
                                },
                                {
                                    "0": "65252",
                                    "1": "CEU4142491082",
                                    "2": "2016"
                                },
                                {
                                    "0": "65422",
                                    "1": "CEU3133637082",
                                    "2": "2016"
                                },
                                {
                                    "0": "65635",
                                    "1": "CEU3232520082",
                                    "2": "2016"
                                },
                                {
                                    "0": "65816",
                                    "1": "CEU7071120082",
                                    "2": "2016"
                                },
                                {
                                    "0": "66010",
                                    "1": "CEU8081120082",
                                    "2": "2016"
                                },
                                {
                                    "0": "66605",
                                    "1": "CEU6054191082",
                                    "2": "2016"
                                },
                                {
                                    "0": "66672",
                                    "1": "CEU6054137082",
                                    "2": "2016"
                                },
                                {
                                    "0": "66891",
                                    "1": "CEU6056171082",
                                    "2": "2016"
                                },
                                {
                                    "0": "67190",
                                    "1": "CEU4244420082",
                                    "2": "2016"
                                },
                                {
                                    "0": "67253",
                                    "1": "CEU3133240082",
                                    "2": "2016"
                                },
                                {
                                    "0": "67744",
                                    "1": "CEU5552212082",
                                    "2": "2016"
                                },
                                {
                                    "0": "68134",
                                    "1": "CEU3133999082",
                                    "2": "2016"
                                },
                                {
                                    "0": "68546",
                                    "1": "CEU6562420082",
                                    "2": "2016"
                                },
                                {
                                    "0": "68573",
                                    "1": "CEU4142381082",
                                    "2": "2016"
                                },
                                {
                                    "0": "68608",
                                    "1": "CEU6055111282",
                                    "2": "2016"
                                },
                                {
                                    "0": "68679",
                                    "1": "CEU7071110082",
                                    "2": "2016"
                                },
                                {
                                    "0": "68742",
                                    "1": "CEU4142372082",
                                    "2": "2016"
                                },
                                {
                                    "0": "68749",
                                    "1": "CEU4142382082",
                                    "2": "2016"
                                },
                                {
                                    "0": "71112",
                                    "1": "CEU4245411382",
                                    "2": "2016"
                                },
                                {
                                    "0": "72005",
                                    "1": "CEU6562390082",
                                    "2": "2016"
                                },
                                {
                                    "0": "72140",
                                    "1": "CEU6056144082",
                                    "2": "2016"
                                },
                                {
                                    "0": "72542",
                                    "1": "CEU4348600082",
                                    "2": "2016"
                                },
                                {
                                    "0": "72863",
                                    "1": "CEU8081399082",
                                    "2": "2016"
                                },
                                {
                                    "0": "73738",
                                    "1": "CEU3132732082",
                                    "2": "2016"
                                },
                                {
                                    "0": "74157",
                                    "1": "CEU3133340082",
                                    "2": "2016"
                                },
                                {
                                    "0": "74369",
                                    "1": "CEU4142342082",
                                    "2": "2016"
                                },
                                {
                                    "0": "74824",
                                    "1": "CEU3133590082",
                                    "2": "2016"
                                },
                                {
                                    "0": "75802",
                                    "1": "CEU3133280082",
                                    "2": "2016"
                                },
                                {
                                    "0": "75975",
                                    "1": "CEU4142470082",
                                    "2": "2016"
                                },
                                {
                                    "0": "76120",
                                    "1": "CEU8081119082",
                                    "2": "2016"
                                },
                                {
                                    "0": "76136",
                                    "1": "CEU4142331082",
                                    "2": "2016"
                                },
                                {
                                    "0": "76955",
                                    "1": "CEU4244120082",
                                    "2": "2016"
                                },
                                {
                                    "0": "77496",
                                    "1": "CEU6562139082",
                                    "2": "2016"
                                },
                                {
                                    "0": "77660",
                                    "1": "CEU3133530082",
                                    "2": "2016"
                                },
                                {
                                    "0": "78259",
                                    "1": "CEU3133150082",
                                    "2": "2016"
                                },
                                {
                                    "0": "78369",
                                    "1": "CEU8081391082",
                                    "2": "2016"
                                },
                                {
                                    "0": "78630",
                                    "1": "CEU5553112082",
                                    "2": "2016"
                                },
                                {
                                    "0": "79227",
                                    "1": "CEU3232620082",
                                    "2": "2016"
                                },
                                {
                                    "0": "79672",
                                    "1": "CEU3133635082",
                                    "2": "2016"
                                },
                                {
                                    "0": "80401",
                                    "1": "CEU6562411082",
                                    "2": "2016"
                                },
                                {
                                    "0": "80800",
                                    "1": "CEU4142311082",
                                    "2": "2016"
                                },
                                {
                                    "0": "81679",
                                    "1": "CEU4142410082",
                                    "2": "2016"
                                },
                                {
                                    "0": "82084",
                                    "1": "CEU4244112082",
                                    "2": "2016"
                                },
                                {
                                    "0": "82313",
                                    "1": "CEU5051112082",
                                    "2": "2016"
                                },
                                {
                                    "0": "82318",
                                    "1": "CEU2023812082",
                                    "2": "2016"
                                },
                                {
                                    "0": "82455",
                                    "1": "CEU4244814082",
                                    "2": "2016"
                                },
                                {
                                    "0": "83469",
                                    "1": "CEU4245320082",
                                    "2": "2016"
                                },
                                {
                                    "0": "83793",
                                    "1": "CEU8081321182",
                                    "2": "2016"
                                },
                                {
                                    "0": "84695",
                                    "1": "CEU2023835082",
                                    "2": "2016"
                                },
                                {
                                    "0": "86201",
                                    "1": "CEU8081331982",
                                    "2": "2016"
                                },
                                {
                                    "0": "86214",
                                    "1": "CEU4142349082",
                                    "2": "2016"
                                },
                                {
                                    "0": "86554",
                                    "1": "CEU8081340082",
                                    "2": "2016"
                                },
                                {
                                    "0": "86976",
                                    "1": "CEU6056220082",
                                    "2": "2016"
                                },
                                {
                                    "0": "87420",
                                    "1": "CEU3232221082",
                                    "2": "2016"
                                },
                                {
                                    "0": "87460",
                                    "1": "CEU8081393082",
                                    "2": "2016"
                                },
                                {
                                    "0": "87708",
                                    "1": "CEU4244132082",
                                    "2": "2016"
                                },
                                {
                                    "0": "88833",
                                    "1": "CEU3133620082",
                                    "2": "2016"
                                },
                                {
                                    "0": "89217",
                                    "1": "CEU6562199082",
                                    "2": "2016"
                                },
                                {
                                    "0": "89237",
                                    "1": "CEU4348830082",
                                    "2": "2016"
                                },
                                {
                                    "0": "90203",
                                    "1": "CEU4142430082",
                                    "2": "2016"
                                },
                                {
                                    "0": "90923",
                                    "1": "CEU4348540082",
                                    "2": "2016"
                                },
                                {
                                    "0": "91439",
                                    "1": "CEU4142350082",
                                    "2": "2016"
                                },
                                {
                                    "0": "91784",
                                    "1": "CEU6056199082",
                                    "2": "2016"
                                },
                                {
                                    "0": "92031",
                                    "1": "CEU4245111082",
                                    "2": "2016"
                                },
                                {
                                    "0": "92648",
                                    "1": "CEU6056162082",
                                    "2": "2016"
                                },
                                {
                                    "0": "93391",
                                    "1": "CEU7072240082",
                                    "2": "2016"
                                },
                                {
                                    "0": "93428",
                                    "1": "CEU6056120082",
                                    "2": "2016"
                                },
                                {
                                    "0": "93523",
                                    "1": "CEU3232210082",
                                    "2": "2016"
                                },
                                {
                                    "0": "93536",
                                    "1": "CEU4244220082",
                                    "2": "2016"
                                },
                                {
                                    "0": "93947",
                                    "1": "CEU3133639082",
                                    "2": "2016"
                                },
                                {
                                    "0": "94475",
                                    "1": "CEU5051111082",
                                    "2": "2016"
                                },
                                {
                                    "0": "94480",
                                    "1": "CEU6054161482",
                                    "2": "2016"
                                },
                                {
                                    "0": "95669",
                                    "1": "CEU3231150082",
                                    "2": "2016"
                                },
                                {
                                    "0": "95953",
                                    "1": "CEU4142460082",
                                    "2": "2016"
                                },
                                {
                                    "0": "96132",
                                    "1": "CEU2023790082",
                                    "2": "2016"
                                },
                                {
                                    "0": "96199",
                                    "1": "CEU3231140082",
                                    "2": "2016"
                                },
                                {
                                    "0": "96780",
                                    "1": "CEU3133231082",
                                    "2": "2016"
                                },
                                {
                                    "0": "100221",
                                    "1": "CEU6562149382",
                                    "2": "2016"
                                },
                                {
                                    "0": "100469",
                                    "1": "CEU6056290082",
                                    "2": "2016"
                                },
                                {
                                    "0": "101409",
                                    "1": "CEU6054140082",
                                    "2": "2016"
                                },
                                {
                                    "0": "102352",
                                    "1": "CEU6562191082",
                                    "2": "2016"
                                },
                                {
                                    "0": "102684",
                                    "1": "CEU8081290082",
                                    "2": "2016"
                                },
                                {
                                    "0": "103037",
                                    "1": "CEU5553131282",
                                    "2": "2016"
                                },
                                {
                                    "0": "103512",
                                    "1": "CEU4142312082",
                                    "2": "2016"
                                },
                                {
                                    "0": "104405",
                                    "1": "CEU5553240082",
                                    "2": "2016"
                                },
                                {
                                    "0": "106283",
                                    "1": "CEU6562322082",
                                    "2": "2016"
                                },
                                {
                                    "0": "107078",
                                    "1": "CEU4348810082",
                                    "2": "2016"
                                },
                                {
                                    "0": "109237",
                                    "1": "CEU5552232082",
                                    "2": "2016"
                                },
                                {
                                    "0": "110190",
                                    "1": "CEU4245390082",
                                    "2": "2016"
                                },
                                {
                                    "0": "110472",
                                    "1": "CEU8081330082",
                                    "2": "2016"
                                },
                                {
                                    "0": "110925",
                                    "1": "CEU8081230082",
                                    "2": "2016"
                                },
                                {
                                    "0": "112413",
                                    "1": "CEU3132190082",
                                    "2": "2016"
                                },
                                {
                                    "0": "112627",
                                    "1": "CEU3133299082",
                                    "2": "2016"
                                },
                                {
                                    "0": "112990",
                                    "1": "CEU3133232082",
                                    "2": "2016"
                                },
                                {
                                    "0": "113233",
                                    "1": "CEU2023814082",
                                    "2": "2016"
                                },
                                {
                                    "0": "113524",
                                    "1": "CEU6056210082",
                                    "2": "2016"
                                },
                                {
                                    "0": "113582",
                                    "1": "CEU3133441382",
                                    "2": "2016"
                                },
                                {
                                    "0": "114024",
                                    "1": "CEU3232510082",
                                    "2": "2016"
                                },
                                {
                                    "0": "114794",
                                    "1": "CEU3231161582",
                                    "2": "2016"
                                },
                                {
                                    "0": "115927",
                                    "1": "CEU3133310082",
                                    "2": "2016"
                                },
                                {
                                    "0": "116861",
                                    "1": "CEU7071391082",
                                    "2": "2016"
                                },
                                {
                                    "0": "117434",
                                    "1": "CEU4348423082",
                                    "2": "2016"
                                },
                                {
                                    "0": "118627",
                                    "1": "CEU3133350082",
                                    "2": "2016"
                                },
                                {
                                    "0": "119547",
                                    "1": "CEU6562430082",
                                    "2": "2016"
                                },
                                {
                                    "0": "120277",
                                    "1": "CEU3232900082",
                                    "2": "2016"
                                },
                                {
                                    "0": "120867",
                                    "1": "CEU6054138082",
                                    "2": "2016"
                                },
                                {
                                    "0": "122848",
                                    "1": "CEU6562142082",
                                    "2": "2016"
                                },
                                {
                                    "0": "122885",
                                    "1": "CEU3133710082",
                                    "2": "2016"
                                },
                                {
                                    "0": "123056",
                                    "1": "CEU4244210082",
                                    "2": "2016"
                                },
                                {
                                    "0": "123339",
                                    "1": "CEU6054121482",
                                    "2": "2016"
                                },
                                {
                                    "0": "123751",
                                    "1": "CEU2023816082",
                                    "2": "2016"
                                },
                                {
                                    "0": "125255",
                                    "1": "CEU3133990082",
                                    "2": "2016"
                                },
                                {
                                    "0": "125530",
                                    "1": "CEU2023832082",
                                    "2": "2016"
                                },
                                {
                                    "0": "125835",
                                    "1": "CEU4422120082",
                                    "2": "2016"
                                },
                                {
                                    "0": "126694",
                                    "1": "CEU4142369082",
                                    "2": "2016"
                                },
                                {
                                    "0": "128226",
                                    "1": "CEU8081320082",
                                    "2": "2016"
                                },
                                {
                                    "0": "128759",
                                    "1": "CEU4142361082",
                                    "2": "2016"
                                },
                                {
                                    "0": "128898",
                                    "1": "CEU7071394082",
                                    "2": "2016"
                                },
                                {
                                    "0": "129211",
                                    "1": "CEU4142480082",
                                    "2": "2016"
                                },
                                {
                                    "0": "129656",
                                    "1": "CEU2023829082",
                                    "2": "2016"
                                },
                                {
                                    "0": "130030",
                                    "1": "CEU3232400082",
                                    "2": "2016"
                                },
                                {
                                    "0": "130433",
                                    "1": "CEU4422111282",
                                    "2": "2016"
                                },
                                {
                                    "0": "131508",
                                    "1": "CEU6562149882",
                                    "2": "2016"
                                },
                                {
                                    "0": "132291",
                                    "1": "CEU6056150082",
                                    "2": "2016"
                                },
                                {
                                    "0": "135516",
                                    "1": "CEU3132730082",
                                    "2": "2016"
                                },
                                {
                                    "0": "136208",
                                    "1": "CEU1021100082",
                                    "2": "2016"
                                },
                                {
                                    "0": "136762",
                                    "1": "CEU3231180082",
                                    "2": "2016"
                                },
                                {
                                    "0": "138050",
                                    "1": "CEU4348850082",
                                    "2": "2016"
                                },
                                {
                                    "0": "142200",
                                    "1": "CEU6054199082",
                                    "2": "2016"
                                },
                                {
                                    "0": "144672",
                                    "1": "CEU7072251582",
                                    "2": "2016"
                                },
                                {
                                    "0": "144928",
                                    "1": "CEU6562331282",
                                    "2": "2016"
                                },
                                {
                                    "0": "145893",
                                    "1": "CEU2023711082",
                                    "2": "2016"
                                },
                                {
                                    "0": "146025",
                                    "1": "CEU2023621082",
                                    "2": "2016"
                                },
                                {
                                    "0": "148239",
                                    "1": "CEU3133390082",
                                    "2": "2016"
                                },
                                {
                                    "0": "148884",
                                    "1": "CEU5552429282",
                                    "2": "2016"
                                },
                                {
                                    "0": "149779",
                                    "1": "CEU8081130082",
                                    "2": "2016"
                                },
                                {
                                    "0": "151877",
                                    "1": "CEU5552219082",
                                    "2": "2016"
                                },
                                {
                                    "0": "151928",
                                    "1": "CEU2023712082",
                                    "2": "2016"
                                },
                                {
                                    "0": "152168",
                                    "1": "CEU6562321082",
                                    "2": "2016"
                                },
                                {
                                    "0": "153942",
                                    "1": "CEU6562151182",
                                    "2": "2016"
                                },
                                {
                                    "0": "154320",
                                    "1": "CEU4142330082",
                                    "2": "2016"
                                },
                                {
                                    "0": "155150",
                                    "1": "CEU4142420082",
                                    "2": "2016"
                                },
                                {
                                    "0": "155732",
                                    "1": "CEU5553120082",
                                    "2": "2016"
                                },
                                {
                                    "0": "157976",
                                    "1": "CEU7072231082",
                                    "2": "2016"
                                },
                                {
                                    "0": "160624",
                                    "1": "CEU4142345082",
                                    "2": "2016"
                                },
                                {
                                    "0": "161009",
                                    "1": "CEU3232540082",
                                    "2": "2016"
                                },
                                {
                                    "0": "161443",
                                    "1": "CEU3232220082",
                                    "2": "2016"
                                },
                                {
                                    "0": "161603",
                                    "1": "CEU6056190082",
                                    "2": "2016"
                                },
                                {
                                    "0": "161611",
                                    "1": "CEU3133910082",
                                    "2": "2016"
                                },
                                {
                                    "0": "162382",
                                    "1": "CEU6054171182",
                                    "2": "2016"
                                },
                                {
                                    "0": "162599",
                                    "1": "CEU4245110082",
                                    "2": "2016"
                                },
                                {
                                    "0": "163031",
                                    "1": "CEU3232619082",
                                    "2": "2016"
                                },
                                {
                                    "0": "163356",
                                    "1": "CEU3133290082",
                                    "2": "2016"
                                },
                                {
                                    "0": "164344",
                                    "1": "CEU6054131082",
                                    "2": "2016"
                                },
                                {
                                    "0": "165395",
                                    "1": "CEU6054161382",
                                    "2": "2016"
                                },
                                {
                                    "0": "166661",
                                    "1": "CEU1021200082",
                                    "2": "2016"
                                },
                                {
                                    "0": "167669",
                                    "1": "CEU6054194082",
                                    "2": "2016"
                                },
                                {
                                    "0": "167710",
                                    "1": "CEU2023713082",
                                    "2": "2016"
                                },
                                {
                                    "0": "167822",
                                    "1": "CEU4348422082",
                                    "2": "2016"
                                },
                                {
                                    "0": "169359",
                                    "1": "CEU4245411282",
                                    "2": "2016"
                                },
                                {
                                    "0": "169762",
                                    "1": "CEU5553111082",
                                    "2": "2016"
                                },
                                {
                                    "0": "171123",
                                    "1": "CEU2023811082",
                                    "2": "2016"
                                },
                                {
                                    "0": "172898",
                                    "1": "CEU8081112082",
                                    "2": "2016"
                                },
                                {
                                    "0": "174430",
                                    "1": "CEU4142390082",
                                    "2": "2016"
                                },
                                {
                                    "0": "175489",
                                    "1": "CEU2023611882",
                                    "2": "2016"
                                },
                                {
                                    "0": "176329",
                                    "1": "CEU4244131082",
                                    "2": "2016"
                                },
                                {
                                    "0": "178087",
                                    "1": "CEU3133271082",
                                    "2": "2016"
                                },
                                {
                                    "0": "178383",
                                    "1": "CEU4142370082",
                                    "2": "2016"
                                },
                                {
                                    "0": "179007",
                                    "1": "CEU4142490082",
                                    "2": "2016"
                                },
                                {
                                    "0": "180804",
                                    "1": "CEU1021311282",
                                    "2": "2016"
                                },
                                {
                                    "0": "182244",
                                    "1": "CEU4142441082",
                                    "2": "2016"
                                },
                                {
                                    "0": "184577",
                                    "1": "CEU4245100082",
                                    "2": "2016"
                                },
                                {
                                    "0": "185804",
                                    "1": "CEU4348411082",
                                    "2": "2016"
                                },
                                {
                                    "0": "186562",
                                    "1": "CEU3133641182",
                                    "2": "2016"
                                },
                                {
                                    "0": "187044",
                                    "1": "CEU5552393082",
                                    "2": "2016"
                                },
                                {
                                    "0": "187547",
                                    "1": "CEU6562419082",
                                    "2": "2016"
                                },
                                {
                                    "0": "188826",
                                    "1": "CEU6054181082",
                                    "2": "2016"
                                },
                                {
                                    "0": "189758",
                                    "1": "CEU3133440082",
                                    "2": "2016"
                                },
                                {
                                    "0": "191547",
                                    "1": "CEU6562190082",
                                    "2": "2016"
                                },
                                {
                                    "0": "191903",
                                    "1": "CEU5051200082",
                                    "2": "2016"
                                },
                                {
                                    "0": "192281",
                                    "1": "CEU3133700082",
                                    "2": "2016"
                                },
                                {
                                    "0": "193892",
                                    "1": "CEU8081111182",
                                    "2": "2016"
                                },
                                {
                                    "0": "194641",
                                    "1": "CEU8081211082",
                                    "2": "2016"
                                },
                                {
                                    "0": "195363",
                                    "1": "CEU6056133082",
                                    "2": "2016"
                                },
                                {
                                    "0": "198619",
                                    "1": "CEU2023831082",
                                    "2": "2016"
                                },
                                {
                                    "0": "203678",
                                    "1": "CEU2023611582",
                                    "2": "2016"
                                },
                                {
                                    "0": "205411",
                                    "1": "CEU6562331182",
                                    "2": "2016"
                                },
                                {
                                    "0": "207122",
                                    "1": "CEU6562150082",
                                    "2": "2016"
                                },
                                {
                                    "0": "208642",
                                    "1": "CEU4348412282",
                                    "2": "2016"
                                },
                                {
                                    "0": "209767",
                                    "1": "CEU3133230082",
                                    "2": "2016"
                                },
                                {
                                    "0": "210682",
                                    "1": "CEU5051500082",
                                    "2": "2016"
                                },
                                {
                                    "0": "211102",
                                    "1": "CEU7072230082",
                                    "2": "2016"
                                },
                                {
                                    "0": "211550",
                                    "1": "CEU4422111082",
                                    "2": "2016"
                                },
                                {
                                    "0": "212288",
                                    "1": "CEU4244810082",
                                    "2": "2016"
                                },
                                {
                                    "0": "213174",
                                    "1": "CEU4142310082",
                                    "2": "2016"
                                },
                                {
                                    "0": "214261",
                                    "1": "CEU3133500082",
                                    "2": "2016"
                                },
                                {
                                    "0": "214996",
                                    "1": "CEU6056131082",
                                    "2": "2016"
                                },
                                {
                                    "0": "216581",
                                    "1": "CEU4244200082",
                                    "2": "2016"
                                },
                                {
                                    "0": "217113",
                                    "1": "CEU3132100082",
                                    "2": "2016"
                                },
                                {
                                    "0": "218574",
                                    "1": "CEU5553131182",
                                    "2": "2016"
                                },
                                {
                                    "0": "218877",
                                    "1": "CEU3133610082",
                                    "2": "2016"
                                },
                                {
                                    "0": "220498",
                                    "1": "CEU2023899082",
                                    "2": "2016"
                                },
                                {
                                    "0": "221085",
                                    "1": "CEU6562134082",
                                    "2": "2016"
                                },
                                {
                                    "0": "222680",
                                    "1": "CEU7071100082",
                                    "2": "2016"
                                },
                                {
                                    "0": "224539",
                                    "1": "CEU5552230082",
                                    "2": "2016"
                                },
                                {
                                    "0": "224916",
                                    "1": "CEU8081111082",
                                    "2": "2016"
                                },
                                {
                                    "0": "225614",
                                    "1": "CEU3133270082",
                                    "2": "2016"
                                },
                                {
                                    "0": "226787",
                                    "1": "CEU3232300082",
                                    "2": "2016"
                                },
                                {
                                    "0": "228525",
                                    "1": "CEU5051900082",
                                    "2": "2016"
                                },
                                {
                                    "0": "228953",
                                    "1": "CEU6056142082",
                                    "2": "2016"
                                },
                                {
                                    "0": "230390",
                                    "1": "CEU5552392082",
                                    "2": "2016"
                                },
                                {
                                    "0": "233767",
                                    "1": "CEU4244711082",
                                    "2": "2016"
                                },
                                {
                                    "0": "233772",
                                    "1": "CEU4142343082",
                                    "2": "2016"
                                },
                                {
                                    "0": "235422",
                                    "1": "CEU5552229282",
                                    "2": "2016"
                                },
                                {
                                    "0": "240545",
                                    "1": "CEU4245410082",
                                    "2": "2016"
                                },
                                {
                                    "0": "242072",
                                    "1": "CEU1021300082",
                                    "2": "2016"
                                },
                                {
                                    "0": "245476",
                                    "1": "CEU8081210082",
                                    "2": "2016"
                                },
                                {
                                    "0": "249204",
                                    "1": "CEU4244411082",
                                    "2": "2016"
                                },
                                {
                                    "0": "249472",
                                    "1": "CEU4348500082",
                                    "2": "2016"
                                },
                                {
                                    "0": "251883",
                                    "1": "CEU5051110082",
                                    "2": "2016"
                                },
                                {
                                    "0": "254922",
                                    "1": "CEU3232200082",
                                    "2": "2016"
                                },
                                {
                                    "0": "255121",
                                    "1": "CEU2023891082",
                                    "2": "2016"
                                },
                                {
                                    "0": "255566",
                                    "1": "CEU4142360082",
                                    "2": "2016"
                                },
                                {
                                    "0": "255696",
                                    "1": "CEU4142383082",
                                    "2": "2016"
                                },
                                {
                                    "0": "258453",
                                    "1": "CEU6562320082",
                                    "2": "2016"
                                },
                                {
                                    "0": "260945",
                                    "1": "CEU4245300082",
                                    "2": "2016"
                                },
                                {
                                    "0": "261768",
                                    "1": "CEU3132700082",
                                    "2": "2016"
                                },
                                {
                                    "0": "263150",
                                    "1": "CEU3231160082",
                                    "2": "2016"
                                },
                                {
                                    "0": "264134",
                                    "1": "CEU4244130082",
                                    "2": "2016"
                                },
                                {
                                    "0": "270969",
                                    "1": "CEU4244700082",
                                    "2": "2016"
                                },
                                {
                                    "0": "273652",
                                    "1": "CEU3133450082",
                                    "2": "2016"
                                },
                                {
                                    "0": "274236",
                                    "1": "CEU5552429082",
                                    "2": "2016"
                                },
                                {
                                    "0": "280177",
                                    "1": "CEU5553110082",
                                    "2": "2016"
                                },
                                {
                                    "0": "280893",
                                    "1": "CEU5051800082",
                                    "2": "2016"
                                },
                                {
                                    "0": "286958",
                                    "1": "CEU3133900082",
                                    "2": "2016"
                                },
                                {
                                    "0": "290056",
                                    "1": "CEU5553200082",
                                    "2": "2016"
                                },
                                {
                                    "0": "295801",
                                    "1": "CEU4422112082",
                                    "2": "2016"
                                },
                                {
                                    "0": "295887",
                                    "1": "CEU5552312082",
                                    "2": "2016"
                                },
                                {
                                    "0": "296875",
                                    "1": "CEU3133100082",
                                    "2": "2016"
                                },
                                {
                                    "0": "300356",
                                    "1": "CEU4244611082",
                                    "2": "2016"
                                },
                                {
                                    "0": "301071",
                                    "1": "CEU6056200082",
                                    "2": "2016"
                                },
                                {
                                    "0": "301410",
                                    "1": "CEU2023730082",
                                    "2": "2016"
                                },
                                {
                                    "0": "303047",
                                    "1": "CEU8081390082",
                                    "2": "2016"
                                },
                                {
                                    "0": "309142",
                                    "1": "CEU3232610082",
                                    "2": "2016"
                                },
                                {
                                    "0": "310388",
                                    "1": "CEU6562440082",
                                    "2": "2016"
                                },
                                {
                                    "0": "311547",
                                    "1": "CEU6054121182",
                                    "2": "2016"
                                },
                                {
                                    "0": "320401",
                                    "1": "CEU4244314282",
                                    "2": "2016"
                                },
                                {
                                    "0": "321618",
                                    "1": "CEU5553131082",
                                    "2": "2016"
                                },
                                {
                                    "0": "322193",
                                    "1": "CEU4244800082",
                                    "2": "2016"
                                },
                                {
                                    "0": "326305",
                                    "1": "CEU6056172082",
                                    "2": "2016"
                                },
                                {
                                    "0": "330312",
                                    "1": "CEU4348420082",
                                    "2": "2016"
                                },
                                {
                                    "0": "338184",
                                    "1": "CEU6056161082",
                                    "2": "2016"
                                },
                                {
                                    "0": "340631",
                                    "1": "CEU4349200082",
                                    "2": "2016"
                                },
                                {
                                    "0": "344655",
                                    "1": "CEU4245400082",
                                    "2": "2016"
                                },
                                {
                                    "0": "345050",
                                    "1": "CEU4244300082",
                                    "2": "2016"
                                },
                                {
                                    "0": "350159",
                                    "1": "CEU6562330082",
                                    "2": "2016"
                                },
                                {
                                    "0": "375318",
                                    "1": "CEU6056110082",
                                    "2": "2016"
                                },
                                {
                                    "0": "379149",
                                    "1": "CEU6056173082",
                                    "2": "2016"
                                },
                                {
                                    "0": "387460",
                                    "1": "CEU5553130082",
                                    "2": "2016"
                                },
                                {
                                    "0": "388400",
                                    "1": "CEU3232600082",
                                    "2": "2016"
                                },
                                {
                                    "0": "396526",
                                    "1": "CEU6054190082",
                                    "2": "2016"
                                },
                                {
                                    "0": "399271",
                                    "1": "CEU6054180082",
                                    "2": "2016"
                                },
                                {
                                    "0": "401130",
                                    "1": "CEU3133630082",
                                    "2": "2016"
                                },
                                {
                                    "0": "409555",
                                    "1": "CEU4348412182",
                                    "2": "2016"
                                },
                                {
                                    "0": "414259",
                                    "1": "CEU4244600082",
                                    "2": "2016"
                                },
                                {
                                    "0": "415914",
                                    "1": "CEU2023610082",
                                    "2": "2016"
                                },
                                {
                                    "0": "417464",
                                    "1": "CEU4348100082",
                                    "2": "2016"
                                },
                                {
                                    "0": "424026",
                                    "1": "CEU4348800082",
                                    "2": "2016"
                                },
                                {
                                    "0": "430842",
                                    "1": "CEU6056160082",
                                    "2": "2016"
                                },
                                {
                                    "0": "434934",
                                    "1": "CEU2023622082",
                                    "2": "2016"
                                },
                                {
                                    "0": "437232",
                                    "1": "CEU3133640082",
                                    "2": "2016"
                                },
                                {
                                    "0": "438140",
                                    "1": "CEU6056140082",
                                    "2": "2016"
                                },
                                {
                                    "0": "438193",
                                    "1": "CEU6562130082",
                                    "2": "2016"
                                },
                                {
                                    "0": "449519",
                                    "1": "CEU7071300082",
                                    "2": "2016"
                                },
                                {
                                    "0": "452089",
                                    "1": "CEU4244410082",
                                    "2": "2016"
                                },
                                {
                                    "0": "465536",
                                    "1": "CEU2023710082",
                                    "2": "2016"
                                },
                                {
                                    "0": "471210",
                                    "1": "CEU5051120082",
                                    "2": "2016"
                                },
                                {
                                    "0": "471424",
                                    "1": "CEU4349311082",
                                    "2": "2016"
                                },
                                {
                                    "0": "473909",
                                    "1": "CEU8081110082",
                                    "2": "2016"
                                },
                                {
                                    "0": "475594",
                                    "1": "CEU2023890082",
                                    "2": "2016"
                                },
                                {
                                    "0": "484782",
                                    "1": "CEU5552220082",
                                    "2": "2016"
                                },
                                {
                                    "0": "489986",
                                    "1": "CEU3232500082",
                                    "2": "2016"
                                },
                                {
                                    "0": "490785",
                                    "1": "CEU6562149082",
                                    "2": "2016"
                                },
                                {
                                    "0": "493257",
                                    "1": "CEU4142440082",
                                    "2": "2016"
                                },
                                {
                                    "0": "507256",
                                    "1": "CEU4422110082",
                                    "2": "2016"
                                },
                                {
                                    "0": "508019",
                                    "1": "CEU4142380082",
                                    "2": "2016"
                                },
                                {
                                    "0": "512211",
                                    "1": "CEU5552390082",
                                    "2": "2016"
                                },
                                {
                                    "0": "518084",
                                    "1": "CEU8081200082",
                                    "2": "2016"
                                },
                                {
                                    "0": "519450",
                                    "1": "CEU4244400082",
                                    "2": "2016"
                                },
                                {
                                    "0": "530524",
                                    "1": "CEU6562412082",
                                    "2": "2016"
                                },
                                {
                                    "0": "534139",
                                    "1": "CEU6054171282",
                                    "2": "2016"
                                },
                                {
                                    "0": "537892",
                                    "1": "CEU6562120082",
                                    "2": "2016"
                                },
                                {
                                    "0": "541331",
                                    "1": "CEU2023830082",
                                    "2": "2016"
                                },
                                {
                                    "0": "545093",
                                    "1": "CEU1021000082",
                                    "2": "2016"
                                },
                                {
                                    "0": "546350",
                                    "1": "CEU4349300082",
                                    "2": "2016"
                                },
                                {
                                    "0": "552231",
                                    "1": "CEU5552320082",
                                    "2": "2016"
                                },
                                {
                                    "0": "554848",
                                    "1": "CEU4142340082",
                                    "2": "2016"
                                },
                                {
                                    "0": "558286",
                                    "1": "CEU6054161182",
                                    "2": "2016"
                                },
                                {
                                    "0": "562561",
                                    "1": "CEU7072111082",
                                    "2": "2016"
                                },
                                {
                                    "0": "567168",
                                    "1": "CEU5051710082",
                                    "2": "2016"
                                },
                                {
                                    "0": "570163",
                                    "1": "CEU5552421082",
                                    "2": "2016"
                                },
                                {
                                    "0": "580897",
                                    "1": "CEU2023620082",
                                    "2": "2016"
                                },
                                {
                                    "0": "582473",
                                    "1": "CEU1000000082",
                                    "2": "2016"
                                },
                                {
                                    "0": "595307",
                                    "1": "CEU3133400082",
                                    "2": "2016"
                                },
                                {
                                    "0": "613881",
                                    "1": "CEU6562140082",
                                    "2": "2016"
                                },
                                {
                                    "0": "618396",
                                    "1": "CEU4348412082",
                                    "2": "2016"
                                },
                                {
                                    "0": "620945",
                                    "1": "CEU6054120082",
                                    "2": "2016"
                                },
                                {
                                    "0": "632175",
                                    "1": "CEU3133300082",
                                    "2": "2016"
                                },
                                {
                                    "0": "635822",
                                    "1": "CEU2023810082",
                                    "2": "2016"
                                },
                                {
                                    "0": "639287",
                                    "1": "CEU6562160082",
                                    "2": "2016"
                                },
                                {
                                    "0": "670156",
                                    "1": "CEU4422000082",
                                    "2": "2016"
                                },
                                {
                                    "0": "679537",
                                    "1": "CEU7072110082",
                                    "2": "2016"
                                },
                                {
                                    "0": "689602",
                                    "1": "CEU5552412082",
                                    "2": "2016"
                                },
                                {
                                    "0": "696589",
                                    "1": "CEU6054171082",
                                    "2": "2016"
                                },
                                {
                                    "0": "698782",
                                    "1": "CEU7072100082",
                                    "2": "2016"
                                },
                                {
                                    "0": "708655",
                                    "1": "CEU3133600182",
                                    "2": "2016"
                                },
                                {
                                    "0": "713870",
                                    "1": "CEU5552211082",
                                    "2": "2016"
                                },
                                {
                                    "0": "722785",
                                    "1": "CEU5051100082",
                                    "2": "2016"
                                },
                                {
                                    "0": "724275",
                                    "1": "CEU8081100082",
                                    "2": "2016"
                                },
                                {
                                    "0": "729764",
                                    "1": "CEU7071000082",
                                    "2": "2016"
                                },
                                {
                                    "0": "736561",
                                    "1": "CEU6054170082",
                                    "2": "2016"
                                },
                                {
                                    "0": "737044",
                                    "1": "CEU4244111082",
                                    "2": "2016"
                                },
                                {
                                    "0": "751898",
                                    "1": "CEU5051700082",
                                    "2": "2016"
                                },
                                {
                                    "0": "757551",
                                    "1": "CEU5552411082",
                                    "2": "2016"
                                },
                                {
                                    "0": "772009",
                                    "1": "CEU6562310082",
                                    "2": "2016"
                                },
                                {
                                    "0": "780897",
                                    "1": "CEU2023821082",
                                    "2": "2016"
                                },
                                {
                                    "0": "781062",
                                    "1": "CEU2023822082",
                                    "2": "2016"
                                },
                                {
                                    "0": "798216",
                                    "1": "CEU6562410082",
                                    "2": "2016"
                                },
                                {
                                    "0": "803825",
                                    "1": "CEU4348410082",
                                    "2": "2016"
                                },
                                {
                                    "0": "807455",
                                    "1": "CEU4244511082",
                                    "2": "2016"
                                },
                                {
                                    "0": "819316",
                                    "1": "CEU4244110082",
                                    "2": "2016"
                                },
                                {
                                    "0": "821755",
                                    "1": "CEU4142512082",
                                    "2": "2016"
                                },
                                {
                                    "0": "822939",
                                    "1": "CEU5553100082",
                                    "2": "2016"
                                },
                                {
                                    "0": "827438",
                                    "1": "CEU3231100082",
                                    "2": "2016"
                                },
                                {
                                    "0": "827493",
                                    "1": "CEU6056170082",
                                    "2": "2016"
                                },
                                {
                                    "0": "844118",
                                    "1": "CEU5552420082",
                                    "2": "2016"
                                },
                                {
                                    "0": "844616",
                                    "1": "CEU4142500082",
                                    "2": "2016"
                                },
                                {
                                    "0": "848922",
                                    "1": "CEU4244510082",
                                    "2": "2016"
                                },
                                {
                                    "0": "859493",
                                    "1": "CEU3133200082",
                                    "2": "2016"
                                },
                                {
                                    "0": "876892",
                                    "1": "CEU2023700082",
                                    "2": "2016"
                                },
                                {
                                    "0": "920588",
                                    "1": "CEU7072251382",
                                    "2": "2016"
                                },
                                {
                                    "0": "933434",
                                    "1": "CEU5552210082",
                                    "2": "2016"
                                },
                                {
                                    "0": "953193",
                                    "1": "CEU4244500082",
                                    "2": "2016"
                                },
                                {
                                    "0": "982160",
                                    "1": "CEU6054161082",
                                    "2": "2016"
                                },
                                {
                                    "0": "989795",
                                    "1": "CEU6054111082",
                                    "2": "2016"
                                },
                                {
                                    "0": "997335",
                                    "1": "CEU2023600082",
                                    "2": "2016"
                                },
                                {
                                    "0": "1017174",
                                    "1": "CEU4245200082",
                                    "2": "2016"
                                },
                                {
                                    "0": "1029479",
                                    "1": "CEU6054134082",
                                    "2": "2016"
                                },
                                {
                                    "0": "1043534",
                                    "1": "CEU6054110082",
                                    "2": "2016"
                                },
                                {
                                    "0": "1064771",
                                    "1": "CEU5552300082",
                                    "2": "2016"
                                },
                                {
                                    "0": "1134303",
                                    "1": "CEU4348400082",
                                    "2": "2016"
                                },
                                {
                                    "0": "1135970",
                                    "1": "CEU6054151182",
                                    "2": "2016"
                                },
                                {
                                    "0": "1160417",
                                    "1": "CEU4244100082",
                                    "2": "2016"
                                },
                                {
                                    "0": "1227501",
                                    "1": "CEU6054151282",
                                    "2": "2016"
                                },
                                {
                                    "0": "1251085",
                                    "1": "CEU6054160082",
                                    "2": "2016"
                                },
                                {
                                    "0": "1267134",
                                    "1": "CEU3133600082",
                                    "2": "2016"
                                },
                                {
                                    "0": "1296410",
                                    "1": "CEU6562400082",
                                    "2": "2016"
                                },
                                {
                                    "0": "1343871",
                                    "1": "CEU4142400082",
                                    "2": "2016"
                                },
                                {
                                    "0": "1405877",
                                    "1": "CEU6054130082",
                                    "2": "2016"
                                },
                                {
                                    "0": "1452489",
                                    "1": "CEU6562300082",
                                    "2": "2016"
                                },
                                {
                                    "0": "1478929",
                                    "1": "CEU5552410082",
                                    "2": "2016"
                                },
                                {
                                    "0": "1513209",
                                    "1": "CEU6055111482",
                                    "2": "2016"
                                },
                                {
                                    "0": "1535866",
                                    "1": "CEU6056132082",
                                    "2": "2016"
                                },
                                {
                                    "0": "1566091",
                                    "1": "CEU8081300082",
                                    "2": "2016"
                                },
                                {
                                    "0": "1566755",
                                    "1": "CEU7072251182",
                                    "2": "2016"
                                },
                                {
                                    "0": "1581312",
                                    "1": "CEU6055000082",
                                    "2": "2016"
                                },
                                {
                                    "0": "1643184",
                                    "1": "CEU5552200082",
                                    "2": "2016"
                                },
                                {
                                    "0": "1692037",
                                    "1": "CEU2023820082",
                                    "2": "2016"
                                },
                                {
                                    "0": "1946470",
                                    "1": "CEU6056130082",
                                    "2": "2016"
                                },
                                {
                                    "0": "2059688",
                                    "1": "CEU6562111182",
                                    "2": "2016"
                                },
                                {
                                    "0": "2088889",
                                    "1": "CEU6562110082",
                                    "2": "2016"
                                },
                                {
                                    "0": "2193730",
                                    "1": "CEU4142300082",
                                    "2": "2016"
                                },
                                {
                                    "0": "2324221",
                                    "1": "CEU5552400082",
                                    "2": "2016"
                                },
                                {
                                    "0": "2387007",
                                    "1": "CEU5000000082",
                                    "2": "2016"
                                },
                                {
                                    "0": "2577582",
                                    "1": "CEU6054150082",
                                    "2": "2016"
                                },
                                {
                                    "0": "2591139",
                                    "1": "CEU3200000082",
                                    "2": "2016"
                                },
                                {
                                    "0": "2660967",
                                    "1": "CEU7072250082",
                                    "2": "2016"
                                },
                                {
                                    "0": "2808821",
                                    "1": "CEU8000000082",
                                    "2": "2016"
                                },
                                {
                                    "0": "2964829",
                                    "1": "CEU7072200082",
                                    "2": "2016"
                                },
                                {
                                    "0": "3343498",
                                    "1": "CEU2023800082",
                                    "2": "2016"
                                },
                                {
                                    "0": "3500099",
                                    "1": "CEU4300000082",
                                    "2": "2016"
                                },
                                {
                                    "0": "3666442",
                                    "1": "CEU7072000082",
                                    "2": "2016"
                                },
                                {
                                    "0": "4382353",
                                    "1": "CEU4142000082",
                                    "2": "2016"
                                },
                                {
                                    "0": "4393096",
                                    "1": "CEU7000000082",
                                    "2": "2016"
                                },
                                {
                                    "0": "4404573",
                                    "1": "CEU6056100082",
                                    "2": "2016"
                                },
                                {
                                    "0": "4607346",
                                    "1": "CEU6562210082",
                                    "2": "2016"
                                },
                                {
                                    "0": "4709118",
                                    "1": "CEU6056000082",
                                    "2": "2016"
                                },
                                {
                                    "0": "4714691",
                                    "1": "CEU6562100082",
                                    "2": "2016"
                                },
                                {
                                    "0": "4824182",
                                    "1": "CEU3100000082",
                                    "2": "2016"
                                },
                                {
                                    "0": "4921094",
                                    "1": "CEU6562200082",
                                    "2": "2016"
                                },
                                {
                                    "0": "5219626",
                                    "1": "CEU2000000082",
                                    "2": "2016"
                                },
                                {
                                    "0": "6008747",
                                    "1": "CEU4200000082",
                                    "2": "2016"
                                },
                                {
                                    "0": "6189003",
                                    "1": "CEU5500000082",
                                    "2": "2016"
                                },
                                {
                                    "0": "7415788",
                                    "1": "CEU3000000082",
                                    "2": "2016"
                                },
                                {
                                    "0": "8531125",
                                    "1": "CEU6054000082",
                                    "2": "2016"
                                },
                                {
                                    "0": "11088411",
                                    "1": "CEU6562000182",
                                    "2": "2016"
                                },
                                {
                                    "0": "12387258",
                                    "1": "CEU6562000082",
                                    "2": "2016"
                                },
                                {
                                    "0": "13214434",
                                    "1": "CEU0600000082",
                                    "2": "2016"
                                },
                                {
                                    "0": "14371112",
                                    "1": "CEU6500000082",
                                    "2": "2016"
                                },
                                {
                                    "0": "14567692",
                                    "1": "CEU4000000082",
                                    "2": "2016"
                                },
                                {
                                    "0": "14810432",
                                    "1": "CEU6000000082",
                                    "2": "2016"
                                },
                                {
                                    "0": "59539370",
                                    "1": "CEU0800000082",
                                    "2": "2016"
                                },
                                {
                                    "0": "72752850",
                                    "1": "CEU0500000082",
                                    "2": "2016"
                                }
                            ]
                        },
                        "text/html": [
                            "<table>",
                            "<tr><th>avg_value_2016</th><th>series_id</th><th>year</th></tr>",
                            "<tr><td>10750</td><td>CEU4244815082</td><td>2016</td></tr>",
                            "<tr><td>11088</td><td>CEU8081231082</td><td>2016</td></tr>",
                            "<tr><td>11456</td><td>CEU7071392082</td><td>2016</td></tr>",
                            "<tr><td>13599</td><td>CEU7071395082</td><td>2016</td></tr>",
                            "<tr><td>14101</td><td>CEU2023720082</td><td>2016</td></tr>",
                            "<tr><td>14714</td><td>CEU1021231982</td><td>2016</td></tr>",
                            "<tr><td>14861</td><td>CEU7071393082</td><td>2016</td></tr>",
                            "<tr><td>15934</td><td>CEU4245310082</td><td>2016</td></tr>",
                            "<tr><td>16810</td><td>CEU1021231282</td><td>2016</td></tr>",
                            "<tr><td>16817</td><td>CEU6056174082</td><td>2016</td></tr>",
                            "<tr><td>17517</td><td>CEU3231170082</td><td>2016</td></tr>",
                            "<tr><td>19128</td><td>CEU7072120082</td><td>2016</td></tr>",
                            "<tr><td>19820</td><td>CEU5553229182</td><td>2016</td></tr>",
                            "<tr><td>19914</td><td>CEU2023817082</td><td>2016</td></tr>",
                            "<tr><td>20055</td><td>CEU6054192082</td><td>2016</td></tr>",
                            "<tr><td>20287</td><td>CEU5553230082</td><td>2016</td></tr>",
                            "<tr><td>21110</td><td>CEU3133911682</td><td>2016</td></tr>",
                            "<tr><td>21480</td><td>CEU7071219082</td><td>2016</td></tr>",
                            "<tr><td>21543</td><td>CEU4142493082</td><td>2016</td></tr>",
                            "<tr><td>21980</td><td>CEU4245120082</td><td>2016</td></tr>",
                            "<tr><td>22053</td><td>CEU4244522082</td><td>2016</td></tr>",
                            "<tr><td>22769</td><td>CEU4142511082</td><td>2016</td></tr>",
                            "<tr><td>24294</td><td>CEU8081331182</td><td>2016</td></tr>",
                            "<tr><td>24325</td><td>CEU8081121282</td><td>2016</td></tr>",
                            "<tr><td>24471</td><td>CEU4244314182</td><td>2016</td></tr>",
                            "<tr><td>24648</td><td>CEU6054132082</td><td>2016</td></tr>",
                            "<tr><td>25954</td><td>CEU3132191182</td><td>2016</td></tr>",
                            "<tr><td>27135</td><td>CEU3132191882</td><td>2016</td></tr>",
                            "<tr><td>28024</td><td>CEU7072251482</td><td>2016</td></tr>",
                            "<tr><td>28117</td><td>CEU7071150082</td><td>2016</td></tr>",
                            "<tr><td>29062</td><td>CEU3132192082</td><td>2016</td></tr>",
                            "<tr><td>29620</td><td>CEU3133311182</td><td>2016</td></tr>",
                            "<tr><td>30060</td><td>CEU6562111282</td><td>2016</td></tr>",
                            "<tr><td>30068</td><td>CEU4142391082</td><td>2016</td></tr>",
                            "<tr><td>30242</td><td>CEU3132199082</td><td>2016</td></tr>",
                            "<tr><td>30391</td><td>CEU3133995082</td><td>2016</td></tr>",
                            "<tr><td>31428</td><td>CEU8081119882</td><td>2016</td></tr>",
                            "<tr><td>31524</td><td>CEU1021231082</td><td>2016</td></tr>",
                            "<tr><td>31902</td><td>CEU8081291082</td><td>2016</td></tr>",
                            "<tr><td>32356</td><td>CEU5552413082</td><td>2016</td></tr>",
                            "<tr><td>32472</td><td>CEU3133712182</td><td>2016</td></tr>",
                            "<tr><td>32698</td><td>CEU4244613082</td><td>2016</td></tr>",
                            "<tr><td>33013</td><td>CEU3232222082</td><td>2016</td></tr>",
                            "<tr><td>33015</td><td>CEU3133281382</td><td>2016</td></tr>",
                            "<tr><td>33015</td><td>CEU6054119182</td><td>2016</td></tr>",
                            "<tr><td>33028</td><td>CEU2023819082</td><td>2016</td></tr>",
                            "<tr><td>33040</td><td>CEU6056191082</td><td>2016</td></tr>",
                            "<tr><td>33269</td><td>CEU3232615082</td><td>2016</td></tr>",
                            "<tr><td>34308</td><td>CEU4348811082</td><td>2016</td></tr>",
                            "<tr><td>34380</td><td>CEU8081140082</td><td>2016</td></tr>",
                            "<tr><td>34471</td><td>CEU3133420082</td><td>2016</td></tr>",
                            "<tr><td>35053</td><td>CEU4245322082</td><td>2016</td></tr>",
                            "<tr><td>35128</td><td>CEU6562133082</td><td>2016</td></tr>",
                            "<tr><td>35955</td><td>CEU7071211082</td><td>2016</td></tr>",
                            "<tr><td>36749</td><td>CEU6056192082</td><td>2016</td></tr>",
                            "<tr><td>36893</td><td>CEU3231130082</td><td>2016</td></tr>",
                            "<tr><td>36967</td><td>CEU5051791182</td><td>2016</td></tr>",
                            "<tr><td>36978</td><td>CEU4422130082</td><td>2016</td></tr>",
                            "<tr><td>37189</td><td>CEU4244719082</td><td>2016</td></tr>",
                            "<tr><td>37515</td><td>CEU4142332082</td><td>2016</td></tr>",
                            "<tr><td>37563</td><td>CEU1011330082</td><td>2016</td></tr>",
                            "<tr><td>38126</td><td>CEU6056179082</td><td>2016</td></tr>",
                            "<tr><td>38352</td><td>CEU4348890082</td><td>2016</td></tr>",
                            "<tr><td>39120</td><td>CEU4244612082</td><td>2016</td></tr>",
                            "<tr><td>39387</td><td>CEU6056143082</td><td>2016</td></tr>",
                            "<tr><td>39597</td><td>CEU2023834082</td><td>2016</td></tr>",
                            "<tr><td>39764</td><td>CEU4244530082</td><td>2016</td></tr>",
                            "<tr><td>39904</td><td>CEU6054172082</td><td>2016</td></tr>",
                            "<tr><td>39998</td><td>CEU4245391082</td><td>2016</td></tr>",
                            "<tr><td>40394</td><td>CEU4244221082</td><td>2016</td></tr>",
                            "<tr><td>40743</td><td>CEU4142339082</td><td>2016</td></tr>",
                            "<tr><td>41021</td><td>CEU8081232082</td><td>2016</td></tr>",
                            "<tr><td>41554</td><td>CEU4245112082</td><td>2016</td></tr>",
                            "<tr><td>41685</td><td>CEU8081121982</td><td>2016</td></tr>",
                            "<tr><td>41758</td><td>CEU4244512082</td><td>2016</td></tr>",
                            "<tr><td>42232</td><td>CEU4244619082</td><td>2016</td></tr>",
                            "<tr><td>42497</td><td>CEU2023815082</td><td>2016</td></tr>",
                            "<tr><td>42796</td><td>CEU3133281282</td><td>2016</td></tr>",
                            "<tr><td>42898</td><td>CEU4348590082</td><td>2016</td></tr>",
                            "<tr><td>43151</td><td>CEU4142450082</td><td>2016</td></tr>",
                            "<tr><td>44263</td><td>CEU8081293082</td><td>2016</td></tr>",
                            "<tr><td>44721</td><td>CEU8081119282</td><td>2016</td></tr>",
                            "<tr><td>45079</td><td>CEU4348421082</td><td>2016</td></tr>",
                            "<tr><td>45158</td><td>CEU3133441982</td><td>2016</td></tr>",
                            "<tr><td>45370</td><td>CEU3232560082</td><td>2016</td></tr>",
                            "<tr><td>45407</td><td>CEU2023833082</td><td>2016</td></tr>",
                            "<tr><td>45438</td><td>CEU3231400082</td><td>2016</td></tr>",
                            "<tr><td>46289</td><td>CEU5552229182</td><td>2016</td></tr>",
                            "<tr><td>46866</td><td>CEU6054182082</td><td>2016</td></tr>",
                            "<tr><td>46869</td><td>CEU3133351482</td><td>2016</td></tr>",
                            "<tr><td>46991</td><td>CEU5553249082</td><td>2016</td></tr>",
                            "<tr><td>47363</td><td>CEU2023839082</td><td>2016</td></tr>",
                            "<tr><td>47454</td><td>CEU3133272082</td><td>2016</td></tr>",
                            "<tr><td>47547</td><td>CEU3132120082</td><td>2016</td></tr>",
                            "<tr><td>47751</td><td>CEU3231142082</td><td>2016</td></tr>",
                            "<tr><td>47812</td><td>CEU6562131082</td><td>2016</td></tr>",
                            "<tr><td>48471</td><td>CEU3231141082</td><td>2016</td></tr>",
                            "<tr><td>48491</td><td>CEU4245321082</td><td>2016</td></tr>",
                            "<tr><td>48803</td><td>CEU3133911382</td><td>2016</td></tr>",
                            "<tr><td>49547</td><td>CEU3231500082</td><td>2016</td></tr>",
                            "<tr><td>49972</td><td>CEU2023813082</td><td>2016</td></tr>",
                            "<tr><td>50637</td><td>CEU6054143082</td><td>2016</td></tr>",
                            "<tr><td>50759</td><td>CEU3133291082</td><td>2016</td></tr>",
                            "<tr><td>50770</td><td>CEU4244413082</td><td>2016</td></tr>",
                            "<tr><td>50799</td><td>CEU3133360082</td><td>2016</td></tr>",
                            "<tr><td>50805</td><td>CEU8081219082</td><td>2016</td></tr>",
                            "<tr><td>51242</td><td>CEU4244830082</td><td>2016</td></tr>",
                            "<tr><td>51299</td><td>CEU4245330082</td><td>2016</td></tr>",
                            "<tr><td>51359</td><td>CEU4348840082</td><td>2016</td></tr>",
                            "<tr><td>51828</td><td>CEU3232611082</td><td>2016</td></tr>",
                            "<tr><td>52266</td><td>CEU3232221182</td><td>2016</td></tr>",
                            "<tr><td>52532</td><td>CEU6054189082</td><td>2016</td></tr>",
                            "<tr><td>52843</td><td>CEU6056151082</td><td>2016</td></tr>",
                            "<tr><td>53087</td><td>CEU3132191082</td><td>2016</td></tr>",
                            "<tr><td>53118</td><td>CEU6562151282</td><td>2016</td></tr>",
                            "<tr><td>53143</td><td>CEU4244229082</td><td>2016</td></tr>",
                            "<tr><td>53192</td><td>CEU7072233082</td><td>2016</td></tr>",
                            "<tr><td>53568</td><td>CEU6054119082</td><td>2016</td></tr>",
                            "<tr><td>53975</td><td>CEU3133631082</td><td>2016</td></tr>",
                            "<tr><td>54415</td><td>CEU4142374082</td><td>2016</td></tr>",
                            "<tr><td>55233</td><td>CEU3133231282</td><td>2016</td></tr>",
                            "<tr><td>55264</td><td>CEU4142371082</td><td>2016</td></tr>",
                            "<tr><td>55505</td><td>CEU4142393082</td><td>2016</td></tr>",
                            "<tr><td>56354</td><td>CEU1021210082</td><td>2016</td></tr>",
                            "<tr><td>56504</td><td>CEU6562132082</td><td>2016</td></tr>",
                            "<tr><td>56648</td><td>CEU4142448082</td><td>2016</td></tr>",
                            "<tr><td>57144</td><td>CEU3132110082</td><td>2016</td></tr>",
                            "<tr><td>57433</td><td>CEU5553241082</td><td>2016</td></tr>",
                            "<tr><td>57452</td><td>CEU7071200082</td><td>2016</td></tr>",
                            "<tr><td>58111</td><td>CEU3231300082</td><td>2016</td></tr>",
                            "<tr><td>58218</td><td>CEU4142384082</td><td>2016</td></tr>",
                            "<tr><td>58409</td><td>CEU7071320082</td><td>2016</td></tr>",
                            "<tr><td>58544</td><td>CEU4244820082</td><td>2016</td></tr>",
                            "<tr><td>58782</td><td>CEU8081233082</td><td>2016</td></tr>",
                            "<tr><td>59221</td><td>CEU8081220082</td><td>2016</td></tr>",
                            "<tr><td>59788</td><td>CEU3133711082</td><td>2016</td></tr>",
                            "<tr><td>60006</td><td>CEU7071130082</td><td>2016</td></tr>",
                            "<tr><td>61528</td><td>CEU3133232282</td><td>2016</td></tr>",
                            "<tr><td>61657</td><td>CEU3133330082</td><td>2016</td></tr>",
                            "<tr><td>61747</td><td>CEU3132739082</td><td>2016</td></tr>",
                            "<tr><td>62511</td><td>CEU4244812082</td><td>2016</td></tr>",
                            "<tr><td>62579</td><td>CEU5051511082</td><td>2016</td></tr>",
                            "<tr><td>62790</td><td>CEU3133320082</td><td>2016</td></tr>",
                            "<tr><td>63117</td><td>CEU3133712082</td><td>2016</td></tr>",
                            "<tr><td>63844</td><td>CEU3133210082</td><td>2016</td></tr>",
                            "<tr><td>64096</td><td>CEU4142320082</td><td>2016</td></tr>",
                            "<tr><td>64173</td><td>CEU4244520082</td><td>2016</td></tr>",
                            "<tr><td>64237</td><td>CEU8081392082</td><td>2016</td></tr>",
                            "<tr><td>65252</td><td>CEU4142491082</td><td>2016</td></tr>",
                            "<tr><td>65422</td><td>CEU3133637082</td><td>2016</td></tr>",
                            "<tr><td>65635</td><td>CEU3232520082</td><td>2016</td></tr>",
                            "<tr><td>65816</td><td>CEU7071120082</td><td>2016</td></tr>",
                            "<tr><td>66010</td><td>CEU8081120082</td><td>2016</td></tr>",
                            "<tr><td>66605</td><td>CEU6054191082</td><td>2016</td></tr>",
                            "<tr><td>66672</td><td>CEU6054137082</td><td>2016</td></tr>",
                            "<tr><td>66891</td><td>CEU6056171082</td><td>2016</td></tr>",
                            "<tr><td>67190</td><td>CEU4244420082</td><td>2016</td></tr>",
                            "<tr><td>67253</td><td>CEU3133240082</td><td>2016</td></tr>",
                            "<tr><td>67744</td><td>CEU5552212082</td><td>2016</td></tr>",
                            "<tr><td>68134</td><td>CEU3133999082</td><td>2016</td></tr>",
                            "<tr><td>68546</td><td>CEU6562420082</td><td>2016</td></tr>",
                            "<tr><td>68573</td><td>CEU4142381082</td><td>2016</td></tr>",
                            "<tr><td>68608</td><td>CEU6055111282</td><td>2016</td></tr>",
                            "<tr><td>68679</td><td>CEU7071110082</td><td>2016</td></tr>",
                            "<tr><td>68742</td><td>CEU4142372082</td><td>2016</td></tr>",
                            "<tr><td>68749</td><td>CEU4142382082</td><td>2016</td></tr>",
                            "<tr><td>71112</td><td>CEU4245411382</td><td>2016</td></tr>",
                            "<tr><td>72005</td><td>CEU6562390082</td><td>2016</td></tr>",
                            "<tr><td>72140</td><td>CEU6056144082</td><td>2016</td></tr>",
                            "<tr><td>72542</td><td>CEU4348600082</td><td>2016</td></tr>",
                            "<tr><td>72863</td><td>CEU8081399082</td><td>2016</td></tr>",
                            "<tr><td>73738</td><td>CEU3132732082</td><td>2016</td></tr>",
                            "<tr><td>74157</td><td>CEU3133340082</td><td>2016</td></tr>",
                            "<tr><td>74369</td><td>CEU4142342082</td><td>2016</td></tr>",
                            "<tr><td>74824</td><td>CEU3133590082</td><td>2016</td></tr>",
                            "<tr><td>75802</td><td>CEU3133280082</td><td>2016</td></tr>",
                            "<tr><td>75975</td><td>CEU4142470082</td><td>2016</td></tr>",
                            "<tr><td>76120</td><td>CEU8081119082</td><td>2016</td></tr>",
                            "<tr><td>76136</td><td>CEU4142331082</td><td>2016</td></tr>",
                            "<tr><td>76955</td><td>CEU4244120082</td><td>2016</td></tr>",
                            "<tr><td>77496</td><td>CEU6562139082</td><td>2016</td></tr>",
                            "<tr><td>77660</td><td>CEU3133530082</td><td>2016</td></tr>",
                            "<tr><td>78259</td><td>CEU3133150082</td><td>2016</td></tr>",
                            "<tr><td>78369</td><td>CEU8081391082</td><td>2016</td></tr>",
                            "<tr><td>78630</td><td>CEU5553112082</td><td>2016</td></tr>",
                            "<tr><td>79227</td><td>CEU3232620082</td><td>2016</td></tr>",
                            "<tr><td>79672</td><td>CEU3133635082</td><td>2016</td></tr>",
                            "<tr><td>80401</td><td>CEU6562411082</td><td>2016</td></tr>",
                            "<tr><td>80800</td><td>CEU4142311082</td><td>2016</td></tr>",
                            "<tr><td>81679</td><td>CEU4142410082</td><td>2016</td></tr>",
                            "<tr><td>82084</td><td>CEU4244112082</td><td>2016</td></tr>",
                            "<tr><td>82313</td><td>CEU5051112082</td><td>2016</td></tr>",
                            "<tr><td>82318</td><td>CEU2023812082</td><td>2016</td></tr>",
                            "<tr><td>82455</td><td>CEU4244814082</td><td>2016</td></tr>",
                            "<tr><td>83469</td><td>CEU4245320082</td><td>2016</td></tr>",
                            "<tr><td>83793</td><td>CEU8081321182</td><td>2016</td></tr>",
                            "<tr><td>84695</td><td>CEU2023835082</td><td>2016</td></tr>",
                            "<tr><td>86201</td><td>CEU8081331982</td><td>2016</td></tr>",
                            "<tr><td>86214</td><td>CEU4142349082</td><td>2016</td></tr>",
                            "<tr><td>86554</td><td>CEU8081340082</td><td>2016</td></tr>",
                            "<tr><td>86976</td><td>CEU6056220082</td><td>2016</td></tr>",
                            "<tr><td>87420</td><td>CEU3232221082</td><td>2016</td></tr>",
                            "<tr><td>87460</td><td>CEU8081393082</td><td>2016</td></tr>",
                            "<tr><td>87708</td><td>CEU4244132082</td><td>2016</td></tr>",
                            "<tr><td>88833</td><td>CEU3133620082</td><td>2016</td></tr>",
                            "<tr><td>89217</td><td>CEU6562199082</td><td>2016</td></tr>",
                            "<tr><td>89237</td><td>CEU4348830082</td><td>2016</td></tr>",
                            "<tr><td>90203</td><td>CEU4142430082</td><td>2016</td></tr>",
                            "<tr><td>90923</td><td>CEU4348540082</td><td>2016</td></tr>",
                            "<tr><td>91439</td><td>CEU4142350082</td><td>2016</td></tr>",
                            "<tr><td>91784</td><td>CEU6056199082</td><td>2016</td></tr>",
                            "<tr><td>92031</td><td>CEU4245111082</td><td>2016</td></tr>",
                            "<tr><td>92648</td><td>CEU6056162082</td><td>2016</td></tr>",
                            "<tr><td>93391</td><td>CEU7072240082</td><td>2016</td></tr>",
                            "<tr><td>93428</td><td>CEU6056120082</td><td>2016</td></tr>",
                            "<tr><td>93523</td><td>CEU3232210082</td><td>2016</td></tr>",
                            "<tr><td>93536</td><td>CEU4244220082</td><td>2016</td></tr>",
                            "<tr><td>93947</td><td>CEU3133639082</td><td>2016</td></tr>",
                            "<tr><td>94475</td><td>CEU5051111082</td><td>2016</td></tr>",
                            "<tr><td>94480</td><td>CEU6054161482</td><td>2016</td></tr>",
                            "<tr><td>95669</td><td>CEU3231150082</td><td>2016</td></tr>",
                            "<tr><td>95953</td><td>CEU4142460082</td><td>2016</td></tr>",
                            "<tr><td>96132</td><td>CEU2023790082</td><td>2016</td></tr>",
                            "<tr><td>96199</td><td>CEU3231140082</td><td>2016</td></tr>",
                            "<tr><td>96780</td><td>CEU3133231082</td><td>2016</td></tr>",
                            "<tr><td>100221</td><td>CEU6562149382</td><td>2016</td></tr>",
                            "<tr><td>100469</td><td>CEU6056290082</td><td>2016</td></tr>",
                            "<tr><td>101409</td><td>CEU6054140082</td><td>2016</td></tr>",
                            "<tr><td>102352</td><td>CEU6562191082</td><td>2016</td></tr>",
                            "<tr><td>102684</td><td>CEU8081290082</td><td>2016</td></tr>",
                            "<tr><td>103037</td><td>CEU5553131282</td><td>2016</td></tr>",
                            "<tr><td>103512</td><td>CEU4142312082</td><td>2016</td></tr>",
                            "<tr><td>104405</td><td>CEU5553240082</td><td>2016</td></tr>",
                            "<tr><td>106283</td><td>CEU6562322082</td><td>2016</td></tr>",
                            "<tr><td>107078</td><td>CEU4348810082</td><td>2016</td></tr>",
                            "<tr><td>109237</td><td>CEU5552232082</td><td>2016</td></tr>",
                            "<tr><td>110190</td><td>CEU4245390082</td><td>2016</td></tr>",
                            "<tr><td>110472</td><td>CEU8081330082</td><td>2016</td></tr>",
                            "<tr><td>110925</td><td>CEU8081230082</td><td>2016</td></tr>",
                            "<tr><td>112413</td><td>CEU3132190082</td><td>2016</td></tr>",
                            "<tr><td>112627</td><td>CEU3133299082</td><td>2016</td></tr>",
                            "<tr><td>112990</td><td>CEU3133232082</td><td>2016</td></tr>",
                            "<tr><td>113233</td><td>CEU2023814082</td><td>2016</td></tr>",
                            "<tr><td>113524</td><td>CEU6056210082</td><td>2016</td></tr>",
                            "<tr><td>113582</td><td>CEU3133441382</td><td>2016</td></tr>",
                            "<tr><td>114024</td><td>CEU3232510082</td><td>2016</td></tr>",
                            "<tr><td>114794</td><td>CEU3231161582</td><td>2016</td></tr>",
                            "<tr><td>115927</td><td>CEU3133310082</td><td>2016</td></tr>",
                            "<tr><td>116861</td><td>CEU7071391082</td><td>2016</td></tr>",
                            "<tr><td>117434</td><td>CEU4348423082</td><td>2016</td></tr>",
                            "<tr><td>118627</td><td>CEU3133350082</td><td>2016</td></tr>",
                            "<tr><td>119547</td><td>CEU6562430082</td><td>2016</td></tr>",
                            "<tr><td>120277</td><td>CEU3232900082</td><td>2016</td></tr>",
                            "<tr><td>120867</td><td>CEU6054138082</td><td>2016</td></tr>",
                            "<tr><td>122848</td><td>CEU6562142082</td><td>2016</td></tr>",
                            "<tr><td>122885</td><td>CEU3133710082</td><td>2016</td></tr>",
                            "<tr><td>123056</td><td>CEU4244210082</td><td>2016</td></tr>",
                            "<tr><td>123339</td><td>CEU6054121482</td><td>2016</td></tr>",
                            "<tr><td>123751</td><td>CEU2023816082</td><td>2016</td></tr>",
                            "<tr><td>125255</td><td>CEU3133990082</td><td>2016</td></tr>",
                            "<tr><td>125530</td><td>CEU2023832082</td><td>2016</td></tr>",
                            "<tr><td>125835</td><td>CEU4422120082</td><td>2016</td></tr>",
                            "<tr><td>126694</td><td>CEU4142369082</td><td>2016</td></tr>",
                            "<tr><td>128226</td><td>CEU8081320082</td><td>2016</td></tr>",
                            "<tr><td>128759</td><td>CEU4142361082</td><td>2016</td></tr>",
                            "<tr><td>128898</td><td>CEU7071394082</td><td>2016</td></tr>",
                            "<tr><td>129211</td><td>CEU4142480082</td><td>2016</td></tr>",
                            "<tr><td>129656</td><td>CEU2023829082</td><td>2016</td></tr>",
                            "<tr><td>130030</td><td>CEU3232400082</td><td>2016</td></tr>",
                            "<tr><td>130433</td><td>CEU4422111282</td><td>2016</td></tr>",
                            "<tr><td>131508</td><td>CEU6562149882</td><td>2016</td></tr>",
                            "<tr><td>132291</td><td>CEU6056150082</td><td>2016</td></tr>",
                            "<tr><td>135516</td><td>CEU3132730082</td><td>2016</td></tr>",
                            "<tr><td>136208</td><td>CEU1021100082</td><td>2016</td></tr>",
                            "<tr><td>136762</td><td>CEU3231180082</td><td>2016</td></tr>",
                            "<tr><td>138050</td><td>CEU4348850082</td><td>2016</td></tr>",
                            "<tr><td>142200</td><td>CEU6054199082</td><td>2016</td></tr>",
                            "<tr><td>144672</td><td>CEU7072251582</td><td>2016</td></tr>",
                            "<tr><td>144928</td><td>CEU6562331282</td><td>2016</td></tr>",
                            "<tr><td>145893</td><td>CEU2023711082</td><td>2016</td></tr>",
                            "<tr><td>146025</td><td>CEU2023621082</td><td>2016</td></tr>",
                            "<tr><td>148239</td><td>CEU3133390082</td><td>2016</td></tr>",
                            "<tr><td>148884</td><td>CEU5552429282</td><td>2016</td></tr>",
                            "<tr><td>149779</td><td>CEU8081130082</td><td>2016</td></tr>",
                            "<tr><td>151877</td><td>CEU5552219082</td><td>2016</td></tr>",
                            "<tr><td>151928</td><td>CEU2023712082</td><td>2016</td></tr>",
                            "<tr><td>152168</td><td>CEU6562321082</td><td>2016</td></tr>",
                            "<tr><td>153942</td><td>CEU6562151182</td><td>2016</td></tr>",
                            "<tr><td>154320</td><td>CEU4142330082</td><td>2016</td></tr>",
                            "<tr><td>155150</td><td>CEU4142420082</td><td>2016</td></tr>",
                            "<tr><td>155732</td><td>CEU5553120082</td><td>2016</td></tr>",
                            "<tr><td>157976</td><td>CEU7072231082</td><td>2016</td></tr>",
                            "<tr><td>160624</td><td>CEU4142345082</td><td>2016</td></tr>",
                            "<tr><td>161009</td><td>CEU3232540082</td><td>2016</td></tr>",
                            "<tr><td>161443</td><td>CEU3232220082</td><td>2016</td></tr>",
                            "<tr><td>161603</td><td>CEU6056190082</td><td>2016</td></tr>",
                            "<tr><td>161611</td><td>CEU3133910082</td><td>2016</td></tr>",
                            "<tr><td>162382</td><td>CEU6054171182</td><td>2016</td></tr>",
                            "<tr><td>162599</td><td>CEU4245110082</td><td>2016</td></tr>",
                            "<tr><td>163031</td><td>CEU3232619082</td><td>2016</td></tr>",
                            "<tr><td>163356</td><td>CEU3133290082</td><td>2016</td></tr>",
                            "<tr><td>164344</td><td>CEU6054131082</td><td>2016</td></tr>",
                            "<tr><td>165395</td><td>CEU6054161382</td><td>2016</td></tr>",
                            "<tr><td>166661</td><td>CEU1021200082</td><td>2016</td></tr>",
                            "<tr><td>167669</td><td>CEU6054194082</td><td>2016</td></tr>",
                            "<tr><td>167710</td><td>CEU2023713082</td><td>2016</td></tr>",
                            "<tr><td>167822</td><td>CEU4348422082</td><td>2016</td></tr>",
                            "<tr><td>169359</td><td>CEU4245411282</td><td>2016</td></tr>",
                            "<tr><td>169762</td><td>CEU5553111082</td><td>2016</td></tr>",
                            "<tr><td>171123</td><td>CEU2023811082</td><td>2016</td></tr>",
                            "<tr><td>172898</td><td>CEU8081112082</td><td>2016</td></tr>",
                            "<tr><td>174430</td><td>CEU4142390082</td><td>2016</td></tr>",
                            "<tr><td>175489</td><td>CEU2023611882</td><td>2016</td></tr>",
                            "<tr><td>176329</td><td>CEU4244131082</td><td>2016</td></tr>",
                            "<tr><td>178087</td><td>CEU3133271082</td><td>2016</td></tr>",
                            "<tr><td>178383</td><td>CEU4142370082</td><td>2016</td></tr>",
                            "<tr><td>179007</td><td>CEU4142490082</td><td>2016</td></tr>",
                            "<tr><td>180804</td><td>CEU1021311282</td><td>2016</td></tr>",
                            "<tr><td>182244</td><td>CEU4142441082</td><td>2016</td></tr>",
                            "<tr><td>184577</td><td>CEU4245100082</td><td>2016</td></tr>",
                            "<tr><td>185804</td><td>CEU4348411082</td><td>2016</td></tr>",
                            "<tr><td>186562</td><td>CEU3133641182</td><td>2016</td></tr>",
                            "<tr><td>187044</td><td>CEU5552393082</td><td>2016</td></tr>",
                            "<tr><td>187547</td><td>CEU6562419082</td><td>2016</td></tr>",
                            "<tr><td>188826</td><td>CEU6054181082</td><td>2016</td></tr>",
                            "<tr><td>189758</td><td>CEU3133440082</td><td>2016</td></tr>",
                            "<tr><td>191547</td><td>CEU6562190082</td><td>2016</td></tr>",
                            "<tr><td>191903</td><td>CEU5051200082</td><td>2016</td></tr>",
                            "<tr><td>192281</td><td>CEU3133700082</td><td>2016</td></tr>",
                            "<tr><td>193892</td><td>CEU8081111182</td><td>2016</td></tr>",
                            "<tr><td>194641</td><td>CEU8081211082</td><td>2016</td></tr>",
                            "<tr><td>195363</td><td>CEU6056133082</td><td>2016</td></tr>",
                            "<tr><td>198619</td><td>CEU2023831082</td><td>2016</td></tr>",
                            "<tr><td>203678</td><td>CEU2023611582</td><td>2016</td></tr>",
                            "<tr><td>205411</td><td>CEU6562331182</td><td>2016</td></tr>",
                            "<tr><td>207122</td><td>CEU6562150082</td><td>2016</td></tr>",
                            "<tr><td>208642</td><td>CEU4348412282</td><td>2016</td></tr>",
                            "<tr><td>209767</td><td>CEU3133230082</td><td>2016</td></tr>",
                            "<tr><td>210682</td><td>CEU5051500082</td><td>2016</td></tr>",
                            "<tr><td>211102</td><td>CEU7072230082</td><td>2016</td></tr>",
                            "<tr><td>211550</td><td>CEU4422111082</td><td>2016</td></tr>",
                            "<tr><td>212288</td><td>CEU4244810082</td><td>2016</td></tr>",
                            "<tr><td>213174</td><td>CEU4142310082</td><td>2016</td></tr>",
                            "<tr><td>214261</td><td>CEU3133500082</td><td>2016</td></tr>",
                            "<tr><td>214996</td><td>CEU6056131082</td><td>2016</td></tr>",
                            "<tr><td>216581</td><td>CEU4244200082</td><td>2016</td></tr>",
                            "<tr><td>217113</td><td>CEU3132100082</td><td>2016</td></tr>",
                            "<tr><td>218574</td><td>CEU5553131182</td><td>2016</td></tr>",
                            "<tr><td>218877</td><td>CEU3133610082</td><td>2016</td></tr>",
                            "<tr><td>220498</td><td>CEU2023899082</td><td>2016</td></tr>",
                            "<tr><td>221085</td><td>CEU6562134082</td><td>2016</td></tr>",
                            "<tr><td>222680</td><td>CEU7071100082</td><td>2016</td></tr>",
                            "<tr><td>224539</td><td>CEU5552230082</td><td>2016</td></tr>",
                            "<tr><td>224916</td><td>CEU8081111082</td><td>2016</td></tr>",
                            "<tr><td>225614</td><td>CEU3133270082</td><td>2016</td></tr>",
                            "<tr><td>226787</td><td>CEU3232300082</td><td>2016</td></tr>",
                            "<tr><td>228525</td><td>CEU5051900082</td><td>2016</td></tr>",
                            "<tr><td>228953</td><td>CEU6056142082</td><td>2016</td></tr>",
                            "<tr><td>230390</td><td>CEU5552392082</td><td>2016</td></tr>",
                            "<tr><td>233767</td><td>CEU4244711082</td><td>2016</td></tr>",
                            "<tr><td>233772</td><td>CEU4142343082</td><td>2016</td></tr>",
                            "<tr><td>235422</td><td>CEU5552229282</td><td>2016</td></tr>",
                            "<tr><td>240545</td><td>CEU4245410082</td><td>2016</td></tr>",
                            "<tr><td>242072</td><td>CEU1021300082</td><td>2016</td></tr>",
                            "<tr><td>245476</td><td>CEU8081210082</td><td>2016</td></tr>",
                            "<tr><td>249204</td><td>CEU4244411082</td><td>2016</td></tr>",
                            "<tr><td>249472</td><td>CEU4348500082</td><td>2016</td></tr>",
                            "<tr><td>251883</td><td>CEU5051110082</td><td>2016</td></tr>",
                            "<tr><td>254922</td><td>CEU3232200082</td><td>2016</td></tr>",
                            "<tr><td>255121</td><td>CEU2023891082</td><td>2016</td></tr>",
                            "<tr><td>255566</td><td>CEU4142360082</td><td>2016</td></tr>",
                            "<tr><td>255696</td><td>CEU4142383082</td><td>2016</td></tr>",
                            "<tr><td>258453</td><td>CEU6562320082</td><td>2016</td></tr>",
                            "<tr><td>260945</td><td>CEU4245300082</td><td>2016</td></tr>",
                            "<tr><td>261768</td><td>CEU3132700082</td><td>2016</td></tr>",
                            "<tr><td>263150</td><td>CEU3231160082</td><td>2016</td></tr>",
                            "<tr><td>264134</td><td>CEU4244130082</td><td>2016</td></tr>",
                            "<tr><td>270969</td><td>CEU4244700082</td><td>2016</td></tr>",
                            "<tr><td>273652</td><td>CEU3133450082</td><td>2016</td></tr>",
                            "<tr><td>274236</td><td>CEU5552429082</td><td>2016</td></tr>",
                            "<tr><td>280177</td><td>CEU5553110082</td><td>2016</td></tr>",
                            "<tr><td>280893</td><td>CEU5051800082</td><td>2016</td></tr>",
                            "<tr><td>286958</td><td>CEU3133900082</td><td>2016</td></tr>",
                            "<tr><td>290056</td><td>CEU5553200082</td><td>2016</td></tr>",
                            "<tr><td>295801</td><td>CEU4422112082</td><td>2016</td></tr>",
                            "<tr><td>295887</td><td>CEU5552312082</td><td>2016</td></tr>",
                            "<tr><td>296875</td><td>CEU3133100082</td><td>2016</td></tr>",
                            "<tr><td>300356</td><td>CEU4244611082</td><td>2016</td></tr>",
                            "<tr><td>301071</td><td>CEU6056200082</td><td>2016</td></tr>",
                            "<tr><td>301410</td><td>CEU2023730082</td><td>2016</td></tr>",
                            "<tr><td>303047</td><td>CEU8081390082</td><td>2016</td></tr>",
                            "<tr><td>309142</td><td>CEU3232610082</td><td>2016</td></tr>",
                            "<tr><td>310388</td><td>CEU6562440082</td><td>2016</td></tr>",
                            "<tr><td>311547</td><td>CEU6054121182</td><td>2016</td></tr>",
                            "<tr><td>320401</td><td>CEU4244314282</td><td>2016</td></tr>",
                            "<tr><td>321618</td><td>CEU5553131082</td><td>2016</td></tr>",
                            "<tr><td>322193</td><td>CEU4244800082</td><td>2016</td></tr>",
                            "<tr><td>326305</td><td>CEU6056172082</td><td>2016</td></tr>",
                            "<tr><td>330312</td><td>CEU4348420082</td><td>2016</td></tr>",
                            "<tr><td>338184</td><td>CEU6056161082</td><td>2016</td></tr>",
                            "<tr><td>340631</td><td>CEU4349200082</td><td>2016</td></tr>",
                            "<tr><td>344655</td><td>CEU4245400082</td><td>2016</td></tr>",
                            "<tr><td>345050</td><td>CEU4244300082</td><td>2016</td></tr>",
                            "<tr><td>350159</td><td>CEU6562330082</td><td>2016</td></tr>",
                            "<tr><td>375318</td><td>CEU6056110082</td><td>2016</td></tr>",
                            "<tr><td>379149</td><td>CEU6056173082</td><td>2016</td></tr>",
                            "<tr><td>387460</td><td>CEU5553130082</td><td>2016</td></tr>",
                            "<tr><td>388400</td><td>CEU3232600082</td><td>2016</td></tr>",
                            "<tr><td>396526</td><td>CEU6054190082</td><td>2016</td></tr>",
                            "<tr><td>399271</td><td>CEU6054180082</td><td>2016</td></tr>",
                            "<tr><td>401130</td><td>CEU3133630082</td><td>2016</td></tr>",
                            "<tr><td>409555</td><td>CEU4348412182</td><td>2016</td></tr>",
                            "<tr><td>414259</td><td>CEU4244600082</td><td>2016</td></tr>",
                            "<tr><td>415914</td><td>CEU2023610082</td><td>2016</td></tr>",
                            "<tr><td>417464</td><td>CEU4348100082</td><td>2016</td></tr>",
                            "<tr><td>424026</td><td>CEU4348800082</td><td>2016</td></tr>",
                            "<tr><td>430842</td><td>CEU6056160082</td><td>2016</td></tr>",
                            "<tr><td>434934</td><td>CEU2023622082</td><td>2016</td></tr>",
                            "<tr><td>437232</td><td>CEU3133640082</td><td>2016</td></tr>",
                            "<tr><td>438140</td><td>CEU6056140082</td><td>2016</td></tr>",
                            "<tr><td>438193</td><td>CEU6562130082</td><td>2016</td></tr>",
                            "<tr><td>449519</td><td>CEU7071300082</td><td>2016</td></tr>",
                            "<tr><td>452089</td><td>CEU4244410082</td><td>2016</td></tr>",
                            "<tr><td>465536</td><td>CEU2023710082</td><td>2016</td></tr>",
                            "<tr><td>471210</td><td>CEU5051120082</td><td>2016</td></tr>",
                            "<tr><td>471424</td><td>CEU4349311082</td><td>2016</td></tr>",
                            "<tr><td>473909</td><td>CEU8081110082</td><td>2016</td></tr>",
                            "<tr><td>475594</td><td>CEU2023890082</td><td>2016</td></tr>",
                            "<tr><td>484782</td><td>CEU5552220082</td><td>2016</td></tr>",
                            "<tr><td>489986</td><td>CEU3232500082</td><td>2016</td></tr>",
                            "<tr><td>490785</td><td>CEU6562149082</td><td>2016</td></tr>",
                            "<tr><td>493257</td><td>CEU4142440082</td><td>2016</td></tr>",
                            "<tr><td>507256</td><td>CEU4422110082</td><td>2016</td></tr>",
                            "<tr><td>508019</td><td>CEU4142380082</td><td>2016</td></tr>",
                            "<tr><td>512211</td><td>CEU5552390082</td><td>2016</td></tr>",
                            "<tr><td>518084</td><td>CEU8081200082</td><td>2016</td></tr>",
                            "<tr><td>519450</td><td>CEU4244400082</td><td>2016</td></tr>",
                            "<tr><td>530524</td><td>CEU6562412082</td><td>2016</td></tr>",
                            "<tr><td>534139</td><td>CEU6054171282</td><td>2016</td></tr>",
                            "<tr><td>537892</td><td>CEU6562120082</td><td>2016</td></tr>",
                            "<tr><td>541331</td><td>CEU2023830082</td><td>2016</td></tr>",
                            "<tr><td>545093</td><td>CEU1021000082</td><td>2016</td></tr>",
                            "<tr><td>546350</td><td>CEU4349300082</td><td>2016</td></tr>",
                            "<tr><td>552231</td><td>CEU5552320082</td><td>2016</td></tr>",
                            "<tr><td>554848</td><td>CEU4142340082</td><td>2016</td></tr>",
                            "<tr><td>558286</td><td>CEU6054161182</td><td>2016</td></tr>",
                            "<tr><td>562561</td><td>CEU7072111082</td><td>2016</td></tr>",
                            "<tr><td>567168</td><td>CEU5051710082</td><td>2016</td></tr>",
                            "<tr><td>570163</td><td>CEU5552421082</td><td>2016</td></tr>",
                            "<tr><td>580897</td><td>CEU2023620082</td><td>2016</td></tr>",
                            "<tr><td>582473</td><td>CEU1000000082</td><td>2016</td></tr>",
                            "<tr><td>595307</td><td>CEU3133400082</td><td>2016</td></tr>",
                            "<tr><td>613881</td><td>CEU6562140082</td><td>2016</td></tr>",
                            "<tr><td>618396</td><td>CEU4348412082</td><td>2016</td></tr>",
                            "<tr><td>620945</td><td>CEU6054120082</td><td>2016</td></tr>",
                            "<tr><td>632175</td><td>CEU3133300082</td><td>2016</td></tr>",
                            "<tr><td>635822</td><td>CEU2023810082</td><td>2016</td></tr>",
                            "<tr><td>639287</td><td>CEU6562160082</td><td>2016</td></tr>",
                            "<tr><td>670156</td><td>CEU4422000082</td><td>2016</td></tr>",
                            "<tr><td>679537</td><td>CEU7072110082</td><td>2016</td></tr>",
                            "<tr><td>689602</td><td>CEU5552412082</td><td>2016</td></tr>",
                            "<tr><td>696589</td><td>CEU6054171082</td><td>2016</td></tr>",
                            "<tr><td>698782</td><td>CEU7072100082</td><td>2016</td></tr>",
                            "<tr><td>708655</td><td>CEU3133600182</td><td>2016</td></tr>",
                            "<tr><td>713870</td><td>CEU5552211082</td><td>2016</td></tr>",
                            "<tr><td>722785</td><td>CEU5051100082</td><td>2016</td></tr>",
                            "<tr><td>724275</td><td>CEU8081100082</td><td>2016</td></tr>",
                            "<tr><td>729764</td><td>CEU7071000082</td><td>2016</td></tr>",
                            "<tr><td>736561</td><td>CEU6054170082</td><td>2016</td></tr>",
                            "<tr><td>737044</td><td>CEU4244111082</td><td>2016</td></tr>",
                            "<tr><td>751898</td><td>CEU5051700082</td><td>2016</td></tr>",
                            "<tr><td>757551</td><td>CEU5552411082</td><td>2016</td></tr>",
                            "<tr><td>772009</td><td>CEU6562310082</td><td>2016</td></tr>",
                            "<tr><td>780897</td><td>CEU2023821082</td><td>2016</td></tr>",
                            "<tr><td>781062</td><td>CEU2023822082</td><td>2016</td></tr>",
                            "<tr><td>798216</td><td>CEU6562410082</td><td>2016</td></tr>",
                            "<tr><td>803825</td><td>CEU4348410082</td><td>2016</td></tr>",
                            "<tr><td>807455</td><td>CEU4244511082</td><td>2016</td></tr>",
                            "<tr><td>819316</td><td>CEU4244110082</td><td>2016</td></tr>",
                            "<tr><td>821755</td><td>CEU4142512082</td><td>2016</td></tr>",
                            "<tr><td>822939</td><td>CEU5553100082</td><td>2016</td></tr>",
                            "<tr><td>827438</td><td>CEU3231100082</td><td>2016</td></tr>",
                            "<tr><td>827493</td><td>CEU6056170082</td><td>2016</td></tr>",
                            "<tr><td>844118</td><td>CEU5552420082</td><td>2016</td></tr>",
                            "<tr><td>844616</td><td>CEU4142500082</td><td>2016</td></tr>",
                            "<tr><td>848922</td><td>CEU4244510082</td><td>2016</td></tr>",
                            "<tr><td>859493</td><td>CEU3133200082</td><td>2016</td></tr>",
                            "<tr><td>876892</td><td>CEU2023700082</td><td>2016</td></tr>",
                            "<tr><td>920588</td><td>CEU7072251382</td><td>2016</td></tr>",
                            "<tr><td>933434</td><td>CEU5552210082</td><td>2016</td></tr>",
                            "<tr><td>953193</td><td>CEU4244500082</td><td>2016</td></tr>",
                            "<tr><td>982160</td><td>CEU6054161082</td><td>2016</td></tr>",
                            "<tr><td>989795</td><td>CEU6054111082</td><td>2016</td></tr>",
                            "<tr><td>997335</td><td>CEU2023600082</td><td>2016</td></tr>",
                            "<tr><td>1017174</td><td>CEU4245200082</td><td>2016</td></tr>",
                            "<tr><td>1029479</td><td>CEU6054134082</td><td>2016</td></tr>",
                            "<tr><td>1043534</td><td>CEU6054110082</td><td>2016</td></tr>",
                            "<tr><td>1064771</td><td>CEU5552300082</td><td>2016</td></tr>",
                            "<tr><td>1134303</td><td>CEU4348400082</td><td>2016</td></tr>",
                            "<tr><td>1135970</td><td>CEU6054151182</td><td>2016</td></tr>",
                            "<tr><td>1160417</td><td>CEU4244100082</td><td>2016</td></tr>",
                            "<tr><td>1227501</td><td>CEU6054151282</td><td>2016</td></tr>",
                            "<tr><td>1251085</td><td>CEU6054160082</td><td>2016</td></tr>",
                            "<tr><td>1267134</td><td>CEU3133600082</td><td>2016</td></tr>",
                            "<tr><td>1296410</td><td>CEU6562400082</td><td>2016</td></tr>",
                            "<tr><td>1343871</td><td>CEU4142400082</td><td>2016</td></tr>",
                            "<tr><td>1405877</td><td>CEU6054130082</td><td>2016</td></tr>",
                            "<tr><td>1452489</td><td>CEU6562300082</td><td>2016</td></tr>",
                            "<tr><td>1478929</td><td>CEU5552410082</td><td>2016</td></tr>",
                            "<tr><td>1513209</td><td>CEU6055111482</td><td>2016</td></tr>",
                            "<tr><td>1535866</td><td>CEU6056132082</td><td>2016</td></tr>",
                            "<tr><td>1566091</td><td>CEU8081300082</td><td>2016</td></tr>",
                            "<tr><td>1566755</td><td>CEU7072251182</td><td>2016</td></tr>",
                            "<tr><td>1581312</td><td>CEU6055000082</td><td>2016</td></tr>",
                            "<tr><td>1643184</td><td>CEU5552200082</td><td>2016</td></tr>",
                            "<tr><td>1692037</td><td>CEU2023820082</td><td>2016</td></tr>",
                            "<tr><td>1946470</td><td>CEU6056130082</td><td>2016</td></tr>",
                            "<tr><td>2059688</td><td>CEU6562111182</td><td>2016</td></tr>",
                            "<tr><td>2088889</td><td>CEU6562110082</td><td>2016</td></tr>",
                            "<tr><td>2193730</td><td>CEU4142300082</td><td>2016</td></tr>",
                            "<tr><td>2324221</td><td>CEU5552400082</td><td>2016</td></tr>",
                            "<tr><td>2387007</td><td>CEU5000000082</td><td>2016</td></tr>",
                            "<tr><td>2577582</td><td>CEU6054150082</td><td>2016</td></tr>",
                            "<tr><td>2591139</td><td>CEU3200000082</td><td>2016</td></tr>",
                            "<tr><td>2660967</td><td>CEU7072250082</td><td>2016</td></tr>",
                            "<tr><td>2808821</td><td>CEU8000000082</td><td>2016</td></tr>",
                            "<tr><td>2964829</td><td>CEU7072200082</td><td>2016</td></tr>",
                            "<tr><td>3343498</td><td>CEU2023800082</td><td>2016</td></tr>",
                            "<tr><td>3500099</td><td>CEU4300000082</td><td>2016</td></tr>",
                            "<tr><td>3666442</td><td>CEU7072000082</td><td>2016</td></tr>",
                            "<tr><td>4382353</td><td>CEU4142000082</td><td>2016</td></tr>",
                            "<tr><td>4393096</td><td>CEU7000000082</td><td>2016</td></tr>",
                            "<tr><td>4404573</td><td>CEU6056100082</td><td>2016</td></tr>",
                            "<tr><td>4607346</td><td>CEU6562210082</td><td>2016</td></tr>",
                            "<tr><td>4709118</td><td>CEU6056000082</td><td>2016</td></tr>",
                            "<tr><td>4714691</td><td>CEU6562100082</td><td>2016</td></tr>",
                            "<tr><td>4824182</td><td>CEU3100000082</td><td>2016</td></tr>",
                            "<tr><td>4921094</td><td>CEU6562200082</td><td>2016</td></tr>",
                            "<tr><td>5219626</td><td>CEU2000000082</td><td>2016</td></tr>",
                            "<tr><td>6008747</td><td>CEU4200000082</td><td>2016</td></tr>",
                            "<tr><td>6189003</td><td>CEU5500000082</td><td>2016</td></tr>",
                            "<tr><td>7415788</td><td>CEU3000000082</td><td>2016</td></tr>",
                            "<tr><td>8531125</td><td>CEU6054000082</td><td>2016</td></tr>",
                            "<tr><td>11088411</td><td>CEU6562000182</td><td>2016</td></tr>",
                            "<tr><td>12387258</td><td>CEU6562000082</td><td>2016</td></tr>",
                            "<tr><td>13214434</td><td>CEU0600000082</td><td>2016</td></tr>",
                            "<tr><td>14371112</td><td>CEU6500000082</td><td>2016</td></tr>",
                            "<tr><td>14567692</td><td>CEU4000000082</td><td>2016</td></tr>",
                            "<tr><td>14810432</td><td>CEU6000000082</td><td>2016</td></tr>",
                            "<tr><td>59539370</td><td>CEU0800000082</td><td>2016</td></tr>",
                            "<tr><td>72752850</td><td>CEU0500000082</td><td>2016</td></tr>",
                            "</table>"
                        ]
                    }
                }
            ],
            "execution_count": 33
        },
        {
            "cell_type": "markdown",
            "source": [
                "2. <span style=\"background-color: rgb(255, 255, 255); font-size: 10pt; white-space: pre-wrap; color: rgb(102, 102, 102); font-family: Arvo, serif;\">Create a Union table comparing average weekly earnings&nbsp; of production and nonsupervisory employees between annual_16 and january_17 using the data type 30.&nbsp; Round to the nearest penny.&nbsp; You should have a column for the average earnings and a column for the year, and the period.</span>"
            ],
            "metadata": {
                "azdata_cell_guid": "1bb0ed09-4b02-4132-910e-5903697628af"
            },
            "attachments": {}
        },
        {
            "cell_type": "code",
            "source": [
                "select year, period, round(avg(A.[value]), 0) as Avg_earnings from LaborStatisticsDB.dbo.annual_2016 A\r\n",
                "where series_id in (\r\n",
                "    select s.series_id from LaborStatisticsDB.dbo.series S \r\n",
                "where series_title = 'AVERAGE WEEKLY EARNINGS OF PRODUCTION AND NONSUPERVISORY EMPLOYEES' and data_type_code = '30'\r\n",
                ")\r\n",
                "group by [year], period\r\n",
                "--order by [year]\r\n",
                "\r\n",
                "\r\n",
                "union\r\n",
                "\r\n",
                "select year, period, round(avg(J.[value]), 0) as Avg_earnings from LaborStatisticsDB.dbo.january_2017 J\r\n",
                "where series_id in (\r\n",
                "    select series_id from LaborStatisticsDB.dbo.series\r\n",
                "where series_title = 'AVERAGE WEEKLY EARNINGS OF PRODUCTION AND NONSUPERVISORY EMPLOYEES' and data_type_code = '30'\r\n",
                ")\r\n",
                "group by YEAR, period\r\n",
                "order by YEAR;\r\n",
                "\r\n",
                "\r\n",
                "--I did this code to cross verify the results \r\n",
                " select round(avg(value), 0) as Avg_earnings, year, period  from (\r\n",
                " select value, year, period from LaborStatisticsDB.dbo.annual_2016\r\n",
                "where series_id in (\r\n",
                "    select series_id from LaborStatisticsDB.dbo.series\r\n",
                "where series_title = 'AVERAGE WEEKLY EARNINGS OF PRODUCTION AND NONSUPERVISORY EMPLOYEES' and data_type_code = '30'\r\n",
                ")\r\n",
                "\r\n",
                "union\r\n",
                "\r\n",
                "select value, year, period from LaborStatisticsDB.dbo.january_2017\r\n",
                "where series_id in (\r\n",
                "    select series_id from LaborStatisticsDB.dbo.series\r\n",
                "where series_title = 'AVERAGE WEEKLY EARNINGS OF PRODUCTION AND NONSUPERVISORY EMPLOYEES' and data_type_code = '30'\r\n",
                "))\r\n",
                "t group by YEAR, period;\r\n",
                "--order by year, period;\r\n",
                "\r\n",
                ""
            ],
            "metadata": {
                "azdata_cell_guid": "0841b6d6-9af2-41ba-8e28-dc40d08bd061",
                "language": "sql"
            },
            "outputs": [
                {
                    "output_type": "display_data",
                    "data": {
                        "text/html": "(2 rows affected)"
                    },
                    "metadata": {}
                },
                {
                    "output_type": "display_data",
                    "data": {
                        "text/html": "(2 rows affected)"
                    },
                    "metadata": {}
                },
                {
                    "output_type": "display_data",
                    "data": {
                        "text/html": "Total execution time: 00:00:00.148"
                    },
                    "metadata": {}
                },
                {
                    "output_type": "execute_result",
                    "metadata": {},
                    "execution_count": 34,
                    "data": {
                        "application/vnd.dataresource+json": {
                            "schema": {
                                "fields": [
                                    {
                                        "name": "year"
                                    },
                                    {
                                        "name": "period"
                                    },
                                    {
                                        "name": "Avg_earnings"
                                    }
                                ]
                            },
                            "data": [
                                {
                                    "0": "2016",
                                    "1": "M13",
                                    "2": "797"
                                },
                                {
                                    "0": "2017",
                                    "1": "M01",
                                    "2": "809"
                                }
                            ]
                        },
                        "text/html": [
                            "<table>",
                            "<tr><th>year</th><th>period</th><th>Avg_earnings</th></tr>",
                            "<tr><td>2016</td><td>M13</td><td>797</td></tr>",
                            "<tr><td>2017</td><td>M01</td><td>809</td></tr>",
                            "</table>"
                        ]
                    }
                },
                {
                    "output_type": "execute_result",
                    "metadata": {},
                    "execution_count": 34,
                    "data": {
                        "application/vnd.dataresource+json": {
                            "schema": {
                                "fields": [
                                    {
                                        "name": "Avg_earnings"
                                    },
                                    {
                                        "name": "year"
                                    },
                                    {
                                        "name": "period"
                                    }
                                ]
                            },
                            "data": [
                                {
                                    "0": "808",
                                    "1": "2017",
                                    "2": "M01"
                                },
                                {
                                    "0": "797",
                                    "1": "2016",
                                    "2": "M13"
                                }
                            ]
                        },
                        "text/html": [
                            "<table>",
                            "<tr><th>Avg_earnings</th><th>year</th><th>period</th></tr>",
                            "<tr><td>808</td><td>2017</td><td>M01</td></tr>",
                            "<tr><td>797</td><td>2016</td><td>M13</td></tr>",
                            "</table>"
                        ]
                    }
                }
            ],
            "execution_count": 34
        },
        {
            "cell_type": "code",
            "source": [
                "   --I did this query to verify the top 10 industries production and nonsupervisory \r\n",
                "   --employees fare better for summary question no 2.\r\n",
                "    SELECT top 10 s.series_id, i.industry_code, i.industry_name,\r\n",
                "    AVG(CASE WHEN s.data_type_code = '30' THEN a.value ELSE NULL END) AS avg_earnings_2016,\r\n",
                "    AVG(CASE WHEN s.data_type_code = '30' THEN j.value ELSE NULL END) AS avg_earnings_2017\r\n",
                "FROM LaborStatisticsDB.dbo.series AS s\r\n",
                "INNER JOIN LaborStatisticsDB.dbo.industry AS i ON s.industry_code = i.industry_code\r\n",
                "LEFT JOIN LaborStatisticsDB.dbo.annual_2016 AS a ON s.series_id = a.series_id\r\n",
                "LEFT JOIN LaborStatisticsDB.dbo.january_2017 AS j ON s.series_id = j.series_id\r\n",
                "WHERE s.series_title = 'AVERAGE WEEKLY EARNINGS OF PRODUCTION AND NONSUPERVISORY EMPLOYEES'\r\n",
                "GROUP BY s.series_id, i.industry_code, i.industry_name\r\n",
                "order by avg_earnings_2016 DESC"
            ],
            "metadata": {
                "language": "sql",
                "azdata_cell_guid": "f47421a2-f6db-4b96-b82b-2d3a26007d1e"
            },
            "outputs": [
                {
                    "output_type": "display_data",
                    "data": {
                        "text/html": "Warning: Null value is eliminated by an aggregate or other SET operation."
                    },
                    "metadata": {}
                },
                {
                    "output_type": "display_data",
                    "data": {
                        "text/html": "(10 rows affected)"
                    },
                    "metadata": {}
                },
                {
                    "output_type": "display_data",
                    "data": {
                        "text/html": "Total execution time: 00:00:00.132"
                    },
                    "metadata": {}
                },
                {
                    "output_type": "execute_result",
                    "execution_count": 1,
                    "data": {
                        "application/vnd.dataresource+json": {
                            "schema": {
                                "fields": [
                                    {
                                        "name": "series_id"
                                    },
                                    {
                                        "name": "industry_code"
                                    },
                                    {
                                        "name": "industry_name"
                                    },
                                    {
                                        "name": "avg_earnings_2016"
                                    },
                                    {
                                        "name": "avg_earnings_2017"
                                    }
                                ]
                            },
                            "data": [
                                {
                                    "0": "CEU4348600030",
                                    "1": "43486000",
                                    "2": "Pipeline transportation",
                                    "3": "1730.96",
                                    "4": "1749.56"
                                },
                                {
                                    "0": "CEU5051120030",
                                    "1": "50511200",
                                    "2": "Software publishers",
                                    "3": "1720.42",
                                    "4": "1713.07"
                                },
                                {
                                    "0": "CEU3232400030",
                                    "1": "32324000",
                                    "2": "Petroleum and coal products",
                                    "3": "1718.26",
                                    "4": "1812.6"
                                },
                                {
                                    "0": "CEU4422111230",
                                    "1": "44221112",
                                    "2": "Fossil fuel electric power generation",
                                    "3": "1712.65",
                                    "4": "1758.48"
                                },
                                {
                                    "0": "CEU5552413030",
                                    "1": "55524130",
                                    "2": "Reinsurance carriers",
                                    "3": "1699.97",
                                    "4": "1847.47"
                                },
                                {
                                    "0": "CEU4422111030",
                                    "1": "44221110",
                                    "2": "Electric power generation",
                                    "3": "1688.8",
                                    "4": "1704.42"
                                },
                                {
                                    "0": "CEU3133641130",
                                    "1": "31336411",
                                    "2": "Aircraft",
                                    "3": "1639.99",
                                    "4": "1638.63"
                                },
                                {
                                    "0": "CEU5552392030",
                                    "1": "55523920",
                                    "2": "Portfolio management",
                                    "3": "1637.45",
                                    "4": "1614.25"
                                },
                                {
                                    "0": "CEU6054151130",
                                    "1": "60541511",
                                    "2": "Custom computer programming services",
                                    "3": "1618.81",
                                    "4": "1651.65"
                                },
                                {
                                    "0": "CEU5552320030",
                                    "1": "55523200",
                                    "2": "NULL",
                                    "3": "1603.07",
                                    "4": "1655.98"
                                }
                            ]
                        },
                        "text/html": "<table><tr><th>series_id</th><th>industry_code</th><th>industry_name</th><th>avg_earnings_2016</th><th>avg_earnings_2017</th></tr><tr><td>CEU4348600030</td><td>43486000</td><td>Pipeline transportation</td><td>1730.96</td><td>1749.56</td></tr><tr><td>CEU5051120030</td><td>50511200</td><td>Software publishers</td><td>1720.42</td><td>1713.07</td></tr><tr><td>CEU3232400030</td><td>32324000</td><td>Petroleum and coal products</td><td>1718.26</td><td>1812.6</td></tr><tr><td>CEU4422111230</td><td>44221112</td><td>Fossil fuel electric power generation</td><td>1712.65</td><td>1758.48</td></tr><tr><td>CEU5552413030</td><td>55524130</td><td>Reinsurance carriers</td><td>1699.97</td><td>1847.47</td></tr><tr><td>CEU4422111030</td><td>44221110</td><td>Electric power generation</td><td>1688.8</td><td>1704.42</td></tr><tr><td>CEU3133641130</td><td>31336411</td><td>Aircraft</td><td>1639.99</td><td>1638.63</td></tr><tr><td>CEU5552392030</td><td>55523920</td><td>Portfolio management</td><td>1637.45</td><td>1614.25</td></tr><tr><td>CEU6054151130</td><td>60541511</td><td>Custom computer programming services</td><td>1618.81</td><td>1651.65</td></tr><tr><td>CEU5552320030</td><td>55523200</td><td>NULL</td><td>1603.07</td><td>1655.98</td></tr></table>"
                    },
                    "metadata": {}
                }
            ],
            "execution_count": 1
        },
        {
            "cell_type": "markdown",
            "source": [
                "## <span style=\"font-size:12pt;font-family:Montserrat, sans-serif;color:rgb(53, 74, 95);background-color:rgb(255, 255, 255);font-weight:700;vertical-align:baseline;white-space:pre-wrap;\">Summarize Your Results</span>\n",
                "\n",
                "<span style=\"font-size:10pt;font-family:Arvo, serif;color:rgb(102, 102, 102);background-color:rgb(255, 255, 255);vertical-align:baseline;white-space:pre-wrap;\">With what you know now about the </span> <span style=\"background-color:rgb(255, 255, 255);color:rgb(102, 102, 102);font-family:&quot;Times New Roman&quot;;font-size:13.3333px;white-space:pre-wrap;\">Bureau of Labor Statistics (BLS) Current Employment Survey (CES) results and working with the</span> <span style=\"color:rgb(102, 102, 102);white-space:pre-wrap;font-family:&quot;Times New Roman&quot;;font-size:13.3333px;\">Labor Statistics Database</span><span style=\"background-color:rgb(255, 255, 255);color:rgb(102, 102, 102);font-family:Arvo, serif;font-size:10pt;white-space:pre-wrap;\">, answer the following questions. Note that while this is subjective, you should include relevant data to back up your opinion.</span>\n",
                "\n",
                "1. <span style=\"background-color:rgb(255, 255, 255);font-size:10pt;white-space:pre-wrap;color:rgb(102, 102, 102);font-family:Arvo, serif;\">During which time period did production and nonsupervisory employees fare better?</span>"
            ],
            "metadata": {
                "azdata_cell_guid": "780f65a6-b9e7-4f24-9132-293c47f559e8"
            },
            "attachments": {}
        },
        {
            "cell_type": "markdown",
            "source": [
                "![](data:image/png;base64,iVBORw0KGgoAAAANSUhEUgAAAeAAAABxCAYAAAANmXDHAAAAAXNSR0IArs4c6QAAAARnQU1BAACxjwv8YQUAAAAJcEhZcwAAEnQAABJ0Ad5mH3gAABj5SURBVHhe7Z0NcBVVlscPW1ahU+rMOkTIBKIS0AwsyOdQLhYQHNEJJLKWUxqxVlGI2WFEjCAfwzIuwyARiAiT2QgoWiVGS9dhE2AQhIAlu4WAIAgblQ8JZAIk46ojW1Jlyd5z+968+/r1S/rldfL6df9/VY/XfbtfP16f2/ec/zm3O10uXfr+EgEAAACgU+ly4cKF0DngvXv30vDhw9UaAMEDfdz/wEbhhO0+evQoufx38l8AAAAAdCpwwAAAAEAKgAMGAAAAUgAcMAAAAJAC4IABAACAFAAHDAAAAKQAOGAAAAAgBcABAwAAACkADhgAAABIAXDAAAAAQAqAAwYdRBNtKMmirKwsWvmhagIApAkdeP02bqCpGBckcMAAAABACoADbo0PV8oIMCtrKm1oVG3AJRk0sbKBGhoaaPoQ1QQASBNw/XYGcMCtsP+9MqJZFVRRsJk27WlSrQC45+OPP1ZLiZPMZ4F7YKNw4ge7wwHHZT/tXko0e9REGnlnPm3espuiXLCqY0zdEOuYmzZMjVXNLWra/lopvqkd2I+3wvko+1cY+zjup2o93K5+k9436rfJbdZvijpmyYbo82LUjqyXc/ZAniP52f20smVf5/Np/39FXrZjx+zXznPrEdu3b6e5c+fSihUrVIt7nnvuOflZPobXWPZxODfx+rSrvma3u5MtLVvLdtsxU1UP9KuN9Lni82KNJ/pcxenTbdrI7bl3d/1aRF+78fe17TdsGm1WW1KFX+wOBxyPD3dTGc2mkUOIMkaMp/yaTbTb7FyZI2l8AcU6ZrG2e4voXrNKaGKmauIOXyCOVmOldBoaqsWRBQUVdLBhOg2VO7lHXpAFh6lin3G8pYUxFx3vt3uU3ke89lVQvsN+Em4ftonG62PWzKbN0wbZLs7NNG1YFlVefzDyvTXTaFDU8SKpKz5Gq/Bnsyopu7XvZKcgLliq0N95kCrEeRehEVU3rImc45j9xGtfNlU6OovO4dChQ/KdL9RELnS+wHfs2CGX9TG8ZGIx26WMdtucXtOeTcLC+TR+RIZqcd/X9q+YR/RbvY94KVs6BVTcniVsWK32PViRT2UFrQ30HYdfbaQpK8iiQVvGi3GCzxX3/TIqtAW9bm3EtH3uXV6/0okX0mHjejtYQXJ8iLl+bfvJcUhtThV+sTsccBys9PNIyzlm9qIBYmiKTkNnSGVMdsfcuJs21bByjrhVeSzhbItaailDqUh0/JjPumI/VU0Tw2TF4ojzEcebzhfL0sqoQSxj4pro+k3mRCqZJd6X7naIom0ObchIGSQcrrcNoLOqac1EPUAPpZF8vLrTtiDEPbNrWv9OyynMppKW7xQDhJMDaayPcR78e9fMSDS88Y4nnniCxo4dK5fdXujmBc6f5WN4jjrPZe+ZvcAhcEygrw2dYdiRGVIkA6XYAFVgCzxlgCusV5/wtZA8vrWRhs9V5UTR6xnV96PGDfc2knhy7oVKXs3jozkW8HizWNq8bHUkQNj/hlC74jsXG/v5Ab/YHQ7YEZ1+1t3UcjT2wSRjYokYyKIds3YYrJwtmuh0nVqMYQD1MgctN0hlbnM0TGa2qwsp+/o4sWdBNmWrRQtxEYto1bzAGDOwSB7zPDlT/3m8ZFU+ZZvnTv3+acNSo6TikciF3nkDuwqczEDMIXBMrq9lUK9ctWgnt5dyKAoOlERfS9VkH3/ayCL/zpG2c2U794nayItzr/pK/vXRIwbb3BIl9VQv161xNOY3+AQ/2B0O2AnVqc0BfugojjynUVVU2s7umC0VkV9R1BJhcqe0olbzs1bU2qKwE6Cp/rD410oFR2ov8eoq9hpNFg3i700jht7L6aoyqmxJZarou2A8jYxywDyQcGrfPDeprQFr3FzonT2w6/OqswgycIzK0iTY12Lq71lUKAbfdMGPNnJDYuOBtwzIjudWD9NpHwXBrZFqu8MBOyBTxvZOXcBt9rSddswqJSQjw9ho1LpIrHqOdbxCKptVTQ3tSI9mZA8Q/+Yb9Z7oVySSZecrvkemnCLbueaTVsjUsrAG167kuRtE08hMy5lYql3+Vlm/KqPCNHDCKRnY1RwGqz+rwNGmVFz3NVV/38x92thezSo7jfCdjVzgfjzoTNqR2UshqbQ7HHAMKm1iThpQLzmg2OunstZlpaEtFWFTZmJvq0ZjO157a5MuU82WiieaXezkqNKFSK0p6tw5Ol8bQ6YrJ+yfaNzpQk/dwK4yM9yf4wSObvuanrxVcW87+7SP8JeNYokpcbkdD7wkKngz0fMIdGYvm7J5HsDnVkJaI+vCatkvpMrucMB24tVUBFLtGmk7C6vusXlLFVWJzhfr8Jw7YbtRE6nanDUqL8zoi4RvH0qvFLSqI7qY5MUzQaNnbIvfKzMZ/orG7Rd6Sgd2ORmrjAqlejUnXylc9jVLhZlzIaxbWdIpBW3iKxuZNG6geTKYN0pcbscDT9HBW2HUNde0YR5NE4FcJBBTNWFjMhhfp4V1+XJs8hupsDscsA1rxrJdxSocZ4+KbiZvUyqjMqG4YicVic76W3X7j05nt7zad9EMnRGZ8h91PPP2BK6JypmQke/l24c6PAVt1gJl2t5I5cfcM9w2Q2eoW530MY2XefHzjO+R70VvL6yLnvHpF8wLnUndwK4mYwniTa5z1deGTJf9yiwT1BenXwraxC82ipxT8RKB0oCa2ImRrmzkFrfXr8owRcpqHNwPiL6TQsDXZfWsyDEGfV5CDZUlIiz2J51t9y4XLly4pJZDw969e2n48OFqrYMx62NRaWdWCYNExMi3//jPSfgDo45tSzuzmi9cyrUv2+0vaQSnuJiOuMDd9nHrPKIPxiN1NrL6Pt8/a3e4oOPpaLuPHj1KLkMBdzRqElGswmjlNg1g0XiaePqa020McW+nSiP44u7I6Lpt9HwHc9Y+MEm9jUAq6Cy7wwF3NA61WMmHK60aWTtuRQoN8gEoFPswB1ULi1sqAC7gDIyVXfDbQxIACAtwwB0N12L1IyBVrUS+9KMpOS1t1l1ae6XwsYqpgW8rcqgBD1OPnHQzGxrEYN0b3trtXACAzgA1YAACCPq4/4GNwglqwAAAAECKgQMGAAAAUgAcMAAAAJAC4IABAACAFAAHDAAAAKQAOGAAAAAgBcABAwAAACkADhgAAABIAXDAAAAAQAqAAwYAAABSQJdt27aF7lGUl112GX333XdqDYDggT7uf2CjcMJ2HzNmtFwOpQL+/vvv1RIAwQR93P/ARuHEtHsoHfClS6ET/SBkoI/7H9gonJh273Lp0veh6wXHjh2nPn1y5HJD49/kOwBBoun8GRp080/Rv30MbBROtN2ZUCrghoYGtQRAMPnqyya1BPwKbBROTLuHUgGbIPoEQSUr8yr0b58DG4UTtjsTSgW8a9d7agmAYHLs0wNqCfgV2CicmHaHAkb0CQIK1JX/gY3CCRQwAAEG6sr/wEbhBArYANEnCCpQV/4HNgonUMAABBioK/8DG4UTKGADRJ8gqEBd+R/YKJxAAQMQYKCu/A9sFE6ggA0QfYKgAnXlf2CjcAIFDECAgbryP7BROIECNkD0CYIK1JX/gY3CCRQwAAEG6sr/wEbhBArYANEnCCpQV/4HNgonUMAABBioK/8DG4UTbxTwuY305MOVVEe59C8vLaMJ3VV7mpFM9HnmTD2VL1tE33wTOcZ9RQ/S2NvuVGsWX3/9FS17diGdPfsXuX7llVdR6cz51LNntlzXHD1yiFY894xas5jxxFzq13+gWgPAPcmrqyNUNWUR1ao1Jq+0ior6qRWD5h0LaN5rn6k1Qd58Wj2pv1oxaaLaZ6ZT1XGi3vevpDljM1S7Rd36Iio3vzCKvlS0ZCHldVOrASAZG+lzbj+P+hza272yEUieJBTwOdr45AQa/yzRP5fkqrb0wgsFzM5y4dOzacrUX9PqtVXyxc7y9apXaMf2LWovy0k/vWAW3ZTbr2W/ocNGSMfN2zT8mbVr/kALni5r2Y+dOTtk/i4AEiF5dWU5XxIOV/fHxff3pdryIqo6qnZR8IA/7zUSzlHtu2Qy9a5dRMXrj6g9LNgBFE9ZRXSX2K7a7OROinyf+SrNExtzbqUBAXK+XingE3sOULNaZrsdcAhgvLQRSA7T7gk74I/++AjVjnmRNi2fQD1UW7oxevQotdR+DhzYSwMGDqacPjepFjE+iGVua2yM/MH/XTu30Q29+9A9v3xAtZBc5jbexly8eJGOCCfLjtlUxcOG30I9evykRTkD4JY+Nw5WS+2lPxWJgdpUu93G3kvsB2sPGIN281baIAb8vFJDmXYbR3NKx4kd36Ba7RmOrqN5e26lxWvFfteqNreo7+g9YjAFyP8mbaPmRqFm8yZTEb1Ph1vO8wdUy205ap3pDBsB15h2T9gB3/yrjbS8IE3zzQqvasBN588J5/mtWmNH+q1sy8zMkuucev6k7ij17z+QunbtKtuY48c+ocOHDshtvI/miy/+Kp2xhrdxepudMACJ0Fn1xeZD79MJGkeDo9LSTVT7n1vF+2e051CT1dRvMq2eO65dDrTunXXyOyYGLBXqjY2yaMAIoqp3OCji836Siu4YR5kijj/ReF7u0Rk2Au5JSgEHAS8UcEHhPfKd08ucStZ13oxru9PIW1knODtQTjVzmvqhySVyG+/Dzvmf7r6PTp44Rr//3TzZpuvLrIpRAwaJkrwCdqC5gU6Jt96ZEXkkVVhOljFoc+p6Ou0ZMV+qMO0E2o1Wv/dPoPQseMXHKxt1G3gr9a79gOqaD9Aeik3Td7iNQEIkpYCDgBcK+Oqrf0gLFy2XDpJrwTNLS2Sd97HpT0WpXQ0r21Urn5Xpaf7cj37092qLBaeenylbJR04H4uPOaHgbpr0wCNqDwDc470CFoppDSvRvjRiYBwlenQdFU95g3osqaI5Y73JYQZV/TLJ2aiJGutVMNRNnJ88EaiseZ+orTR9B9gIJAYUsAcKmFXqgvlPyjTysvJKOXlq/749VDqjOGpyFfPll/8rlS2nouM5VP7M3NmPyeVVFS+3TOji7+DvAiARvFXAkVmxUXVEAzl5p5yolOuHrXqABAiw+mW8tFHu4HF04vgN0YFKfYMxOauDbAQSBgo4SQXMavaVl1+QyzOfWiDVMCvYpxculbcY/ent1+U+3M7rL6+rjLk9iSdW8Tbehx3s6srn5cSs4kcflwqa087s1DlNXVP9lvoUAO7wUgHXrY/ckmK/BalbZl+i4+uoXE7emWw4yvN0lj9jpKsTJcjql/E0S8H126jzH6EjbQQSBwo4SQWsJ1txurhr18tVK8llbtOTs9i5clraPltaz3rmbdoBs6O95pofR6WvtQO3T84CoC28Ulfx7inVyPqjeM+7yzZ5h2fjtpaubouAq18mORtZztMNHWYj0C6ggJNUwNqx8kxmntGs0bObtWNlRo+5XU6u2v2+GE0Ub735qnTSeiJXRkZ3qX45hW2mr/ft/W+plO2zqAFoCy/UVVvOVyLrj0S15euoTjWx81xSvlV87rF2pzqDrn4ZTxWwDUv1qhR0B9kItA/T7gk/CetczUx6uLLFjNHkltBLyydQOt2klMyTgta/+iLt2vmuWrNwehKWntHMKpfhWdE6da1hhbv6heelAzfBk7BAe0nqSVg8QM9hJ+iM/YlY2llrYpx2q8ezPeFK7xv3SU3Bof02sh6UcipOcGQ99eoGKjVSzp7aCCSFfhJWKP8YAytgnYZO7lF9APgTjrK5j6N/+xfYKJxouzP4a0jo/CCgJKWAQacAG4UTrYBRAwYggHRkfRF4A2wUTky7QwEj+gQBBerK/8BG4QQKGIAAA3Xlf2CjcAIFbIDoEwQVqCv/AxuFEyhgAAIM1JX/gY3CCRSwAaJPEFSgrvwPbBROtALusnPnzlA6YH0f1sGP/oe++lL9PUwAAgT3cfRvfwMbhZNQ3wd87Nhx6tMnRy4j+gRBpOn8GRp080/Rv30MbBROtN2ZUNaAGxoa1BIAwQSKyv/ARuHEtDtqwIg+QUBBfdH/wEbhRNeAMQsagACCGbb+BzYKJ5gFbYDoEwQVqCv/AxuFEyhgAAIM1JX/gY3CCRSwAaJPEFSgrvwPbBROoIABCDBQV/4HNgonUMAGiD5BUIG68j+wUTiBAgYgwEBd+R/YKJxAARsg+gRBBerK/8BG4QQKGIAAA3Xlf2CjcAIFbIDoEwQVqCv/AxuFEyhgAAIM1JX/gY3CCRSwAaJPEFSgrvwPbBROoIABCDBQV/4HNgonSSvgczUz6eHKOrUmyC2hl5ZPoO5qNZ1oX/R5hKqmLKJatRZDzmRaPHccdVOr1LyVlsxZRyfUapvb7eTNp9WT+qsVANyRrLr6+uuvaNmzC+ns2b+oFqIZT8ylfv0HqrUIO7ZvoderXlFrRKPH/JwmPfCIWotw8eJFWv3C83T40AG6r+hBGnvbnWpLLOtffZF27XxXrcX/7nQmGRvpc24/j/q8OZ1fvc3JPk72vvLKq6h05nzq2TNbtQAv0Ao4YQcsne/OMYbD/Yj+ffxvaGMaOWFWwKNHj5LL3qZ/LMd86v6VNGdshtV0dB0Vl2+lvNIqKupnNdWtL6Ly2nFUunYy5VpNzijHfJ3xWQDcwFE29/H29m89GPMgrp2eHvDtjpAH9f379rQM1GfO1FP5skU0dNiIqEGeP7+x5m2655eT6K0319OEgrsdHXC8zweNZG2k7TFg4GAqfvRx6tq1a5QTNR3w0SOHaMVzz9BDk0toy5+r6abcfq7Ord22IHm03ZmEU9DdC5bRpihHezPdXSLcSN1O2ntONfkc/eO9pnnHG0IV96URA5XzZYcsnG9v4ZBNB5p7x2TqTVtpw47W/yB33TusisfRYDhfkCB9bhysltrH1Vf/kBYuWh7laIcNv4V69PgJHTiwV7VYzpIH6ClTf90yQPM7r3M7b2fYARwRr2fKVlH2dTfINidYIf/p7dcD73yZZG3U2NhAP/vZP9IVl19BTU3W4Hvm9CnKzr5eOmUN26Cm+j9oWXkl/cOAQarVHaPH3C7fv/7qS/kOkse0O2rAnnGEtr32GVHevZSnc8vNDXRKvF3XQztkRbfBNCKH6ETjedXggFC/G2pJOO8JratkABzorPrip58clWnKnr2uUy2WE90u1Nk33/xNbmfYkT82/Smp0lrj+LFP6OSJYy0Df5DxwkZX/OAH1DunL+3auU2e9//avYvuzL+Lrrnmx9JBMxwQzZ77bzKoAqnHtLsnDvjsaa4H96FeaVIE7ggFrNVv0R1GrbZbFvGwdOpsHKVb30DNatGOVr8TdSobgARIVl05welNdqqZmVmqxVJhGdd2F471crnO+/z+d/MoJ+dGqcK0E3ALp07ZodefOknFU4paXqtWPisdTJDwykY33tRPKN96GbwwGRneDMQ6G3FD7z6U0+cm1QqSxVsFfKCS5m0S7+NvoZutFt/jvQJ2UL+S/jQ4Tyjd11ZRreFpm3esoqrjasUJqF+QJF4rYD0YMzzgO8Fp5qcXzKLiksfptp//QrUmBjtsdsInTx6j1Wur5ItTp03nz8nJW0FywsnYiM/DF1/8VQZDrHB79sqm6uq3pBpuK8vQGnxcDnY46Hls2kPyvD/40KNJHRNE450CFs53/PyN1izoX6WL+/VeATuqX0XupCoqzfuMquZEovm1dC8V5YiN2VmRmdAGUL8gWbxUwDwo65nLZq3XZPu7f5YTgp5euNRxeyJwnbmg8B61ZtWjeUIRp6Z1rTMIeGmjwYOH0/9duCDr9Bp20IkGLOxouVSggx8+7zNLS+SEL+AN3ijgcxvpSXa+NIEWp9ktSN4q4HjqNwI7Yd2h+TVnLNFZoYB7Z16r9jCA+gUe4KUCfuvNV1tuG7LfBsQKjLcdP/4p/eZfF7fUGS9e/FaqJzNd7YZE909nvLQR24UnzXld5+Xj8i1LPIEuSNmHVJK8Ambn+3Al1bHz3VSSNqlnjZcKuDX1G5ejH4jPOCtcqF/gBV6pq9buKWU4Hc0129vENjNNybNxuV4cL10dD1a//DmuJZvo2nCQJhIlYyMd4ID0IzkFnObOl/FOAbetfu3wPcDF5SepaInDPcBQv8AjvFBXbTlfhtPNfMsQp5+10+TbXtau+YO8zzfRdDRP9uFJP1xv1oqLj8f3D4/Juz1QDthLBWyHMwnsoNlRJwOnnrkP2AMs0H5Muyf8II6P/jjBmnTlRBo+ESuZB3E071hA84QDNh+yYUfv00IrT7WyHtAh1PSSha4dOgDxSOYpS+z0+GEYrEadcHoYBw/UGrvTbu149qctmTVnTRCfgsW010b6gRsclDgFR+w4d9Zuo5lPLZDr9idcmehz62Qj8yEfwDva/SSsINBxT8ICwB9wlM19HP3bv8BG4UTbncFfQ0LnBwElGQUMOgfYKJxoBZz8fcBpSMc8CQsA/9CR9UXgDbBRODHtDgWM6BMEFKgr/wMbhRMoYAACDNSV/4GNwgkUsAGiTxBUoK78D2wUTqCAAQgwUFf+BzYKJxG7E/0/uj0mJueUeQkAAAAASUVORK5CYII=)\n",
                "\n",
                "The above details shows that 2017 is the fare better time period for production and nonsupervisory employees."
            ],
            "metadata": {
                "azdata_cell_guid": "f11f1fb2-f7d1-41e5-bc9c-84087d7cfc93"
            },
            "attachments": {}
        },
        {
            "cell_type": "markdown",
            "source": [
                "2. <span style=\"background-color: rgb(255, 255, 255); font-size: 10pt; white-space: pre-wrap; color: rgb(102, 102, 102); font-family: Arvo, serif;\">In which industries did production and nonsupervisory employees fare better?</span>"
            ],
            "metadata": {
                "azdata_cell_guid": "f606e5e5-f6f1-4070-bbfa-e31617b43e56"
            },
            "attachments": {}
        },
        {
            "cell_type": "markdown",
            "source": [
                "Pipeline transportation, Software publishers, Petroleum and coal products, Fossil fuel electric power generation\n",
                "\n",
                "Reinsurance carriers, Electric power generation, Aircraft, Portfolio management and\n",
                "\n",
                "Custom computer programming services these are the industries of production and nonsupervisory employees fare better."
            ],
            "metadata": {
                "azdata_cell_guid": "94e18f5d-b87b-4ba6-b1fd-bde035dafc04"
            },
            "attachments": {}
        },
        {
            "cell_type": "markdown",
            "source": [
                "3. <span style=\"font-size: 10pt; font-family: Arvo, serif; color: rgb(102, 102, 102); background-color: rgb(255, 255, 255); font-variant-numeric: normal; font-variant-east-asian: normal; vertical-align: baseline; white-space: pre-wrap;\">Now that you have explored the datasets, is there any data or information that you wish you had in this analysis?</span>"
            ],
            "metadata": {
                "azdata_cell_guid": "101e4449-601a-46c6-b217-23f3339cfa76"
            },
            "attachments": {}
        },
        {
            "cell_type": "markdown",
            "source": [
                "It would be useful if we have detailed information about \\[value\\] for what it is about and foot notes details also.\n",
                "\n",
                "It would be interesting to have the data broken down by the states or regions to see how labor market conditions vary accross different areas, \n",
                "\n",
                "Also this database provides the data for women employes, but it would be useful to have the datas like other demographic factors such as race, age and education level to see how different groups are faring in the labor market."
            ],
            "metadata": {
                "azdata_cell_guid": "d07e9180-f5e0-49b4-b395-2c6c8a5f8aac"
            },
            "attachments": {}
        }
    ]
}